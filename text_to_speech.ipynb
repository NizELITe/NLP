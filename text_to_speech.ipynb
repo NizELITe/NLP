{
 "cells": [
  {
   "cell_type": "code",
   "execution_count": 123,
   "metadata": {
    "_cell_guid": "b1076dfc-b9ad-4769-8c92-a6c4dae69d19",
    "_uuid": "8f2839f25d086af736a60e9eeb907d3b93b6e0e5",
    "trusted": true
   },
   "outputs": [
    {
     "name": "stdout",
     "output_type": "stream",
     "text": [
      "Defaulting to user installation because normal site-packages is not writeable\n",
      "Requirement already satisfied: transformers in c:\\users\\dell\\appdata\\roaming\\python\\python312\\site-packages (4.47.1)\n",
      "Requirement already satisfied: datasets in c:\\users\\dell\\appdata\\roaming\\python\\python312\\site-packages (3.2.0)\n",
      "Requirement already satisfied: soundfile in c:\\users\\dell\\appdata\\roaming\\python\\python312\\site-packages (0.12.1)\n",
      "Requirement already satisfied: speechbrain in c:\\users\\dell\\appdata\\roaming\\python\\python312\\site-packages (1.0.2)\n",
      "Requirement already satisfied: accelerate in c:\\users\\dell\\appdata\\roaming\\python\\python312\\site-packages (1.2.1)\n",
      "Requirement already satisfied: filelock in c:\\programdata\\anaconda3\\lib\\site-packages (from transformers) (3.13.1)\n",
      "Requirement already satisfied: huggingface-hub<1.0,>=0.24.0 in c:\\users\\dell\\appdata\\roaming\\python\\python312\\site-packages (from transformers) (0.27.0)\n",
      "Requirement already satisfied: numpy>=1.17 in c:\\programdata\\anaconda3\\lib\\site-packages (from transformers) (1.26.4)\n",
      "Requirement already satisfied: packaging>=20.0 in c:\\programdata\\anaconda3\\lib\\site-packages (from transformers) (24.1)\n",
      "Requirement already satisfied: pyyaml>=5.1 in c:\\programdata\\anaconda3\\lib\\site-packages (from transformers) (6.0.1)\n",
      "Requirement already satisfied: regex!=2019.12.17 in c:\\programdata\\anaconda3\\lib\\site-packages (from transformers) (2024.9.11)\n",
      "Requirement already satisfied: requests in c:\\programdata\\anaconda3\\lib\\site-packages (from transformers) (2.32.3)\n",
      "Requirement already satisfied: tokenizers<0.22,>=0.21 in c:\\users\\dell\\appdata\\roaming\\python\\python312\\site-packages (from transformers) (0.21.0)\n",
      "Requirement already satisfied: safetensors>=0.4.1 in c:\\users\\dell\\appdata\\roaming\\python\\python312\\site-packages (from transformers) (0.4.5)\n",
      "Requirement already satisfied: tqdm>=4.27 in c:\\programdata\\anaconda3\\lib\\site-packages (from transformers) (4.66.5)\n",
      "Requirement already satisfied: pyarrow>=15.0.0 in c:\\programdata\\anaconda3\\lib\\site-packages (from datasets) (16.1.0)\n",
      "Requirement already satisfied: dill<0.3.9,>=0.3.0 in c:\\programdata\\anaconda3\\lib\\site-packages (from datasets) (0.3.8)\n",
      "Requirement already satisfied: pandas in c:\\programdata\\anaconda3\\lib\\site-packages (from datasets) (2.2.2)\n",
      "Requirement already satisfied: xxhash in c:\\users\\dell\\appdata\\roaming\\python\\python312\\site-packages (from datasets) (3.5.0)\n",
      "Requirement already satisfied: multiprocess<0.70.17 in c:\\users\\dell\\appdata\\roaming\\python\\python312\\site-packages (from datasets) (0.70.16)\n",
      "Requirement already satisfied: fsspec<=2024.9.0,>=2023.1.0 in c:\\programdata\\anaconda3\\lib\\site-packages (from fsspec[http]<=2024.9.0,>=2023.1.0->datasets) (2024.6.1)\n",
      "Requirement already satisfied: aiohttp in c:\\programdata\\anaconda3\\lib\\site-packages (from datasets) (3.10.5)\n",
      "Requirement already satisfied: cffi>=1.0 in c:\\programdata\\anaconda3\\lib\\site-packages (from soundfile) (1.17.1)\n",
      "Requirement already satisfied: hyperpyyaml in c:\\users\\dell\\appdata\\roaming\\python\\python312\\site-packages (from speechbrain) (1.2.2)\n",
      "Requirement already satisfied: joblib in c:\\programdata\\anaconda3\\lib\\site-packages (from speechbrain) (1.4.2)\n",
      "Requirement already satisfied: scipy in c:\\programdata\\anaconda3\\lib\\site-packages (from speechbrain) (1.13.1)\n",
      "Requirement already satisfied: sentencepiece in c:\\users\\dell\\appdata\\roaming\\python\\python312\\site-packages (from speechbrain) (0.2.0)\n",
      "Requirement already satisfied: torch>=1.9 in c:\\users\\dell\\appdata\\roaming\\python\\python312\\site-packages (from speechbrain) (2.5.1+cu124)\n",
      "Requirement already satisfied: torchaudio in c:\\users\\dell\\appdata\\roaming\\python\\python312\\site-packages (from speechbrain) (2.5.1+cu124)\n",
      "Requirement already satisfied: psutil in c:\\programdata\\anaconda3\\lib\\site-packages (from accelerate) (5.9.0)\n",
      "Requirement already satisfied: pycparser in c:\\programdata\\anaconda3\\lib\\site-packages (from cffi>=1.0->soundfile) (2.21)\n",
      "Requirement already satisfied: aiohappyeyeballs>=2.3.0 in c:\\programdata\\anaconda3\\lib\\site-packages (from aiohttp->datasets) (2.4.0)\n",
      "Requirement already satisfied: aiosignal>=1.1.2 in c:\\programdata\\anaconda3\\lib\\site-packages (from aiohttp->datasets) (1.2.0)\n",
      "Requirement already satisfied: attrs>=17.3.0 in c:\\programdata\\anaconda3\\lib\\site-packages (from aiohttp->datasets) (23.1.0)\n",
      "Requirement already satisfied: frozenlist>=1.1.1 in c:\\programdata\\anaconda3\\lib\\site-packages (from aiohttp->datasets) (1.4.0)\n",
      "Requirement already satisfied: multidict<7.0,>=4.5 in c:\\programdata\\anaconda3\\lib\\site-packages (from aiohttp->datasets) (6.0.4)\n",
      "Requirement already satisfied: yarl<2.0,>=1.0 in c:\\programdata\\anaconda3\\lib\\site-packages (from aiohttp->datasets) (1.11.0)\n",
      "Requirement already satisfied: typing-extensions>=3.7.4.3 in c:\\programdata\\anaconda3\\lib\\site-packages (from huggingface-hub<1.0,>=0.24.0->transformers) (4.11.0)\n",
      "Requirement already satisfied: charset-normalizer<4,>=2 in c:\\programdata\\anaconda3\\lib\\site-packages (from requests->transformers) (3.3.2)\n",
      "Requirement already satisfied: idna<4,>=2.5 in c:\\programdata\\anaconda3\\lib\\site-packages (from requests->transformers) (3.7)\n",
      "Requirement already satisfied: urllib3<3,>=1.21.1 in c:\\programdata\\anaconda3\\lib\\site-packages (from requests->transformers) (2.2.3)\n",
      "Requirement already satisfied: certifi>=2017.4.17 in c:\\programdata\\anaconda3\\lib\\site-packages (from requests->transformers) (2024.12.14)\n",
      "Requirement already satisfied: networkx in c:\\programdata\\anaconda3\\lib\\site-packages (from torch>=1.9->speechbrain) (3.3)\n",
      "Requirement already satisfied: jinja2 in c:\\programdata\\anaconda3\\lib\\site-packages (from torch>=1.9->speechbrain) (3.1.4)\n",
      "Requirement already satisfied: setuptools in c:\\programdata\\anaconda3\\lib\\site-packages (from torch>=1.9->speechbrain) (75.1.0)\n",
      "Requirement already satisfied: sympy==1.13.1 in c:\\users\\dell\\appdata\\roaming\\python\\python312\\site-packages (from torch>=1.9->speechbrain) (1.13.1)\n",
      "Requirement already satisfied: mpmath<1.4,>=1.1.0 in c:\\programdata\\anaconda3\\lib\\site-packages (from sympy==1.13.1->torch>=1.9->speechbrain) (1.3.0)\n",
      "Requirement already satisfied: colorama in c:\\programdata\\anaconda3\\lib\\site-packages (from tqdm>=4.27->transformers) (0.4.6)\n",
      "Requirement already satisfied: ruamel.yaml>=0.17.28 in c:\\programdata\\anaconda3\\lib\\site-packages (from hyperpyyaml->speechbrain) (0.18.6)\n",
      "Requirement already satisfied: python-dateutil>=2.8.2 in c:\\programdata\\anaconda3\\lib\\site-packages (from pandas->datasets) (2.9.0.post0)\n",
      "Requirement already satisfied: pytz>=2020.1 in c:\\programdata\\anaconda3\\lib\\site-packages (from pandas->datasets) (2024.1)\n",
      "Requirement already satisfied: tzdata>=2022.7 in c:\\programdata\\anaconda3\\lib\\site-packages (from pandas->datasets) (2023.3)\n",
      "Requirement already satisfied: six>=1.5 in c:\\programdata\\anaconda3\\lib\\site-packages (from python-dateutil>=2.8.2->pandas->datasets) (1.16.0)\n",
      "Requirement already satisfied: ruamel.yaml.clib>=0.2.7 in c:\\programdata\\anaconda3\\lib\\site-packages (from ruamel.yaml>=0.17.28->hyperpyyaml->speechbrain) (0.2.8)\n",
      "Requirement already satisfied: MarkupSafe>=2.0 in c:\\programdata\\anaconda3\\lib\\site-packages (from jinja2->torch>=1.9->speechbrain) (2.1.3)\n",
      "Note: you may need to restart the kernel to use updated packages.\n"
     ]
    }
   ],
   "source": [
    "pip install transformers datasets soundfile speechbrain accelerate"
   ]
  },
  {
   "cell_type": "code",
   "execution_count": null,
   "metadata": {},
   "outputs": [
    {
     "name": "stdout",
     "output_type": "stream",
     "text": [
      "^C\n",
      "Note: you may need to restart the kernel to use updated packages.\n"
     ]
    },
    {
     "name": "stdout",
     "output_type": "stream",
     "text": [
      "Defaulting to user installation because normal site-packages is not writeable\n",
      "Requirement already satisfied: soundfile in c:\\users\\dell\\appdata\\roaming\\python\\python312\\site-packages (0.12.1)\n",
      "Requirement already satisfied: librosa in c:\\users\\dell\\appdata\\roaming\\python\\python312\\site-packages (0.10.2.post1)\n",
      "Requirement already satisfied: cffi>=1.0 in c:\\programdata\\anaconda3\\lib\\site-packages (from soundfile) (1.17.1)\n",
      "Requirement already satisfied: audioread>=2.1.9 in c:\\users\\dell\\appdata\\roaming\\python\\python312\\site-packages (from librosa) (3.0.1)\n",
      "Requirement already satisfied: numpy!=1.22.0,!=1.22.1,!=1.22.2,>=1.20.3 in c:\\programdata\\anaconda3\\lib\\site-packages (from librosa) (1.26.4)\n",
      "Requirement already satisfied: scipy>=1.2.0 in c:\\programdata\\anaconda3\\lib\\site-packages (from librosa) (1.13.1)\n",
      "Requirement already satisfied: scikit-learn>=0.20.0 in c:\\programdata\\anaconda3\\lib\\site-packages (from librosa) (1.5.1)\n",
      "Requirement already satisfied: joblib>=0.14 in c:\\programdata\\anaconda3\\lib\\site-packages (from librosa) (1.4.2)\n",
      "Requirement already satisfied: decorator>=4.3.0 in c:\\programdata\\anaconda3\\lib\\site-packages (from librosa) (5.1.1)\n",
      "Requirement already satisfied: numba>=0.51.0 in c:\\programdata\\anaconda3\\lib\\site-packages (from librosa) (0.60.0)\n",
      "Requirement already satisfied: pooch>=1.1 in c:\\users\\dell\\appdata\\roaming\\python\\python312\\site-packages (from librosa) (1.8.2)\n",
      "Requirement already satisfied: soxr>=0.3.2 in c:\\users\\dell\\appdata\\roaming\\python\\python312\\site-packages (from librosa) (0.5.0.post1)\n",
      "Requirement already satisfied: typing-extensions>=4.1.1 in c:\\programdata\\anaconda3\\lib\\site-packages (from librosa) (4.11.0)\n",
      "Requirement already satisfied: lazy-loader>=0.1 in c:\\programdata\\anaconda3\\lib\\site-packages (from librosa) (0.4)\n",
      "Requirement already satisfied: msgpack>=1.0 in c:\\programdata\\anaconda3\\lib\\site-packages (from librosa) (1.0.3)\n",
      "Requirement already satisfied: pycparser in c:\\programdata\\anaconda3\\lib\\site-packages (from cffi>=1.0->soundfile) (2.21)\n",
      "Requirement already satisfied: packaging in c:\\programdata\\anaconda3\\lib\\site-packages (from lazy-loader>=0.1->librosa) (24.1)\n",
      "Requirement already satisfied: llvmlite<0.44,>=0.43.0dev0 in c:\\programdata\\anaconda3\\lib\\site-packages (from numba>=0.51.0->librosa) (0.43.0)\n",
      "Requirement already satisfied: platformdirs>=2.5.0 in c:\\programdata\\anaconda3\\lib\\site-packages (from pooch>=1.1->librosa) (3.10.0)\n",
      "Requirement already satisfied: requests>=2.19.0 in c:\\programdata\\anaconda3\\lib\\site-packages (from pooch>=1.1->librosa) (2.32.3)\n",
      "Requirement already satisfied: threadpoolctl>=3.1.0 in c:\\programdata\\anaconda3\\lib\\site-packages (from scikit-learn>=0.20.0->librosa) (3.5.0)\n",
      "Requirement already satisfied: charset-normalizer<4,>=2 in c:\\programdata\\anaconda3\\lib\\site-packages (from requests>=2.19.0->pooch>=1.1->librosa) (3.3.2)\n",
      "Requirement already satisfied: idna<4,>=2.5 in c:\\programdata\\anaconda3\\lib\\site-packages (from requests>=2.19.0->pooch>=1.1->librosa) (3.7)\n",
      "Requirement already satisfied: urllib3<3,>=1.21.1 in c:\\programdata\\anaconda3\\lib\\site-packages (from requests>=2.19.0->pooch>=1.1->librosa) (2.2.3)\n",
      "Requirement already satisfied: certifi>=2017.4.17 in c:\\programdata\\anaconda3\\lib\\site-packages (from requests>=2.19.0->pooch>=1.1->librosa) (2024.12.14)\n"
     ]
    }
   ],
   "source": [
    "pip install soundfile librosa"
   ]
  },
  {
   "cell_type": "code",
   "execution_count": null,
   "metadata": {
    "execution": {
     "iopub.execute_input": "2024-12-24T07:22:11.422592Z",
     "iopub.status.busy": "2024-12-24T07:22:11.422306Z",
     "iopub.status.idle": "2024-12-24T07:22:13.992669Z",
     "shell.execute_reply": "2024-12-24T07:22:13.991776Z",
     "shell.execute_reply.started": "2024-12-24T07:22:11.422551Z"
    },
    "trusted": true
   },
   "outputs": [
    {
     "data": {
      "text/html": [
       "<div>\n",
       "<style scoped>\n",
       "    .dataframe tbody tr th:only-of-type {\n",
       "        vertical-align: middle;\n",
       "    }\n",
       "\n",
       "    .dataframe tbody tr th {\n",
       "        vertical-align: top;\n",
       "    }\n",
       "\n",
       "    .dataframe thead th {\n",
       "        text-align: right;\n",
       "    }\n",
       "</style>\n",
       "<table border=\"1\" class=\"dataframe\">\n",
       "  <thead>\n",
       "    <tr style=\"text-align: right;\">\n",
       "      <th></th>\n",
       "      <th>path</th>\n",
       "      <th>Duration</th>\n",
       "      <th>Transcription</th>\n",
       "    </tr>\n",
       "  </thead>\n",
       "  <tbody>\n",
       "    <tr>\n",
       "      <th>0</th>\n",
       "      <td>PATH</td>\n",
       "      <td>DURATION</td>\n",
       "      <td>TRANSCRIPT</td>\n",
       "    </tr>\n",
       "    <tr>\n",
       "      <th>1</th>\n",
       "      <td>${DATASET_PATH}/Quran_Ayat_public/audio_data/A...</td>\n",
       "      <td>6.321632653061225</td>\n",
       "      <td>بِسْمِ اللَّهِ الرَّحْمَٰنِ الرَّحِيمِ</td>\n",
       "    </tr>\n",
       "    <tr>\n",
       "      <th>2</th>\n",
       "      <td>${DATASET_PATH}/Quran_Ayat_public/audio_data/A...</td>\n",
       "      <td>10.161632653061224</td>\n",
       "      <td>الْحَمْدُ لِلَّهِ رَبِّ الْعَالَمِينَ</td>\n",
       "    </tr>\n",
       "    <tr>\n",
       "      <th>3</th>\n",
       "      <td>${DATASET_PATH}/Quran_Ayat_public/audio_data/A...</td>\n",
       "      <td>8.698775510204081</td>\n",
       "      <td>الرَّحْمَٰنِ الرَّحِيمِ</td>\n",
       "    </tr>\n",
       "    <tr>\n",
       "      <th>4</th>\n",
       "      <td>${DATASET_PATH}/Quran_Ayat_public/audio_data/A...</td>\n",
       "      <td>7.340408163265306</td>\n",
       "      <td>مَالِكِ يَوْمِ الدِّينِ</td>\n",
       "    </tr>\n",
       "  </tbody>\n",
       "</table>\n",
       "</div>"
      ],
      "text/plain": [
       "                                                path            Duration  \\\n",
       "0                                               PATH            DURATION   \n",
       "1  ${DATASET_PATH}/Quran_Ayat_public/audio_data/A...   6.321632653061225   \n",
       "2  ${DATASET_PATH}/Quran_Ayat_public/audio_data/A...  10.161632653061224   \n",
       "3  ${DATASET_PATH}/Quran_Ayat_public/audio_data/A...   8.698775510204081   \n",
       "4  ${DATASET_PATH}/Quran_Ayat_public/audio_data/A...   7.340408163265306   \n",
       "\n",
       "                            Transcription  \n",
       "0                              TRANSCRIPT  \n",
       "1  بِسْمِ اللَّهِ الرَّحْمَٰنِ الرَّحِيمِ  \n",
       "2   الْحَمْدُ لِلَّهِ رَبِّ الْعَالَمِينَ  \n",
       "3                 الرَّحْمَٰنِ الرَّحِيمِ  \n",
       "4                 مَالِكِ يَوْمِ الدِّينِ  "
      ]
     },
     "execution_count": 73,
     "metadata": {},
     "output_type": "execute_result"
    }
   ],
   "source": [
    "import pandas as pd\n",
    "\n",
    "dataset_path = r\"C:\\Users\\dell\\Downloads\\Compressed\\Quran_Ayat_public\\transcripts.tsv\"\n",
    "\n",
    "# Load the dataset\n",
    "df = pd.read_csv(dataset_path, sep=\"\\t\", names=[\"path\", \"Duration\", \"Transcription\"])\n",
    "\n",
    "# Check the first few rows\n",
    "df.head()"
   ]
  },
  {
   "cell_type": "code",
   "execution_count": 14,
   "metadata": {},
   "outputs": [
    {
     "name": "stdout",
     "output_type": "stream",
     "text": [
      "0                                                 PATH\n",
      "1    ${DATASET_PATH}/Quran_Ayat_public/audio_data/A...\n",
      "2    ${DATASET_PATH}/Quran_Ayat_public/audio_data/A...\n",
      "3    ${DATASET_PATH}/Quran_Ayat_public/audio_data/A...\n",
      "4    ${DATASET_PATH}/Quran_Ayat_public/audio_data/A...\n",
      "Name: path, dtype: object\n"
     ]
    }
   ],
   "source": [
    "print(df[\"path\"].head())\n"
   ]
  },
  {
   "cell_type": "code",
   "execution_count": 74,
   "metadata": {
    "execution": {
     "iopub.execute_input": "2024-12-24T07:22:30.448806Z",
     "iopub.status.busy": "2024-12-24T07:22:30.448446Z",
     "iopub.status.idle": "2024-12-24T07:22:30.550369Z",
     "shell.execute_reply": "2024-12-24T07:22:30.549465Z",
     "shell.execute_reply.started": "2024-12-24T07:22:30.448769Z"
    },
    "trusted": true
   },
   "outputs": [],
   "source": [
    "#Filter for rows containing 'AbdulSamad_64kbps'\n",
    "df = df[df[\"path\"].str.contains(\"AbdulSamad_64kbps\")]"
   ]
  },
  {
   "cell_type": "code",
   "execution_count": 16,
   "metadata": {},
   "outputs": [
    {
     "data": {
      "text/html": [
       "<div>\n",
       "<style scoped>\n",
       "    .dataframe tbody tr th:only-of-type {\n",
       "        vertical-align: middle;\n",
       "    }\n",
       "\n",
       "    .dataframe tbody tr th {\n",
       "        vertical-align: top;\n",
       "    }\n",
       "\n",
       "    .dataframe thead th {\n",
       "        text-align: right;\n",
       "    }\n",
       "</style>\n",
       "<table border=\"1\" class=\"dataframe\">\n",
       "  <thead>\n",
       "    <tr style=\"text-align: right;\">\n",
       "      <th></th>\n",
       "      <th>path</th>\n",
       "      <th>Duration</th>\n",
       "      <th>Transcription</th>\n",
       "    </tr>\n",
       "  </thead>\n",
       "  <tbody>\n",
       "    <tr>\n",
       "      <th>1</th>\n",
       "      <td>${DATASET_PATH}/Quran_Ayat_public/audio_data/A...</td>\n",
       "      <td>6.321632653061225</td>\n",
       "      <td>بِسْمِ اللَّهِ الرَّحْمَٰنِ الرَّحِيمِ</td>\n",
       "    </tr>\n",
       "    <tr>\n",
       "      <th>2</th>\n",
       "      <td>${DATASET_PATH}/Quran_Ayat_public/audio_data/A...</td>\n",
       "      <td>10.161632653061224</td>\n",
       "      <td>الْحَمْدُ لِلَّهِ رَبِّ الْعَالَمِينَ</td>\n",
       "    </tr>\n",
       "    <tr>\n",
       "      <th>3</th>\n",
       "      <td>${DATASET_PATH}/Quran_Ayat_public/audio_data/A...</td>\n",
       "      <td>8.698775510204081</td>\n",
       "      <td>الرَّحْمَٰنِ الرَّحِيمِ</td>\n",
       "    </tr>\n",
       "    <tr>\n",
       "      <th>4</th>\n",
       "      <td>${DATASET_PATH}/Quran_Ayat_public/audio_data/A...</td>\n",
       "      <td>7.340408163265306</td>\n",
       "      <td>مَالِكِ يَوْمِ الدِّينِ</td>\n",
       "    </tr>\n",
       "    <tr>\n",
       "      <th>5</th>\n",
       "      <td>${DATASET_PATH}/Quran_Ayat_public/audio_data/A...</td>\n",
       "      <td>11.572244897959184</td>\n",
       "      <td>إِيَّاكَ نَعْبُدُ وَإِيَّاكَ نَسْتَعِينُ</td>\n",
       "    </tr>\n",
       "  </tbody>\n",
       "</table>\n",
       "</div>"
      ],
      "text/plain": [
       "                                                path            Duration  \\\n",
       "1  ${DATASET_PATH}/Quran_Ayat_public/audio_data/A...   6.321632653061225   \n",
       "2  ${DATASET_PATH}/Quran_Ayat_public/audio_data/A...  10.161632653061224   \n",
       "3  ${DATASET_PATH}/Quran_Ayat_public/audio_data/A...   8.698775510204081   \n",
       "4  ${DATASET_PATH}/Quran_Ayat_public/audio_data/A...   7.340408163265306   \n",
       "5  ${DATASET_PATH}/Quran_Ayat_public/audio_data/A...  11.572244897959184   \n",
       "\n",
       "                              Transcription  \n",
       "1    بِسْمِ اللَّهِ الرَّحْمَٰنِ الرَّحِيمِ  \n",
       "2     الْحَمْدُ لِلَّهِ رَبِّ الْعَالَمِينَ  \n",
       "3                   الرَّحْمَٰنِ الرَّحِيمِ  \n",
       "4                   مَالِكِ يَوْمِ الدِّينِ  \n",
       "5  إِيَّاكَ نَعْبُدُ وَإِيَّاكَ نَسْتَعِينُ  "
      ]
     },
     "execution_count": 16,
     "metadata": {},
     "output_type": "execute_result"
    }
   ],
   "source": [
    "df.head()"
   ]
  },
  {
   "cell_type": "code",
   "execution_count": 75,
   "metadata": {},
   "outputs": [
    {
     "name": "stdout",
     "output_type": "stream",
     "text": [
      "1    ${DATASET_PATH}/Quran_Ayat_public/audio_data/A...\n",
      "2    ${DATASET_PATH}/Quran_Ayat_public/audio_data/A...\n",
      "3    ${DATASET_PATH}/Quran_Ayat_public/audio_data/A...\n",
      "4    ${DATASET_PATH}/Quran_Ayat_public/audio_data/A...\n",
      "5    ${DATASET_PATH}/Quran_Ayat_public/audio_data/A...\n",
      "Name: path, dtype: object\n",
      "1    C:/Users/dell/Downloads/Compressed/Quran_Ayat_...\n",
      "2    C:/Users/dell/Downloads/Compressed/Quran_Ayat_...\n",
      "3    C:/Users/dell/Downloads/Compressed/Quran_Ayat_...\n",
      "4    C:/Users/dell/Downloads/Compressed/Quran_Ayat_...\n",
      "5    C:/Users/dell/Downloads/Compressed/Quran_Ayat_...\n",
      "Name: path, dtype: object\n"
     ]
    }
   ],
   "source": [
    "# Check the original paths to identify the issue\n",
    "print(df[\"path\"].head())\n",
    "\n",
    "# Update only the placeholder `${DATASET_PATH}` without duplicating `audio_data`\n",
    "df[\"path\"] = df[\"path\"].str.replace(\n",
    "    r\"\\${DATASET_PATH}\", \n",
    "    r\"C:/Users/dell/Downloads/Compressed\",  # Point to the root folder\n",
    "    regex=True\n",
    ").str.strip()\n",
    "\n",
    "# Verify the updated paths\n",
    "print(df[\"path\"].head())\n"
   ]
  },
  {
   "cell_type": "code",
   "execution_count": 52,
   "metadata": {},
   "outputs": [
    {
     "data": {
      "text/html": [
       "<div>\n",
       "<style scoped>\n",
       "    .dataframe tbody tr th:only-of-type {\n",
       "        vertical-align: middle;\n",
       "    }\n",
       "\n",
       "    .dataframe tbody tr th {\n",
       "        vertical-align: top;\n",
       "    }\n",
       "\n",
       "    .dataframe thead th {\n",
       "        text-align: right;\n",
       "    }\n",
       "</style>\n",
       "<table border=\"1\" class=\"dataframe\">\n",
       "  <thead>\n",
       "    <tr style=\"text-align: right;\">\n",
       "      <th></th>\n",
       "      <th>path</th>\n",
       "      <th>Duration</th>\n",
       "      <th>Transcription</th>\n",
       "      <th>Is_Duration_Valid</th>\n",
       "    </tr>\n",
       "  </thead>\n",
       "  <tbody>\n",
       "    <tr>\n",
       "      <th>1</th>\n",
       "      <td>C:/Users/dell/Downloads/Compressed/Quran_Ayat_...</td>\n",
       "      <td>6.321633</td>\n",
       "      <td>بِسْمِ اللَّهِ الرَّحْمَٰنِ الرَّحِيمِ</td>\n",
       "      <td>True</td>\n",
       "    </tr>\n",
       "    <tr>\n",
       "      <th>2</th>\n",
       "      <td>C:/Users/dell/Downloads/Compressed/Quran_Ayat_...</td>\n",
       "      <td>10.161633</td>\n",
       "      <td>الْحَمْدُ لِلَّهِ رَبِّ الْعَالَمِينَ</td>\n",
       "      <td>True</td>\n",
       "    </tr>\n",
       "    <tr>\n",
       "      <th>3</th>\n",
       "      <td>C:/Users/dell/Downloads/Compressed/Quran_Ayat_...</td>\n",
       "      <td>8.698776</td>\n",
       "      <td>الرَّحْمَٰنِ الرَّحِيمِ</td>\n",
       "      <td>True</td>\n",
       "    </tr>\n",
       "    <tr>\n",
       "      <th>4</th>\n",
       "      <td>C:/Users/dell/Downloads/Compressed/Quran_Ayat_...</td>\n",
       "      <td>7.340408</td>\n",
       "      <td>مَالِكِ يَوْمِ الدِّينِ</td>\n",
       "      <td>True</td>\n",
       "    </tr>\n",
       "    <tr>\n",
       "      <th>5</th>\n",
       "      <td>C:/Users/dell/Downloads/Compressed/Quran_Ayat_...</td>\n",
       "      <td>11.572245</td>\n",
       "      <td>إِيَّاكَ نَعْبُدُ وَإِيَّاكَ نَسْتَعِينُ</td>\n",
       "      <td>True</td>\n",
       "    </tr>\n",
       "  </tbody>\n",
       "</table>\n",
       "</div>"
      ],
      "text/plain": [
       "                                                path   Duration  \\\n",
       "1  C:/Users/dell/Downloads/Compressed/Quran_Ayat_...   6.321633   \n",
       "2  C:/Users/dell/Downloads/Compressed/Quran_Ayat_...  10.161633   \n",
       "3  C:/Users/dell/Downloads/Compressed/Quran_Ayat_...   8.698776   \n",
       "4  C:/Users/dell/Downloads/Compressed/Quran_Ayat_...   7.340408   \n",
       "5  C:/Users/dell/Downloads/Compressed/Quran_Ayat_...  11.572245   \n",
       "\n",
       "                              Transcription  Is_Duration_Valid  \n",
       "1    بِسْمِ اللَّهِ الرَّحْمَٰنِ الرَّحِيمِ               True  \n",
       "2     الْحَمْدُ لِلَّهِ رَبِّ الْعَالَمِينَ               True  \n",
       "3                   الرَّحْمَٰنِ الرَّحِيمِ               True  \n",
       "4                   مَالِكِ يَوْمِ الدِّينِ               True  \n",
       "5  إِيَّاكَ نَعْبُدُ وَإِيَّاكَ نَسْتَعِينُ               True  "
      ]
     },
     "execution_count": 52,
     "metadata": {},
     "output_type": "execute_result"
    }
   ],
   "source": [
    "df.head()"
   ]
  },
  {
   "cell_type": "code",
   "execution_count": null,
   "metadata": {
    "execution": {
     "iopub.execute_input": "2024-12-24T07:22:33.705959Z",
     "iopub.status.busy": "2024-12-24T07:22:33.705534Z",
     "iopub.status.idle": "2024-12-24T07:22:33.728052Z",
     "shell.execute_reply": "2024-12-24T07:22:33.727208Z",
     "shell.execute_reply.started": "2024-12-24T07:22:33.705921Z"
    },
    "trusted": true
   },
   "outputs": [],
   "source": [
    "# df[\"path\"] = df[\"path\"].str.replace(\n",
    "#     r\"\\${DATASET_PATH}\",  # Match the placeholder exactly\n",
    "#     r\"C:/Users/dell/Downloads/Compressed/Quran_Ayat_public/audio_data\",  # Use forward slashes for Windows paths\n",
    "#     regex=True\n",
    "# ).str.strip()\n",
    "\n",
    "# # Verify the updated column\n",
    "# print(df[\"path\"].head())\n"
   ]
  },
  {
   "cell_type": "code",
   "execution_count": 18,
   "metadata": {},
   "outputs": [
    {
     "data": {
      "text/html": [
       "<div>\n",
       "<style scoped>\n",
       "    .dataframe tbody tr th:only-of-type {\n",
       "        vertical-align: middle;\n",
       "    }\n",
       "\n",
       "    .dataframe tbody tr th {\n",
       "        vertical-align: top;\n",
       "    }\n",
       "\n",
       "    .dataframe thead th {\n",
       "        text-align: right;\n",
       "    }\n",
       "</style>\n",
       "<table border=\"1\" class=\"dataframe\">\n",
       "  <thead>\n",
       "    <tr style=\"text-align: right;\">\n",
       "      <th></th>\n",
       "      <th>path</th>\n",
       "      <th>Duration</th>\n",
       "      <th>Transcription</th>\n",
       "    </tr>\n",
       "  </thead>\n",
       "  <tbody>\n",
       "    <tr>\n",
       "      <th>1</th>\n",
       "      <td>C:/Users/dell/Downloads/Compressed/Quran_Ayat_...</td>\n",
       "      <td>6.321632653061225</td>\n",
       "      <td>بِسْمِ اللَّهِ الرَّحْمَٰنِ الرَّحِيمِ</td>\n",
       "    </tr>\n",
       "    <tr>\n",
       "      <th>2</th>\n",
       "      <td>C:/Users/dell/Downloads/Compressed/Quran_Ayat_...</td>\n",
       "      <td>10.161632653061224</td>\n",
       "      <td>الْحَمْدُ لِلَّهِ رَبِّ الْعَالَمِينَ</td>\n",
       "    </tr>\n",
       "    <tr>\n",
       "      <th>3</th>\n",
       "      <td>C:/Users/dell/Downloads/Compressed/Quran_Ayat_...</td>\n",
       "      <td>8.698775510204081</td>\n",
       "      <td>الرَّحْمَٰنِ الرَّحِيمِ</td>\n",
       "    </tr>\n",
       "    <tr>\n",
       "      <th>4</th>\n",
       "      <td>C:/Users/dell/Downloads/Compressed/Quran_Ayat_...</td>\n",
       "      <td>7.340408163265306</td>\n",
       "      <td>مَالِكِ يَوْمِ الدِّينِ</td>\n",
       "    </tr>\n",
       "    <tr>\n",
       "      <th>5</th>\n",
       "      <td>C:/Users/dell/Downloads/Compressed/Quran_Ayat_...</td>\n",
       "      <td>11.572244897959184</td>\n",
       "      <td>إِيَّاكَ نَعْبُدُ وَإِيَّاكَ نَسْتَعِينُ</td>\n",
       "    </tr>\n",
       "  </tbody>\n",
       "</table>\n",
       "</div>"
      ],
      "text/plain": [
       "                                                path            Duration  \\\n",
       "1  C:/Users/dell/Downloads/Compressed/Quran_Ayat_...   6.321632653061225   \n",
       "2  C:/Users/dell/Downloads/Compressed/Quran_Ayat_...  10.161632653061224   \n",
       "3  C:/Users/dell/Downloads/Compressed/Quran_Ayat_...   8.698775510204081   \n",
       "4  C:/Users/dell/Downloads/Compressed/Quran_Ayat_...   7.340408163265306   \n",
       "5  C:/Users/dell/Downloads/Compressed/Quran_Ayat_...  11.572244897959184   \n",
       "\n",
       "                              Transcription  \n",
       "1    بِسْمِ اللَّهِ الرَّحْمَٰنِ الرَّحِيمِ  \n",
       "2     الْحَمْدُ لِلَّهِ رَبِّ الْعَالَمِينَ  \n",
       "3                   الرَّحْمَٰنِ الرَّحِيمِ  \n",
       "4                   مَالِكِ يَوْمِ الدِّينِ  \n",
       "5  إِيَّاكَ نَعْبُدُ وَإِيَّاكَ نَسْتَعِينُ  "
      ]
     },
     "execution_count": 18,
     "metadata": {},
     "output_type": "execute_result"
    }
   ],
   "source": [
    "df.head()"
   ]
  },
  {
   "cell_type": "code",
   "execution_count": 9,
   "metadata": {
    "execution": {
     "iopub.execute_input": "2024-12-24T07:22:37.911042Z",
     "iopub.status.busy": "2024-12-24T07:22:37.910688Z",
     "iopub.status.idle": "2024-12-24T07:22:57.832067Z",
     "shell.execute_reply": "2024-12-24T07:22:57.830910Z",
     "shell.execute_reply.started": "2024-12-24T07:22:37.911015Z"
    },
    "trusted": true
   },
   "outputs": [],
   "source": [
    "import os\n",
    "df = df[df[\"path\"].apply(os.path.exists)]"
   ]
  },
  {
   "cell_type": "code",
   "execution_count": 76,
   "metadata": {
    "execution": {
     "iopub.execute_input": "2024-12-24T07:29:57.033686Z",
     "iopub.status.busy": "2024-12-24T07:29:57.033377Z",
     "iopub.status.idle": "2024-12-24T07:29:57.039488Z",
     "shell.execute_reply": "2024-12-24T07:29:57.038791Z",
     "shell.execute_reply.started": "2024-12-24T07:29:57.033663Z"
    },
    "trusted": true
   },
   "outputs": [
    {
     "data": {
      "text/plain": [
       "(6236, 3)"
      ]
     },
     "execution_count": 76,
     "metadata": {},
     "output_type": "execute_result"
    }
   ],
   "source": [
    "df.shape"
   ]
  },
  {
   "cell_type": "code",
   "execution_count": 6,
   "metadata": {
    "execution": {
     "iopub.execute_input": "2024-12-24T07:29:59.885574Z",
     "iopub.status.busy": "2024-12-24T07:29:59.885163Z",
     "iopub.status.idle": "2024-12-24T07:29:59.894436Z",
     "shell.execute_reply": "2024-12-24T07:29:59.893541Z",
     "shell.execute_reply.started": "2024-12-24T07:29:59.885537Z"
    },
    "trusted": true
   },
   "outputs": [
    {
     "data": {
      "text/html": [
       "<div>\n",
       "<style scoped>\n",
       "    .dataframe tbody tr th:only-of-type {\n",
       "        vertical-align: middle;\n",
       "    }\n",
       "\n",
       "    .dataframe tbody tr th {\n",
       "        vertical-align: top;\n",
       "    }\n",
       "\n",
       "    .dataframe thead th {\n",
       "        text-align: right;\n",
       "    }\n",
       "</style>\n",
       "<table border=\"1\" class=\"dataframe\">\n",
       "  <thead>\n",
       "    <tr style=\"text-align: right;\">\n",
       "      <th></th>\n",
       "      <th>path</th>\n",
       "      <th>Duration</th>\n",
       "      <th>Transcription</th>\n",
       "    </tr>\n",
       "  </thead>\n",
       "  <tbody>\n",
       "    <tr>\n",
       "      <th>1</th>\n",
       "      <td>/kaggle/input/quran-ayat-speech-to-text/Quran_...</td>\n",
       "      <td>6.321632653061225</td>\n",
       "      <td>بِسْمِ اللَّهِ الرَّحْمَٰنِ الرَّحِيمِ</td>\n",
       "    </tr>\n",
       "    <tr>\n",
       "      <th>2</th>\n",
       "      <td>/kaggle/input/quran-ayat-speech-to-text/Quran_...</td>\n",
       "      <td>10.161632653061224</td>\n",
       "      <td>الْحَمْدُ لِلَّهِ رَبِّ الْعَالَمِينَ</td>\n",
       "    </tr>\n",
       "    <tr>\n",
       "      <th>3</th>\n",
       "      <td>/kaggle/input/quran-ayat-speech-to-text/Quran_...</td>\n",
       "      <td>8.698775510204081</td>\n",
       "      <td>الرَّحْمَٰنِ الرَّحِيمِ</td>\n",
       "    </tr>\n",
       "    <tr>\n",
       "      <th>4</th>\n",
       "      <td>/kaggle/input/quran-ayat-speech-to-text/Quran_...</td>\n",
       "      <td>7.340408163265306</td>\n",
       "      <td>مَالِكِ يَوْمِ الدِّينِ</td>\n",
       "    </tr>\n",
       "    <tr>\n",
       "      <th>5</th>\n",
       "      <td>/kaggle/input/quran-ayat-speech-to-text/Quran_...</td>\n",
       "      <td>11.572244897959184</td>\n",
       "      <td>إِيَّاكَ نَعْبُدُ وَإِيَّاكَ نَسْتَعِينُ</td>\n",
       "    </tr>\n",
       "  </tbody>\n",
       "</table>\n",
       "</div>"
      ],
      "text/plain": [
       "                                                path            Duration  \\\n",
       "1  /kaggle/input/quran-ayat-speech-to-text/Quran_...   6.321632653061225   \n",
       "2  /kaggle/input/quran-ayat-speech-to-text/Quran_...  10.161632653061224   \n",
       "3  /kaggle/input/quran-ayat-speech-to-text/Quran_...   8.698775510204081   \n",
       "4  /kaggle/input/quran-ayat-speech-to-text/Quran_...   7.340408163265306   \n",
       "5  /kaggle/input/quran-ayat-speech-to-text/Quran_...  11.572244897959184   \n",
       "\n",
       "                              Transcription  \n",
       "1    بِسْمِ اللَّهِ الرَّحْمَٰنِ الرَّحِيمِ  \n",
       "2     الْحَمْدُ لِلَّهِ رَبِّ الْعَالَمِينَ  \n",
       "3                   الرَّحْمَٰنِ الرَّحِيمِ  \n",
       "4                   مَالِكِ يَوْمِ الدِّينِ  \n",
       "5  إِيَّاكَ نَعْبُدُ وَإِيَّاكَ نَسْتَعِينُ  "
      ]
     },
     "execution_count": 6,
     "metadata": {},
     "output_type": "execute_result"
    }
   ],
   "source": [
    "df.head()"
   ]
  },
  {
   "cell_type": "code",
   "execution_count": null,
   "metadata": {},
   "outputs": [],
   "source": [
    "# Convert the \"Duration\" column to numeric (float) type\n",
    "df[\"Duration\"] = df[\"Duration\"].astype(float)\n",
    "\n"
   ]
  },
  {
   "cell_type": "code",
   "execution_count": 78,
   "metadata": {},
   "outputs": [
    {
     "name": "stdout",
     "output_type": "stream",
     "text": [
      "                                                     path   Duration  \\\n",
      "1       C:/Users/dell/Downloads/Compressed/Quran_Ayat_...   6.321633   \n",
      "2       C:/Users/dell/Downloads/Compressed/Quran_Ayat_...  10.161633   \n",
      "3       C:/Users/dell/Downloads/Compressed/Quran_Ayat_...   8.698776   \n",
      "4       C:/Users/dell/Downloads/Compressed/Quran_Ayat_...   7.340408   \n",
      "5       C:/Users/dell/Downloads/Compressed/Quran_Ayat_...  11.572245   \n",
      "...                                                   ...        ...   \n",
      "139104  C:/Users/dell/Downloads/Compressed/Quran_Ayat_...   8.202449   \n",
      "139132  C:/Users/dell/Downloads/Compressed/Quran_Ayat_...   7.732245   \n",
      "139169  C:/Users/dell/Downloads/Compressed/Quran_Ayat_...  13.479184   \n",
      "139201  C:/Users/dell/Downloads/Compressed/Quran_Ayat_...  13.688163   \n",
      "139237  C:/Users/dell/Downloads/Compressed/Quran_Ayat_...   9.168980   \n",
      "\n",
      "                                   Transcription  \n",
      "1         بِسْمِ اللَّهِ الرَّحْمَٰنِ الرَّحِيمِ  \n",
      "2          الْحَمْدُ لِلَّهِ رَبِّ الْعَالَمِينَ  \n",
      "3                        الرَّحْمَٰنِ الرَّحِيمِ  \n",
      "4                        مَالِكِ يَوْمِ الدِّينِ  \n",
      "5       إِيَّاكَ نَعْبُدُ وَإِيَّاكَ نَسْتَعِينُ  \n",
      "...                                          ...  \n",
      "139104                           مَلِكِ النَّاسِ  \n",
      "139132                          إِلَٰهِ النَّاسِ  \n",
      "139169        مِن شَرِّ الْوَسْوَاسِ الْخَنَّاسِ  \n",
      "139201   الَّذِي يُوَسْوِسُ فِي صُدُورِ النَّاسِ  \n",
      "139237                مِنَ الْجِنَّةِ وَالنَّاسِ  \n",
      "\n",
      "[2117 rows x 3 columns]\n"
     ]
    }
   ],
   "source": [
    "filtered_df = df[df[\"Duration\"] < MAX_DURATION_IN_SECONDS]\n",
    "\n",
    "# Display the filtered DataFrame\n",
    "print(filtered_df)"
   ]
  },
  {
   "cell_type": "code",
   "execution_count": 56,
   "metadata": {},
   "outputs": [
    {
     "data": {
      "text/plain": [
       "(2117, 4)"
      ]
     },
     "execution_count": 56,
     "metadata": {},
     "output_type": "execute_result"
    }
   ],
   "source": [
    "filtered_df.shape"
   ]
  },
  {
   "cell_type": "code",
   "execution_count": 79,
   "metadata": {
    "execution": {
     "iopub.execute_input": "2024-12-24T07:30:03.750101Z",
     "iopub.status.busy": "2024-12-24T07:30:03.749760Z",
     "iopub.status.idle": "2024-12-24T07:30:05.035394Z",
     "shell.execute_reply": "2024-12-24T07:30:05.034538Z",
     "shell.execute_reply.started": "2024-12-24T07:30:03.750075Z"
    },
    "trusted": true
   },
   "outputs": [],
   "source": [
    "from datasets import Dataset, Audio\n",
    "data = {\n",
    "    \"audio\": filtered_df[\"path\"].tolist(),\n",
    "    \"duration\": filtered_df[\"Duration\"].tolist(),\n",
    "    \"text\": filtered_df[\"Transcription\"].tolist(),\n",
    "}\n",
    "dataset = Dataset.from_dict(data)"
   ]
  },
  {
   "cell_type": "code",
   "execution_count": 80,
   "metadata": {
    "execution": {
     "iopub.execute_input": "2024-12-24T07:30:22.397206Z",
     "iopub.status.busy": "2024-12-24T07:30:22.396908Z",
     "iopub.status.idle": "2024-12-24T07:30:22.412717Z",
     "shell.execute_reply": "2024-12-24T07:30:22.411819Z",
     "shell.execute_reply.started": "2024-12-24T07:30:22.397184Z"
    },
    "trusted": true
   },
   "outputs": [],
   "source": [
    "dataset = dataset.cast_column(\"audio\", Audio())"
   ]
  },
  {
   "cell_type": "code",
   "execution_count": 81,
   "metadata": {
    "execution": {
     "iopub.execute_input": "2024-12-24T07:30:44.220602Z",
     "iopub.status.busy": "2024-12-24T07:30:44.220278Z",
     "iopub.status.idle": "2024-12-24T07:30:44.226375Z",
     "shell.execute_reply": "2024-12-24T07:30:44.225582Z",
     "shell.execute_reply.started": "2024-12-24T07:30:44.220565Z"
    },
    "trusted": true
   },
   "outputs": [],
   "source": [
    "dataset = dataset.cast_column(\"audio\", Audio(sampling_rate=16000))"
   ]
  },
  {
   "cell_type": "code",
   "execution_count": 82,
   "metadata": {
    "execution": {
     "iopub.execute_input": "2024-12-24T07:30:55.639179Z",
     "iopub.status.busy": "2024-12-24T07:30:55.638883Z",
     "iopub.status.idle": "2024-12-24T07:30:55.723356Z",
     "shell.execute_reply": "2024-12-24T07:30:55.722403Z",
     "shell.execute_reply.started": "2024-12-24T07:30:55.639156Z"
    },
    "trusted": true
   },
   "outputs": [
    {
     "data": {
      "application/vnd.jupyter.widget-view+json": {
       "model_id": "267025b74d9d498aa39ada9795e1d6b9",
       "version_major": 2,
       "version_minor": 0
      },
      "text/plain": [
       "Map:   0%|          | 0/2117 [00:00<?, ? examples/s]"
      ]
     },
     "metadata": {},
     "output_type": "display_data"
    },
    {
     "name": "stdout",
     "output_type": "stream",
     "text": [
      "Vocabulary: {'ع', 'ٌ', 'ذ', 'ط', 'و', 'ص', 'ض', 'َ', 'ي', 'م', 'ز', 'ن', 'ا', 'ْ', 'ه', 'د', 'س', 'ُ', 'غ', 'ل', 'خ', 'ظ', 'ً', 'ث', 'ّ', 'ق', 'ش', 'ج', 'ر', 'ِ', 'ٍ', 'ف', 'ك', 'ب', 'ح', 'ت'}\n"
     ]
    }
   ],
   "source": [
    "# Arabic letters, diacritics, and Quran-specific symbols\n",
    "ARABIC_LETTERS = [\n",
    "    \"ا\", \"ب\", \"ت\", \"ث\", \"ج\", \"ح\", \"خ\", \"د\", \"ذ\", \"ر\", \"ز\", \"س\", \"ش\",\n",
    "    \"ص\", \"ض\", \"ط\", \"ظ\", \"ع\", \"غ\", \"ف\", \"ق\", \"ك\", \"ل\", \"م\", \"ن\", \"ه\", \"و\", \"ي\",\n",
    "]\n",
    "\n",
    "ARABIC_DIACRITICS = [\n",
    "    \"َ\", \"ً\", \"ُ\", \"ٌ\", \"ِ\", \"ٍ\", \"ّ\", \"ْ\"\n",
    "]\n",
    "\n",
    "QURANIC_SYMBOLS = [\"۝\", \"﴾\", \"﴿\"]\n",
    "\n",
    "# Combine all Quranic-related characters\n",
    "ALL_QURANIC_CHARS = ARABIC_LETTERS + ARABIC_DIACRITICS + QURANIC_SYMBOLS\n",
    "\n",
    "# Function to extract the vocabulary\n",
    "def extract_quranic_vocab(batch):\n",
    "    all_text = \" \".join(batch[\"text\"])  # Combine all Ayat into one string\n",
    "    vocab = list(set(all_text))  # Extract unique characters\n",
    "    vocab = [char for char in vocab if char in ALL_QURANIC_CHARS]  # Filter relevant characters\n",
    "    return {\"vocab\": [vocab], \"all_text\": [all_text]}\n",
    "\n",
    "# Apply the function to the dataset\n",
    "vocabs = dataset.map(\n",
    "    extract_quranic_vocab,\n",
    "    batched=True,\n",
    "    batch_size=-1,\n",
    "    keep_in_memory=True,\n",
    "    remove_columns=dataset.column_names,\n",
    ")\n",
    "\n",
    "# Extract the vocabulary set\n",
    "dataset_vocab = set(vocabs[\"vocab\"][0])\n",
    "print(\"Vocabulary:\", dataset_vocab)\n"
   ]
  },
  {
   "cell_type": "code",
   "execution_count": 135,
   "metadata": {
    "execution": {
     "iopub.execute_input": "2024-12-24T07:32:57.860559Z",
     "iopub.status.busy": "2024-12-24T07:32:57.860223Z",
     "iopub.status.idle": "2024-12-24T07:33:22.011982Z",
     "shell.execute_reply": "2024-12-24T07:33:22.011015Z",
     "shell.execute_reply.started": "2024-12-24T07:32:57.860528Z"
    },
    "trusted": true
   },
   "outputs": [],
   "source": [
    "# # # Load model directly\n",
    "# from transformers import AutoProcessor, AutoModelForTextToSpectrogram\n",
    "\n",
    "# processor = AutoProcessor.from_pretrained(\"MBZUAI/speecht5_tts_clartts_ar\")\n",
    "# model = AutoModelForTextToSpectrogram.from_pretrained(\"MBZUAI/speecht5_tts_clartts_ar\")"
   ]
  },
  {
   "cell_type": "code",
   "execution_count": 136,
   "metadata": {},
   "outputs": [],
   "source": [
    "tokenizer = processor.tokenizer"
   ]
  },
  {
   "cell_type": "code",
   "execution_count": 147,
   "metadata": {},
   "outputs": [],
   "source": [
    "from transformers import SpeechT5Processor\n",
    "\n",
    "checkpoint = \"microsoft/speecht5_tts\"\n",
    "processor = SpeechT5Processor.from_pretrained(checkpoint)"
   ]
  },
  {
   "cell_type": "code",
   "execution_count": 148,
   "metadata": {},
   "outputs": [],
   "source": [
    " from transformers import SpeechT5ForTextToSpeech\n",
    "\n",
    "model = SpeechT5ForTextToSpeech.from_pretrained(checkpoint)"
   ]
  },
  {
   "cell_type": "code",
   "execution_count": 129,
   "metadata": {
    "execution": {
     "iopub.execute_input": "2024-12-24T07:34:10.716757Z",
     "iopub.status.busy": "2024-12-24T07:34:10.716427Z",
     "iopub.status.idle": "2024-12-24T07:34:10.720825Z",
     "shell.execute_reply": "2024-12-24T07:34:10.720053Z",
     "shell.execute_reply.started": "2024-12-24T07:34:10.716712Z"
    },
    "trusted": true
   },
   "outputs": [],
   "source": [
    "tokenizer_vocab = {k for k, _ in tokenizer.get_vocab().items()}"
   ]
  },
  {
   "cell_type": "code",
   "execution_count": 130,
   "metadata": {
    "execution": {
     "iopub.execute_input": "2024-12-24T07:34:29.987027Z",
     "iopub.status.busy": "2024-12-24T07:34:29.986709Z",
     "iopub.status.idle": "2024-12-24T07:34:29.992246Z",
     "shell.execute_reply": "2024-12-24T07:34:29.991484Z",
     "shell.execute_reply.started": "2024-12-24T07:34:29.987002Z"
    },
    "trusted": true
   },
   "outputs": [
    {
     "data": {
      "text/plain": [
       "{'ً', 'ٌ', 'ٍ', 'َ', 'ُ', 'ِ', 'ّ', 'ْ'}"
      ]
     },
     "execution_count": 130,
     "metadata": {},
     "output_type": "execute_result"
    }
   ],
   "source": [
    "dataset_vocab - tokenizer_vocab"
   ]
  },
  {
   "cell_type": "code",
   "execution_count": 149,
   "metadata": {
    "execution": {
     "iopub.execute_input": "2024-12-24T07:37:13.960294Z",
     "iopub.status.busy": "2024-12-24T07:37:13.959968Z",
     "iopub.status.idle": "2024-12-24T07:37:13.974564Z",
     "shell.execute_reply": "2024-12-24T07:37:13.973698Z",
     "shell.execute_reply.started": "2024-12-24T07:37:13.960269Z"
    },
    "trusted": true
   },
   "outputs": [
    {
     "data": {
      "text/plain": [
       "Embedding(95, 768, padding_idx=1)"
      ]
     },
     "execution_count": 149,
     "metadata": {},
     "output_type": "execute_result"
    }
   ],
   "source": [
    "#tokenizer.add_tokens(['ً', 'ٌ', 'ٍ', 'َ', 'ُ', 'ِ', 'ّ', 'ْ'])\n",
    "model.resize_token_embeddings(len(tokenizer))\n",
    "                     \n"
   ]
  },
  {
   "cell_type": "code",
   "execution_count": 150,
   "metadata": {
    "execution": {
     "iopub.execute_input": "2024-12-24T07:39:56.213240Z",
     "iopub.status.busy": "2024-12-24T07:39:56.212890Z",
     "iopub.status.idle": "2024-12-24T07:39:56.734494Z",
     "shell.execute_reply": "2024-12-24T07:39:56.733766Z",
     "shell.execute_reply.started": "2024-12-24T07:39:56.213212Z"
    },
    "trusted": true
   },
   "outputs": [
    {
     "data": {
      "text/plain": [
       "SpeechT5ForTextToSpeech(\n",
       "  (speecht5): SpeechT5Model(\n",
       "    (encoder): SpeechT5EncoderWithTextPrenet(\n",
       "      (prenet): SpeechT5TextEncoderPrenet(\n",
       "        (embed_tokens): Embedding(95, 768, padding_idx=1)\n",
       "        (encode_positions): SpeechT5ScaledPositionalEncoding(\n",
       "          (dropout): Dropout(p=0.1, inplace=False)\n",
       "        )\n",
       "      )\n",
       "      (wrapped_encoder): SpeechT5Encoder(\n",
       "        (layer_norm): LayerNorm((768,), eps=1e-05, elementwise_affine=True)\n",
       "        (dropout): Dropout(p=0.1, inplace=False)\n",
       "        (layers): ModuleList(\n",
       "          (0-11): 12 x SpeechT5EncoderLayer(\n",
       "            (attention): SpeechT5Attention(\n",
       "              (k_proj): Linear(in_features=768, out_features=768, bias=True)\n",
       "              (v_proj): Linear(in_features=768, out_features=768, bias=True)\n",
       "              (q_proj): Linear(in_features=768, out_features=768, bias=True)\n",
       "              (out_proj): Linear(in_features=768, out_features=768, bias=True)\n",
       "            )\n",
       "            (dropout): Dropout(p=0.1, inplace=False)\n",
       "            (layer_norm): LayerNorm((768,), eps=1e-05, elementwise_affine=True)\n",
       "            (feed_forward): SpeechT5FeedForward(\n",
       "              (intermediate_dropout): Dropout(p=0.1, inplace=False)\n",
       "              (intermediate_dense): Linear(in_features=768, out_features=3072, bias=True)\n",
       "              (intermediate_act_fn): GELUActivation()\n",
       "              (output_dense): Linear(in_features=3072, out_features=768, bias=True)\n",
       "              (output_dropout): Dropout(p=0.1, inplace=False)\n",
       "            )\n",
       "            (final_layer_norm): LayerNorm((768,), eps=1e-05, elementwise_affine=True)\n",
       "          )\n",
       "        )\n",
       "        (embed_positions): SpeechT5RelativePositionalEncoding(\n",
       "          (pe_k): Embedding(320, 64)\n",
       "        )\n",
       "      )\n",
       "    )\n",
       "    (decoder): SpeechT5DecoderWithSpeechPrenet(\n",
       "      (prenet): SpeechT5SpeechDecoderPrenet(\n",
       "        (layers): ModuleList(\n",
       "          (0): Linear(in_features=80, out_features=256, bias=True)\n",
       "          (1): Linear(in_features=256, out_features=256, bias=True)\n",
       "        )\n",
       "        (final_layer): Linear(in_features=256, out_features=768, bias=True)\n",
       "        (encode_positions): SpeechT5ScaledPositionalEncoding(\n",
       "          (dropout): Dropout(p=0.1, inplace=False)\n",
       "        )\n",
       "        (speaker_embeds_layer): Linear(in_features=1280, out_features=768, bias=True)\n",
       "      )\n",
       "      (wrapped_decoder): SpeechT5Decoder(\n",
       "        (layers): ModuleList(\n",
       "          (0-5): 6 x SpeechT5DecoderLayer(\n",
       "            (self_attn): SpeechT5Attention(\n",
       "              (k_proj): Linear(in_features=768, out_features=768, bias=True)\n",
       "              (v_proj): Linear(in_features=768, out_features=768, bias=True)\n",
       "              (q_proj): Linear(in_features=768, out_features=768, bias=True)\n",
       "              (out_proj): Linear(in_features=768, out_features=768, bias=True)\n",
       "            )\n",
       "            (dropout): Dropout(p=0.1, inplace=False)\n",
       "            (self_attn_layer_norm): LayerNorm((768,), eps=1e-05, elementwise_affine=True)\n",
       "            (encoder_attn): SpeechT5Attention(\n",
       "              (k_proj): Linear(in_features=768, out_features=768, bias=True)\n",
       "              (v_proj): Linear(in_features=768, out_features=768, bias=True)\n",
       "              (q_proj): Linear(in_features=768, out_features=768, bias=True)\n",
       "              (out_proj): Linear(in_features=768, out_features=768, bias=True)\n",
       "            )\n",
       "            (encoder_attn_layer_norm): LayerNorm((768,), eps=1e-05, elementwise_affine=True)\n",
       "            (feed_forward): SpeechT5FeedForward(\n",
       "              (intermediate_dropout): Dropout(p=0.1, inplace=False)\n",
       "              (intermediate_dense): Linear(in_features=768, out_features=3072, bias=True)\n",
       "              (intermediate_act_fn): GELUActivation()\n",
       "              (output_dense): Linear(in_features=3072, out_features=768, bias=True)\n",
       "              (output_dropout): Dropout(p=0.1, inplace=False)\n",
       "            )\n",
       "            (final_layer_norm): LayerNorm((768,), eps=1e-05, elementwise_affine=True)\n",
       "          )\n",
       "        )\n",
       "      )\n",
       "    )\n",
       "  )\n",
       "  (speech_decoder_postnet): SpeechT5SpeechDecoderPostnet(\n",
       "    (feat_out): Linear(in_features=768, out_features=160, bias=True)\n",
       "    (prob_out): Linear(in_features=768, out_features=2, bias=True)\n",
       "    (layers): ModuleList(\n",
       "      (0): SpeechT5BatchNormConvLayer(\n",
       "        (conv): Conv1d(80, 256, kernel_size=(5,), stride=(1,), padding=(2,), bias=False)\n",
       "        (batch_norm): BatchNorm1d(256, eps=1e-05, momentum=0.1, affine=True, track_running_stats=True)\n",
       "        (activation): Tanh()\n",
       "        (dropout): Dropout(p=0.5, inplace=False)\n",
       "      )\n",
       "      (1-3): 3 x SpeechT5BatchNormConvLayer(\n",
       "        (conv): Conv1d(256, 256, kernel_size=(5,), stride=(1,), padding=(2,), bias=False)\n",
       "        (batch_norm): BatchNorm1d(256, eps=1e-05, momentum=0.1, affine=True, track_running_stats=True)\n",
       "        (activation): Tanh()\n",
       "        (dropout): Dropout(p=0.5, inplace=False)\n",
       "      )\n",
       "      (4): SpeechT5BatchNormConvLayer(\n",
       "        (conv): Conv1d(256, 80, kernel_size=(5,), stride=(1,), padding=(2,), bias=False)\n",
       "        (batch_norm): BatchNorm1d(80, eps=1e-05, momentum=0.1, affine=True, track_running_stats=True)\n",
       "        (dropout): Dropout(p=0.5, inplace=False)\n",
       "      )\n",
       "    )\n",
       "  )\n",
       ")"
      ]
     },
     "execution_count": 150,
     "metadata": {},
     "output_type": "execute_result"
    }
   ],
   "source": [
    "import torch\n",
    "# Check if a GPU is available\n",
    "device = \"cuda\" if torch.cuda.is_available() else \"cpu\"\n",
    "\n",
    "# Move the model to the device (GPU or CPU)\n",
    "model.to(device)"
   ]
  },
  {
   "cell_type": "code",
   "execution_count": 133,
   "metadata": {},
   "outputs": [
    {
     "data": {
      "text/plain": [
       "device(type='cuda', index=0)"
      ]
     },
     "execution_count": 133,
     "metadata": {},
     "output_type": "execute_result"
    }
   ],
   "source": [
    "model.device"
   ]
  },
  {
   "cell_type": "code",
   "execution_count": 31,
   "metadata": {},
   "outputs": [],
   "source": [
    "# MAX_DURATION_IN_SECONDS = 20.0\n",
    "\n",
    "\n",
    "# def is_audio_length_in_range(input_length):\n",
    "#     return input_length < MAX_DURATION_IN_SECONDS"
   ]
  },
  {
   "cell_type": "code",
   "execution_count": 46,
   "metadata": {},
   "outputs": [],
   "source": [
    "# # Convert 'duration' column to float (if it's stored as a string)\n",
    "# dataset = dataset.map(lambda row: {\"duration\": float(row[\"duration\"])})\n",
    "\n",
    "# # Filter the dataset\n",
    "# dataset = dataset.filter(lambda row: is_audio_length_in_range(row[\"duration\"]))\n",
    "\n",
    "# # Print the filtered dataset\n",
    "# print(dataset)"
   ]
  },
  {
   "cell_type": "code",
   "execution_count": 134,
   "metadata": {},
   "outputs": [
    {
     "data": {
      "text/plain": [
       "DatasetDict({\n",
       "    train: Dataset({\n",
       "        features: ['input_ids', 'labels', 'speaker_embeddings'],\n",
       "        num_rows: 1905\n",
       "    })\n",
       "    test: Dataset({\n",
       "        features: ['input_ids', 'labels', 'speaker_embeddings'],\n",
       "        num_rows: 212\n",
       "    })\n",
       "})"
      ]
     },
     "execution_count": 134,
     "metadata": {},
     "output_type": "execute_result"
    }
   ],
   "source": [
    "dataset"
   ]
  },
  {
   "cell_type": "code",
   "execution_count": 70,
   "metadata": {},
   "outputs": [
    {
     "name": "stderr",
     "output_type": "stream",
     "text": [
      "INFO:speechbrain.utils.fetching:Fetch hyperparams.yaml: Fetching from HuggingFace Hub 'speechbrain/spkrec-xvect-voxceleb' if not cached\n",
      "C:\\Users\\dell\\AppData\\Roaming\\Python\\Python312\\site-packages\\speechbrain\\utils\\fetching.py:151: UserWarning: Using SYMLINK strategy on Windows for fetching potentially requires elevated privileges and is not recommended. See `LocalStrategy` documentation.\n",
      "  warnings.warn(\n",
      "INFO:speechbrain.utils.fetching:Fetch custom.py: Fetching from HuggingFace Hub 'speechbrain/spkrec-xvect-voxceleb' if not cached\n",
      "C:\\Users\\dell\\AppData\\Roaming\\Python\\Python312\\site-packages\\speechbrain\\utils\\parameter_transfer.py:234: UserWarning: Requested Pretrainer collection using symlinks on Windows. This might not work; see `LocalStrategy` documentation. Consider unsetting `collect_in` in Pretrainer to avoid symlinking altogether.\n",
      "  warnings.warn(\n",
      "INFO:speechbrain.utils.fetching:Fetch embedding_model.ckpt: Fetching from HuggingFace Hub 'speechbrain/spkrec-xvect-voxceleb' if not cached\n",
      "INFO:speechbrain.utils.fetching:Fetch mean_var_norm_emb.ckpt: Fetching from HuggingFace Hub 'speechbrain/spkrec-xvect-voxceleb' if not cached\n",
      "INFO:speechbrain.utils.fetching:Fetch classifier.ckpt: Fetching from HuggingFace Hub 'speechbrain/spkrec-xvect-voxceleb' if not cached\n",
      "INFO:speechbrain.utils.fetching:Fetch label_encoder.txt: Fetching from HuggingFace Hub 'speechbrain/spkrec-xvect-voxceleb' if not cached\n",
      "INFO:speechbrain.utils.parameter_transfer:Loading pretrained files for: embedding_model, mean_var_norm_emb, classifier, label_encoder\n",
      "C:\\Users\\dell\\AppData\\Roaming\\Python\\Python312\\site-packages\\speechbrain\\utils\\checkpoints.py:200: FutureWarning: You are using `torch.load` with `weights_only=False` (the current default value), which uses the default pickle module implicitly. It is possible to construct malicious pickle data which will execute arbitrary code during unpickling (See https://github.com/pytorch/pytorch/blob/main/SECURITY.md#untrusted-models for more details). In a future release, the default value for `weights_only` will be flipped to `True`. This limits the functions that could be executed during unpickling. Arbitrary objects will no longer be allowed to be loaded via this mode unless they are explicitly allowlisted by the user via `torch.serialization.add_safe_globals`. We recommend you start setting `weights_only=True` for any use case where you don't have full control of the loaded file. Please open an issue on GitHub for any issues related to this experimental feature.\n",
      "  state_dict = torch.load(path, map_location=device)\n",
      "C:\\Users\\dell\\AppData\\Roaming\\Python\\Python312\\site-packages\\speechbrain\\processing\\features.py:1311: FutureWarning: You are using `torch.load` with `weights_only=False` (the current default value), which uses the default pickle module implicitly. It is possible to construct malicious pickle data which will execute arbitrary code during unpickling (See https://github.com/pytorch/pytorch/blob/main/SECURITY.md#untrusted-models for more details). In a future release, the default value for `weights_only` will be flipped to `True`. This limits the functions that could be executed during unpickling. Arbitrary objects will no longer be allowed to be loaded via this mode unless they are explicitly allowlisted by the user via `torch.serialization.add_safe_globals`. We recommend you start setting `weights_only=True` for any use case where you don't have full control of the loaded file. Please open an issue on GitHub for any issues related to this experimental feature.\n",
      "  stats = torch.load(path, map_location=device)\n"
     ]
    }
   ],
   "source": [
    "import os\n",
    "import torch\n",
    "from speechbrain.pretrained import EncoderClassifier\n",
    "\n",
    "spk_model_name = \"speechbrain/spkrec-xvect-voxceleb\"\n",
    "\n",
    "device = \"cuda\" if torch.cuda.is_available() else \"cpu\"\n",
    "speaker_model = EncoderClassifier.from_hparams(\n",
    "    source=spk_model_name,\n",
    "    run_opts={\"device\": device},\n",
    "    savedir=os.path.join(\"/tmp\", spk_model_name),\n",
    ")\n",
    "\n",
    "\n",
    "def create_speaker_embedding(waveform):\n",
    "    with torch.no_grad():\n",
    "        speaker_embeddings = speaker_model.encode_batch(torch.tensor(waveform))\n",
    "        speaker_embeddings = torch.nn.functional.normalize(speaker_embeddings, dim=2)\n",
    "        speaker_embeddings = speaker_embeddings.squeeze().cpu().numpy()\n",
    "    return speaker_embeddings"
   ]
  },
  {
   "cell_type": "code",
   "execution_count": 84,
   "metadata": {
    "execution": {
     "iopub.execute_input": "2024-12-24T08:31:57.237456Z",
     "iopub.status.busy": "2024-12-24T08:31:57.237126Z",
     "iopub.status.idle": "2024-12-24T08:31:57.242291Z",
     "shell.execute_reply": "2024-12-24T08:31:57.241336Z",
     "shell.execute_reply.started": "2024-12-24T08:31:57.237432Z"
    },
    "trusted": true
   },
   "outputs": [],
   "source": [
    "def prepare_dataset(example):\n",
    "    audio = example[\"audio\"]\n",
    "\n",
    "    example = processor(\n",
    "        text=example[\"text\"],\n",
    "        audio_target=audio[\"array\"],\n",
    "        sampling_rate=audio[\"sampling_rate\"],\n",
    "        return_attention_mask=False,\n",
    "        padding=True,\n",
    "    )\n",
    "\n",
    "    # strip off the batch dimension\n",
    "    example[\"labels\"] = example[\"labels\"][0]\n",
    "\n",
    "    # use SpeechBrain to obtain x-vector\n",
    "    example[\"speaker_embeddings\"] = create_speaker_embedding(audio[\"array\"])\n",
    "\n",
    "    return example"
   ]
  },
  {
   "cell_type": "code",
   "execution_count": 85,
   "metadata": {
    "execution": {
     "iopub.execute_input": "2024-12-24T07:41:09.716229Z",
     "iopub.status.busy": "2024-12-24T07:41:09.715945Z",
     "iopub.status.idle": "2024-12-24T08:00:40.176912Z",
     "shell.execute_reply": "2024-12-24T08:00:40.176117Z",
     "shell.execute_reply.started": "2024-12-24T07:41:09.716207Z"
    },
    "trusted": true
   },
   "outputs": [
    {
     "data": {
      "application/vnd.jupyter.widget-view+json": {
       "model_id": "bdbd93d9ac0740879471f9265c49b1b1",
       "version_major": 2,
       "version_minor": 0
      },
      "text/plain": [
       "Map:   0%|          | 0/2117 [00:00<?, ? examples/s]"
      ]
     },
     "metadata": {},
     "output_type": "display_data"
    }
   ],
   "source": [
    "dataset = dataset.map(prepare_dataset, remove_columns=dataset.column_names)"
   ]
  },
  {
   "cell_type": "code",
   "execution_count": null,
   "metadata": {
    "execution": {
     "iopub.execute_input": "2024-12-23T09:58:34.671609Z",
     "iopub.status.busy": "2024-12-23T09:58:34.671315Z",
     "iopub.status.idle": "2024-12-23T09:58:34.801685Z",
     "shell.execute_reply": "2024-12-23T09:58:34.800834Z",
     "shell.execute_reply.started": "2024-12-23T09:58:34.671587Z"
    },
    "trusted": true
   },
   "outputs": [],
   "source": [
    "# Access the \"train\" split\n",
    "train_dataset = dataset[\"train\"]\n",
    "\n",
    "# Get the first example\n",
    "example = train_dataset[0]\n",
    "\n",
    "# Check the shape of input_ids and labels\n",
    "print(\"Shape of input_ids:\", len(example[\"input_ids\"]))\n",
    "print(\"Shape of labels:\", len(example[\"labels\"]))\n"
   ]
  },
  {
   "cell_type": "code",
   "execution_count": null,
   "metadata": {
    "execution": {
     "iopub.execute_input": "2024-12-23T10:01:00.205048Z",
     "iopub.status.busy": "2024-12-23T10:01:00.204723Z",
     "iopub.status.idle": "2024-12-23T10:01:01.315101Z",
     "shell.execute_reply": "2024-12-23T10:01:01.314235Z",
     "shell.execute_reply.started": "2024-12-23T10:01:00.205025Z"
    },
    "trusted": true
   },
   "outputs": [],
   "source": [
    "# Checking the shape of input_ids and labels for the first 10 samples\n",
    "for i in range(10):\n",
    "    example = dataset['train'][i]\n",
    "    print(f\"Sample {i} - input_ids shape: {len(example['input_ids'])}, labels shape: {len(example['labels'])}\")\n"
   ]
  },
  {
   "cell_type": "code",
   "execution_count": 86,
   "metadata": {
    "execution": {
     "iopub.execute_input": "2024-12-24T08:01:12.962994Z",
     "iopub.status.busy": "2024-12-24T08:01:12.962228Z",
     "iopub.status.idle": "2024-12-24T08:01:12.975849Z",
     "shell.execute_reply": "2024-12-24T08:01:12.975114Z",
     "shell.execute_reply.started": "2024-12-24T08:01:12.962957Z"
    },
    "trusted": true
   },
   "outputs": [],
   "source": [
    "dataset = dataset.train_test_split(test_size=0.1)"
   ]
  },
  {
   "cell_type": "markdown",
   "metadata": {},
   "source": [
    "**main**"
   ]
  },
  {
   "cell_type": "code",
   "execution_count": 87,
   "metadata": {
    "execution": {
     "iopub.execute_input": "2024-12-24T08:01:16.780706Z",
     "iopub.status.busy": "2024-12-24T08:01:16.780408Z",
     "iopub.status.idle": "2024-12-24T08:01:16.788246Z",
     "shell.execute_reply": "2024-12-24T08:01:16.787502Z",
     "shell.execute_reply.started": "2024-12-24T08:01:16.780681Z"
    },
    "trusted": true
   },
   "outputs": [],
   "source": [
    "from dataclasses import dataclass\n",
    "from typing import Any, Dict, List, Union\n",
    "import torch\n",
    "\n",
    "\n",
    "@dataclass\n",
    "class TTSDataCollatorWithPadding:\n",
    "    processor: Any\n",
    "\n",
    "    def __call__(\n",
    "        self, features: List[Dict[str, Union[List[int], torch.Tensor]]]\n",
    "    ) -> Dict[str, torch.Tensor]:\n",
    "        input_ids = [{\"input_ids\": feature[\"input_ids\"]} for feature in features]\n",
    "        label_features = [{\"input_values\": feature[\"labels\"]} for feature in features]\n",
    "        speaker_features = [feature[\"speaker_embeddings\"] for feature in features]\n",
    "\n",
    "        # collate the inputs and targets into a batch\n",
    "        batch = processor.pad(\n",
    "            input_ids=input_ids, labels=label_features, return_tensors=\"pt\"\n",
    "        )\n",
    "\n",
    "        # replace padding with -100 to ignore loss correctly\n",
    "        batch[\"labels\"] = batch[\"labels\"].masked_fill(\n",
    "            batch.decoder_attention_mask.unsqueeze(-1).ne(1), -100\n",
    "        )\n",
    "\n",
    "        # not used during fine-tuning\n",
    "        del batch[\"decoder_attention_mask\"]\n",
    "\n",
    "        # round down target lengths to multiple of reduction factor\n",
    "        if model.config.reduction_factor > 1:\n",
    "            target_lengths = torch.tensor(\n",
    "                [len(feature[\"input_values\"]) for feature in label_features]\n",
    "            )\n",
    "            target_lengths = target_lengths.new(\n",
    "                [\n",
    "                    length - length % model.config.reduction_factor\n",
    "                    for length in target_lengths\n",
    "                ]\n",
    "            )\n",
    "            max_length = max(target_lengths)\n",
    "            batch[\"labels\"] = batch[\"labels\"][:, :max_length]\n",
    "\n",
    "        # also add in the speaker embeddings\n",
    "        batch[\"speaker_embeddings\"] = torch.tensor(speaker_features)\n",
    "\n",
    "        return batch"
   ]
  },
  {
   "cell_type": "code",
   "execution_count": null,
   "metadata": {
    "execution": {
     "iopub.execute_input": "2024-12-23T11:35:32.840382Z",
     "iopub.status.busy": "2024-12-23T11:35:32.840075Z",
     "iopub.status.idle": "2024-12-23T11:35:32.854712Z",
     "shell.execute_reply": "2024-12-23T11:35:32.853471Z",
     "shell.execute_reply.started": "2024-12-23T11:35:32.840354Z"
    },
    "trusted": true
   },
   "outputs": [],
   "source": [
    "# from dataclasses import dataclass\n",
    "# from typing import Any, Dict, List, Union\n",
    "# #import torch\n",
    "\n",
    "# @dataclass\n",
    "# class TTSDataCollatorWithPadding:\n",
    "#     processor: Any\n",
    "\n",
    "#     def __call__(\n",
    "#         self, features: List[Dict[str, Union[List[int], torch.Tensor]]]\n",
    "#     ) -> Dict[str, torch.Tensor]:\n",
    "#         input_ids = [{\"input_ids\": feature[\"input_ids\"]} for feature in features]\n",
    "#         label_features = [{\"input_values\": feature[\"labels\"]} for feature in features]\n",
    "\n",
    "#         # Collate the inputs and targets into a batch\n",
    "#         batch = self.processor.pad(\n",
    "#             input_ids=input_ids, labels=label_features, return_tensors=\"pt\"\n",
    "#         )\n",
    "\n",
    "#         # Debugging: Print shapes to verify padding\n",
    "#         print(f\"Shape of input_ids: {batch['input_ids'].shape}\")\n",
    "#         print(f\"Shape of labels: {batch['labels'].shape}\")\n",
    "#         print(f\"Shape of decoder_attention_mask: {batch.get('decoder_attention_mask', 'None')}\")\n",
    "\n",
    "#         # Replace padding with -100 to ignore loss correctly\n",
    "#         batch[\"labels\"] = batch[\"labels\"].masked_fill(\n",
    "#             batch.decoder_attention_mask.unsqueeze(-1).ne(1), -100\n",
    "#         )\n",
    "\n",
    "#         # Not used during fine-tuning\n",
    "#         del batch[\"decoder_attention_mask\"]\n",
    "\n",
    "#         # Round down target lengths to multiple of reduction factor\n",
    "#         if hasattr(self.processor, \"model\") and self.processor.model.config.reduction_factor > 1:\n",
    "#             target_lengths = torch.tensor(\n",
    "#                 [len(feature[\"input_values\"]) for feature in label_features]\n",
    "#             )\n",
    "#             target_lengths = target_lengths.new(\n",
    "#                 [\n",
    "#                     length - length % self.processor.model.config.reduction_factor\n",
    "#                     for length in target_lengths\n",
    "#                 ]\n",
    "#             )\n",
    "#             max_length = max(target_lengths)\n",
    "#             batch[\"labels\"] = batch[\"labels\"][:, :max_length]\n",
    "\n",
    "#             # Debugging: Print shapes after truncation\n",
    "#             print(f\"Max target length after reduction factor adjustment: {max_length}\")\n",
    "#             print(f\"Shape of labels after truncation: {batch['labels'].shape}\")\n",
    "\n",
    "#         return batch\n"
   ]
  },
  {
   "cell_type": "code",
   "execution_count": null,
   "metadata": {
    "execution": {
     "iopub.execute_input": "2024-12-23T09:38:18.192690Z",
     "iopub.status.busy": "2024-12-23T09:38:18.192375Z",
     "iopub.status.idle": "2024-12-23T09:38:18.199019Z",
     "shell.execute_reply": "2024-12-23T09:38:18.198282Z",
     "shell.execute_reply.started": "2024-12-23T09:38:18.192669Z"
    },
    "trusted": true
   },
   "outputs": [],
   "source": [
    "# @dataclass\n",
    "# class TTSDataCollatorWithPadding:\n",
    "#     processor: Any\n",
    "\n",
    "#     def __call__(\n",
    "#         self, features: List[Dict[str, Union[List[int], torch.Tensor]]]\n",
    "#     ) -> Dict[str, torch.Tensor]:\n",
    "#         # Ensure features are in the expected dictionary format\n",
    "#         if not isinstance(features[0], dict):\n",
    "#             raise TypeError(\"Expected features to be dictionaries with 'input_ids' and 'labels' keys.\")\n",
    "\n",
    "#         # Extract input_ids and labels\n",
    "#         input_ids = [feature[\"input_ids\"] for feature in features]\n",
    "#         labels = [torch.tensor(feature[\"labels\"]) for feature in features]\n",
    "\n",
    "#         # Collate the inputs and labels into a batch\n",
    "#         batch = self.processor.pad(\n",
    "#             input_ids=input_ids,\n",
    "#             labels=labels,\n",
    "#             return_tensors=\"pt\"\n",
    "#         )\n",
    "\n",
    "#         # Replace padding with -100 to ignore loss correctly\n",
    "#         batch[\"labels\"] = batch[\"labels\"].masked_fill(\n",
    "#             batch.decoder_attention_mask.unsqueeze(-1).ne(1), -100\n",
    "#         )\n",
    "\n",
    "#         # Not used during fine-tuning\n",
    "#         del batch[\"decoder_attention_mask\"]\n",
    "\n",
    "#         return batch\n"
   ]
  },
  {
   "cell_type": "code",
   "execution_count": null,
   "metadata": {
    "execution": {
     "iopub.execute_input": "2024-12-23T09:35:19.332371Z",
     "iopub.status.busy": "2024-12-23T09:35:19.331923Z",
     "iopub.status.idle": "2024-12-23T09:35:19.341213Z",
     "shell.execute_reply": "2024-12-23T09:35:19.340352Z",
     "shell.execute_reply.started": "2024-12-23T09:35:19.332334Z"
    },
    "trusted": true
   },
   "outputs": [],
   "source": [
    "# from dataclasses import dataclass\n",
    "# from typing import Any, Dict, List, Union\n",
    "# import torch\n",
    "# import torch.nn.functional as F\n",
    "\n",
    "# @dataclass\n",
    "# class TTSDataCollatorWithPadding:\n",
    "#     processor: Any\n",
    "\n",
    "#     def __call__(\n",
    "#         self, features: List[Dict[str, Union[List[int], torch.Tensor]]]\n",
    "#     ) -> Dict[str, torch.Tensor]:\n",
    "#         # Extract input_ids and labels\n",
    "#         input_ids = [{\"input_ids\": feature[\"input_ids\"]} for feature in features]\n",
    "#         label_features = [torch.tensor(feature[\"labels\"]) for feature in features]\n",
    "\n",
    "#         # Collate input_ids into a batch\n",
    "#         batch = self.processor.pad(\n",
    "#             input_ids=input_ids, return_tensors=\"pt\"\n",
    "#         )\n",
    "\n",
    "#         # Handle `labels` (multi-dimensional tensors)\n",
    "#         max_label_length = max(label.shape[0] for label in label_features)  # Longest spectrogram\n",
    "#         padded_labels = [\n",
    "#             F.pad(\n",
    "#                 label,\n",
    "#                 (0, 0, 0, max_label_length - label.shape[0]),  # Pad along the time axis\n",
    "#                 value=-100  # Padding value\n",
    "#             )\n",
    "#             for label in label_features\n",
    "#         ]\n",
    "#         batch[\"labels\"] = torch.stack(padded_labels)\n",
    "\n",
    "#         # Ensure input_ids and labels have consistent lengths\n",
    "#         input_length = batch[\"input_ids\"].shape[1]\n",
    "#         label_length = batch[\"labels\"].shape[1]\n",
    "\n",
    "#         if input_length != label_length:\n",
    "#             min_length = min(input_length, label_length)\n",
    "#             batch[\"input_ids\"] = batch[\"input_ids\"][:, :min_length]\n",
    "#             batch[\"labels\"] = batch[\"labels\"][:, :min_length, :]\n",
    "\n",
    "#         # Round down target lengths to multiple of reduction factor\n",
    "#         if hasattr(self.processor, \"model\") and self.processor.model.config.reduction_factor > 1:\n",
    "#             reduction_factor = self.processor.model.config.reduction_factor\n",
    "#             target_lengths = torch.tensor(\n",
    "#                 [label.shape[0] for label in label_features]\n",
    "#             )\n",
    "#             target_lengths = target_lengths.new(\n",
    "#                 [length - length % reduction_factor for length in target_lengths]\n",
    "#             )\n",
    "#             max_length = max(target_lengths)\n",
    "#             batch[\"labels\"] = batch[\"labels\"][:, :max_length]\n",
    "\n",
    "#         return batch\n"
   ]
  },
  {
   "cell_type": "markdown",
   "metadata": {},
   "source": [
    "**Model modification**"
   ]
  },
  {
   "cell_type": "markdown",
   "metadata": {},
   "source": []
  },
  {
   "cell_type": "code",
   "execution_count": null,
   "metadata": {
    "trusted": true
   },
   "outputs": [],
   "source": [
    "# class YourModel(torch.nn.Module):\n",
    "#     def __init__(self, model):\n",
    "#         super(YourModel, self).__init__()\n",
    "#         self.model = model\n",
    "\n",
    "#     def forward(self, input_values, attention_mask):\n",
    "#         # Assume input_values is your input tensor (e.g., spectrograms or tokenized text)\n",
    "#         # attention_mask indicates padding positions (1 for padding, 0 for non-padding)\n",
    "\n",
    "#         # 1. Pass the input through the model's encoder (before post-net)\n",
    "#         encoder_outputs = self.model.encoder(input_values, attention_mask=attention_mask)\n",
    "\n",
    "#         # The encoder outputs a tuple, with the first element being the actual outputs\n",
    "#         outputs_before_postnet = encoder_outputs[0]  # Shape: (batch_size, seq_len, hidden_size)\n",
    "\n",
    "#         # 2. Generate padding mask\n",
    "#         padding_mask = attention_mask  # This is typically the mask from your input (1s for padding, 0s for actual tokens)\n",
    "\n",
    "#         # Debugging: Check shapes before applying the mask\n",
    "#         print(f\"Shape of outputs_before_postnet: {outputs_before_postnet.shape}\")\n",
    "#         print(f\"Shape of padding_mask: {padding_mask.shape}\")\n",
    "\n",
    "#         # 3. Check if the lengths mismatch\n",
    "#         if outputs_before_postnet.size(1) != padding_mask.size(1):\n",
    "#             print(\"Length mismatch detected!\")\n",
    "#             print(f\"outputs_before_postnet length: {outputs_before_postnet.size(1)}\")\n",
    "#             print(f\"padding_mask length: {padding_mask.size(1)}\")\n",
    "\n",
    "#             # Align lengths by truncating the longer tensor\n",
    "#             min_length = min(outputs_before_postnet.size(1), padding_mask.size(1))\n",
    "#             outputs_before_postnet = outputs_before_postnet[:, :min_length, :]\n",
    "#             padding_mask = padding_mask[:, :min_length]\n",
    "\n",
    "#             print(f\"Shapes after truncation: {outputs_before_postnet.shape}, {padding_mask.shape}\")\n",
    "\n",
    "#         # Apply the mask\n",
    "#         outputs = outputs_before_postnet.masked_select(padding_mask)\n",
    "\n",
    "#         return outputs"
   ]
  },
  {
   "cell_type": "code",
   "execution_count": 88,
   "metadata": {
    "execution": {
     "iopub.execute_input": "2024-12-24T08:01:29.337930Z",
     "iopub.status.busy": "2024-12-24T08:01:29.337600Z",
     "iopub.status.idle": "2024-12-24T08:01:29.341636Z",
     "shell.execute_reply": "2024-12-24T08:01:29.340783Z",
     "shell.execute_reply.started": "2024-12-24T08:01:29.337903Z"
    },
    "trusted": true
   },
   "outputs": [],
   "source": [
    "data_collator = TTSDataCollatorWithPadding(processor=processor)"
   ]
  },
  {
   "cell_type": "code",
   "execution_count": 155,
   "metadata": {
    "execution": {
     "iopub.execute_input": "2024-12-24T08:01:33.219779Z",
     "iopub.status.busy": "2024-12-24T08:01:33.219458Z",
     "iopub.status.idle": "2024-12-24T08:01:33.275181Z",
     "shell.execute_reply": "2024-12-24T08:01:33.274443Z",
     "shell.execute_reply.started": "2024-12-24T08:01:33.219752Z"
    },
    "trusted": true
   },
   "outputs": [],
   "source": [
    "\n",
    "from transformers import Seq2SeqTrainingArguments\n",
    " #import torch\n",
    "\n",
    "training_args = Seq2SeqTrainingArguments(\n",
    "    output_dir=\"C:/Users/dell/Documents/GitHub/Qari-Model/speecht5_finetuned\",  # Local output directory\n",
    "    per_device_train_batch_size=4,\n",
    "    gradient_accumulation_steps=8,\n",
    "    learning_rate=1e-5,\n",
    "    warmup_steps=500,\n",
    "    num_train_epochs=5,  # Train for 5 epochs\n",
    "    gradient_checkpointing=True,\n",
    "    fp16=True,\n",
    "    eval_strategy=\"steps\",\n",
    "    per_device_eval_batch_size=2,\n",
    "    save_steps=1000,\n",
    "    eval_steps=1000,\n",
    "    logging_steps=25,\n",
    "    load_best_model_at_end=True,\n",
    "    greater_is_better=False,\n",
    "    label_names=[\"labels\"],\n",
    "    push_to_hub=False,\n",
    "    report_to=[],  # Disable WandB\n",
    ")"
   ]
  },
  {
   "cell_type": "code",
   "execution_count": 91,
   "metadata": {},
   "outputs": [
    {
     "name": "stdout",
     "output_type": "stream",
     "text": [
      "Defaulting to user installation because normal site-packages is not writeable\n",
      "Collecting tf-keras\n",
      "  Downloading tf_keras-2.18.0-py3-none-any.whl.metadata (1.6 kB)\n",
      "Requirement already satisfied: tensorflow<2.19,>=2.18 in c:\\users\\dell\\appdata\\roaming\\python\\python312\\site-packages (from tf-keras) (2.18.0)\n",
      "Requirement already satisfied: tensorflow-intel==2.18.0 in c:\\users\\dell\\appdata\\roaming\\python\\python312\\site-packages (from tensorflow<2.19,>=2.18->tf-keras) (2.18.0)\n",
      "Requirement already satisfied: absl-py>=1.0.0 in c:\\users\\dell\\appdata\\roaming\\python\\python312\\site-packages (from tensorflow-intel==2.18.0->tensorflow<2.19,>=2.18->tf-keras) (2.1.0)\n",
      "Requirement already satisfied: astunparse>=1.6.0 in c:\\users\\dell\\appdata\\roaming\\python\\python312\\site-packages (from tensorflow-intel==2.18.0->tensorflow<2.19,>=2.18->tf-keras) (1.6.3)\n",
      "Requirement already satisfied: flatbuffers>=24.3.25 in c:\\users\\dell\\appdata\\roaming\\python\\python312\\site-packages (from tensorflow-intel==2.18.0->tensorflow<2.19,>=2.18->tf-keras) (24.12.23)\n",
      "Requirement already satisfied: gast!=0.5.0,!=0.5.1,!=0.5.2,>=0.2.1 in c:\\users\\dell\\appdata\\roaming\\python\\python312\\site-packages (from tensorflow-intel==2.18.0->tensorflow<2.19,>=2.18->tf-keras) (0.6.0)\n",
      "Requirement already satisfied: google-pasta>=0.1.1 in c:\\users\\dell\\appdata\\roaming\\python\\python312\\site-packages (from tensorflow-intel==2.18.0->tensorflow<2.19,>=2.18->tf-keras) (0.2.0)\n",
      "Requirement already satisfied: libclang>=13.0.0 in c:\\users\\dell\\appdata\\roaming\\python\\python312\\site-packages (from tensorflow-intel==2.18.0->tensorflow<2.19,>=2.18->tf-keras) (18.1.1)\n",
      "Requirement already satisfied: opt-einsum>=2.3.2 in c:\\users\\dell\\appdata\\roaming\\python\\python312\\site-packages (from tensorflow-intel==2.18.0->tensorflow<2.19,>=2.18->tf-keras) (3.4.0)\n",
      "Requirement already satisfied: packaging in c:\\programdata\\anaconda3\\lib\\site-packages (from tensorflow-intel==2.18.0->tensorflow<2.19,>=2.18->tf-keras) (24.1)\n",
      "Requirement already satisfied: protobuf!=4.21.0,!=4.21.1,!=4.21.2,!=4.21.3,!=4.21.4,!=4.21.5,<6.0.0dev,>=3.20.3 in c:\\programdata\\anaconda3\\lib\\site-packages (from tensorflow-intel==2.18.0->tensorflow<2.19,>=2.18->tf-keras) (4.25.3)\n",
      "Requirement already satisfied: requests<3,>=2.21.0 in c:\\programdata\\anaconda3\\lib\\site-packages (from tensorflow-intel==2.18.0->tensorflow<2.19,>=2.18->tf-keras) (2.32.3)\n",
      "Requirement already satisfied: setuptools in c:\\programdata\\anaconda3\\lib\\site-packages (from tensorflow-intel==2.18.0->tensorflow<2.19,>=2.18->tf-keras) (75.1.0)\n",
      "Requirement already satisfied: six>=1.12.0 in c:\\programdata\\anaconda3\\lib\\site-packages (from tensorflow-intel==2.18.0->tensorflow<2.19,>=2.18->tf-keras) (1.16.0)\n",
      "Requirement already satisfied: termcolor>=1.1.0 in c:\\users\\dell\\appdata\\roaming\\python\\python312\\site-packages (from tensorflow-intel==2.18.0->tensorflow<2.19,>=2.18->tf-keras) (2.5.0)\n",
      "Requirement already satisfied: typing-extensions>=3.6.6 in c:\\programdata\\anaconda3\\lib\\site-packages (from tensorflow-intel==2.18.0->tensorflow<2.19,>=2.18->tf-keras) (4.11.0)\n",
      "Requirement already satisfied: wrapt>=1.11.0 in c:\\programdata\\anaconda3\\lib\\site-packages (from tensorflow-intel==2.18.0->tensorflow<2.19,>=2.18->tf-keras) (1.14.1)\n",
      "Requirement already satisfied: grpcio<2.0,>=1.24.3 in c:\\users\\dell\\appdata\\roaming\\python\\python312\\site-packages (from tensorflow-intel==2.18.0->tensorflow<2.19,>=2.18->tf-keras) (1.68.1)\n",
      "Requirement already satisfied: tensorboard<2.19,>=2.18 in c:\\users\\dell\\appdata\\roaming\\python\\python312\\site-packages (from tensorflow-intel==2.18.0->tensorflow<2.19,>=2.18->tf-keras) (2.18.0)\n",
      "Requirement already satisfied: keras>=3.5.0 in c:\\users\\dell\\appdata\\roaming\\python\\python312\\site-packages (from tensorflow-intel==2.18.0->tensorflow<2.19,>=2.18->tf-keras) (3.7.0)\n",
      "Requirement already satisfied: numpy<2.1.0,>=1.26.0 in c:\\programdata\\anaconda3\\lib\\site-packages (from tensorflow-intel==2.18.0->tensorflow<2.19,>=2.18->tf-keras) (1.26.4)\n",
      "Requirement already satisfied: h5py>=3.11.0 in c:\\programdata\\anaconda3\\lib\\site-packages (from tensorflow-intel==2.18.0->tensorflow<2.19,>=2.18->tf-keras) (3.11.0)\n",
      "Requirement already satisfied: ml-dtypes<0.5.0,>=0.4.0 in c:\\users\\dell\\appdata\\roaming\\python\\python312\\site-packages (from tensorflow-intel==2.18.0->tensorflow<2.19,>=2.18->tf-keras) (0.4.1)\n",
      "Requirement already satisfied: wheel<1.0,>=0.23.0 in c:\\programdata\\anaconda3\\lib\\site-packages (from astunparse>=1.6.0->tensorflow-intel==2.18.0->tensorflow<2.19,>=2.18->tf-keras) (0.44.0)\n",
      "Requirement already satisfied: rich in c:\\programdata\\anaconda3\\lib\\site-packages (from keras>=3.5.0->tensorflow-intel==2.18.0->tensorflow<2.19,>=2.18->tf-keras) (13.7.1)\n",
      "Requirement already satisfied: namex in c:\\users\\dell\\appdata\\roaming\\python\\python312\\site-packages (from keras>=3.5.0->tensorflow-intel==2.18.0->tensorflow<2.19,>=2.18->tf-keras) (0.0.8)\n",
      "Requirement already satisfied: optree in c:\\users\\dell\\appdata\\roaming\\python\\python312\\site-packages (from keras>=3.5.0->tensorflow-intel==2.18.0->tensorflow<2.19,>=2.18->tf-keras) (0.13.1)\n",
      "Requirement already satisfied: charset-normalizer<4,>=2 in c:\\programdata\\anaconda3\\lib\\site-packages (from requests<3,>=2.21.0->tensorflow-intel==2.18.0->tensorflow<2.19,>=2.18->tf-keras) (3.3.2)\n",
      "Requirement already satisfied: idna<4,>=2.5 in c:\\programdata\\anaconda3\\lib\\site-packages (from requests<3,>=2.21.0->tensorflow-intel==2.18.0->tensorflow<2.19,>=2.18->tf-keras) (3.7)\n",
      "Requirement already satisfied: urllib3<3,>=1.21.1 in c:\\programdata\\anaconda3\\lib\\site-packages (from requests<3,>=2.21.0->tensorflow-intel==2.18.0->tensorflow<2.19,>=2.18->tf-keras) (2.2.3)\n",
      "Requirement already satisfied: certifi>=2017.4.17 in c:\\programdata\\anaconda3\\lib\\site-packages (from requests<3,>=2.21.0->tensorflow-intel==2.18.0->tensorflow<2.19,>=2.18->tf-keras) (2024.12.14)\n",
      "Requirement already satisfied: markdown>=2.6.8 in c:\\programdata\\anaconda3\\lib\\site-packages (from tensorboard<2.19,>=2.18->tensorflow-intel==2.18.0->tensorflow<2.19,>=2.18->tf-keras) (3.4.1)\n",
      "Requirement already satisfied: tensorboard-data-server<0.8.0,>=0.7.0 in c:\\users\\dell\\appdata\\roaming\\python\\python312\\site-packages (from tensorboard<2.19,>=2.18->tensorflow-intel==2.18.0->tensorflow<2.19,>=2.18->tf-keras) (0.7.2)\n",
      "Requirement already satisfied: werkzeug>=1.0.1 in c:\\programdata\\anaconda3\\lib\\site-packages (from tensorboard<2.19,>=2.18->tensorflow-intel==2.18.0->tensorflow<2.19,>=2.18->tf-keras) (3.0.3)\n",
      "Requirement already satisfied: MarkupSafe>=2.1.1 in c:\\programdata\\anaconda3\\lib\\site-packages (from werkzeug>=1.0.1->tensorboard<2.19,>=2.18->tensorflow-intel==2.18.0->tensorflow<2.19,>=2.18->tf-keras) (2.1.3)\n",
      "Requirement already satisfied: markdown-it-py>=2.2.0 in c:\\programdata\\anaconda3\\lib\\site-packages (from rich->keras>=3.5.0->tensorflow-intel==2.18.0->tensorflow<2.19,>=2.18->tf-keras) (2.2.0)\n",
      "Requirement already satisfied: pygments<3.0.0,>=2.13.0 in c:\\programdata\\anaconda3\\lib\\site-packages (from rich->keras>=3.5.0->tensorflow-intel==2.18.0->tensorflow<2.19,>=2.18->tf-keras) (2.15.1)\n",
      "Requirement already satisfied: mdurl~=0.1 in c:\\programdata\\anaconda3\\lib\\site-packages (from markdown-it-py>=2.2.0->rich->keras>=3.5.0->tensorflow-intel==2.18.0->tensorflow<2.19,>=2.18->tf-keras) (0.1.0)\n",
      "Downloading tf_keras-2.18.0-py3-none-any.whl (1.7 MB)\n",
      "   ---------------------------------------- 0.0/1.7 MB ? eta -:--:--\n",
      "   ---------------------------------------- 0.0/1.7 MB ? eta -:--:--\n",
      "   ------ --------------------------------- 0.3/1.7 MB ? eta -:--:--\n",
      "   ------------------------ --------------- 1.0/1.7 MB 3.4 MB/s eta 0:00:01\n",
      "   ---------------------------------------- 1.7/1.7 MB 2.9 MB/s eta 0:00:00\n",
      "Installing collected packages: tf-keras\n",
      "Successfully installed tf-keras-2.18.0\n",
      "Note: you may need to restart the kernel to use updated packages.\n"
     ]
    }
   ],
   "source": [
    "pip install tf-keras\n"
   ]
  },
  {
   "cell_type": "code",
   "execution_count": 151,
   "metadata": {},
   "outputs": [],
   "source": [
    "from functools import partial\n",
    "\n",
    "# disable cache during training since it's incompatible with gradient checkpointing\n",
    "model.config.use_cache = False\n",
    "\n",
    "# set language and task for generation and re-enable cache\n",
    "model.generate = partial(model.generate, use_cache=True)"
   ]
  },
  {
   "cell_type": "code",
   "execution_count": 156,
   "metadata": {
    "execution": {
     "iopub.execute_input": "2024-12-24T08:01:43.910475Z",
     "iopub.status.busy": "2024-12-24T08:01:43.910163Z",
     "iopub.status.idle": "2024-12-24T08:01:44.576259Z",
     "shell.execute_reply": "2024-12-24T08:01:44.575436Z",
     "shell.execute_reply.started": "2024-12-24T08:01:43.910451Z"
    },
    "trusted": true
   },
   "outputs": [
    {
     "name": "stderr",
     "output_type": "stream",
     "text": [
      "C:\\Users\\dell\\AppData\\Local\\Temp\\ipykernel_6576\\1556254211.py:3: FutureWarning: `tokenizer` is deprecated and will be removed in version 5.0.0 for `Seq2SeqTrainer.__init__`. Use `processing_class` instead.\n",
      "  trainer = Seq2SeqTrainer(\n"
     ]
    }
   ],
   "source": [
    "from transformers import Seq2SeqTrainer\n",
    "\n",
    "trainer = Seq2SeqTrainer(\n",
    "    args=training_args,\n",
    "    model=model,\n",
    "    train_dataset=dataset[\"train\"],\n",
    "    eval_dataset=dataset[\"test\"],\n",
    "    data_collator=data_collator,\n",
    "    tokenizer=tokenizer,\n",
    ")"
   ]
  },
  {
   "cell_type": "code",
   "execution_count": 157,
   "metadata": {
    "execution": {
     "iopub.execute_input": "2024-12-24T08:01:48.185910Z",
     "iopub.status.busy": "2024-12-24T08:01:48.185572Z",
     "iopub.status.idle": "2024-12-24T08:01:51.673914Z",
     "shell.execute_reply": "2024-12-24T08:01:51.672619Z",
     "shell.execute_reply.started": "2024-12-24T08:01:48.185881Z"
    },
    "trusted": true
   },
   "outputs": [
    {
     "data": {
      "application/vnd.jupyter.widget-view+json": {
       "model_id": "1d4cec5bbbd9442294b18f15c9bb36f7",
       "version_major": 2,
       "version_minor": 0
      },
      "text/plain": [
       "  0%|          | 0/295 [00:00<?, ?it/s]"
      ]
     },
     "metadata": {},
     "output_type": "display_data"
    },
    {
     "name": "stdout",
     "output_type": "stream",
     "text": [
      "{'loss': 7.5542, 'grad_norm': 70.08049011230469, 'learning_rate': 4.2000000000000006e-07, 'epoch': 0.42}\n",
      "{'loss': 6.8153, 'grad_norm': 36.91133499145508, 'learning_rate': 9.200000000000001e-07, 'epoch': 0.84}\n",
      "{'loss': 6.3613, 'grad_norm': 36.00929641723633, 'learning_rate': 1.42e-06, 'epoch': 1.27}\n",
      "{'loss': 5.7451, 'grad_norm': 18.047910690307617, 'learning_rate': 1.9200000000000003e-06, 'epoch': 1.69}\n",
      "{'loss': 5.5785, 'grad_norm': 20.098712921142578, 'learning_rate': 2.42e-06, 'epoch': 2.12}\n",
      "{'loss': 5.3894, 'grad_norm': 12.433477401733398, 'learning_rate': 2.92e-06, 'epoch': 2.54}\n",
      "{'loss': 5.1937, 'grad_norm': 13.342560768127441, 'learning_rate': 3.4200000000000007e-06, 'epoch': 2.96}\n",
      "{'loss': 5.0461, 'grad_norm': 12.49196720123291, 'learning_rate': 3.920000000000001e-06, 'epoch': 3.39}\n",
      "{'loss': 4.8347, 'grad_norm': 14.89113712310791, 'learning_rate': 4.42e-06, 'epoch': 3.81}\n",
      "{'loss': 4.7291, 'grad_norm': 17.138290405273438, 'learning_rate': 4.92e-06, 'epoch': 4.23}\n",
      "{'loss': 4.552, 'grad_norm': 10.198186874389648, 'learning_rate': 5.420000000000001e-06, 'epoch': 4.65}\n"
     ]
    },
    {
     "name": "stderr",
     "output_type": "stream",
     "text": [
      "C:\\Users\\dell\\AppData\\Roaming\\Python\\Python312\\site-packages\\transformers\\modeling_utils.py:2817: UserWarning: Moving the following attributes in the config to the generation config: {'max_length': 1876}. You are seeing this warning because you've set generation parameters in the model config, as opposed to in the generation config.\n",
      "  warnings.warn(\n"
     ]
    },
    {
     "name": "stdout",
     "output_type": "stream",
     "text": [
      "{'train_runtime': 2078.1027, 'train_samples_per_second': 4.584, 'train_steps_per_second': 0.142, 'train_loss': 5.548078142586401, 'epoch': 4.99}\n"
     ]
    },
    {
     "data": {
      "text/plain": [
       "TrainOutput(global_step=295, training_loss=5.548078142586401, metrics={'train_runtime': 2078.1027, 'train_samples_per_second': 4.584, 'train_steps_per_second': 0.142, 'total_flos': 602479220336928.0, 'train_loss': 5.548078142586401, 'epoch': 4.989517819706499})"
      ]
     },
     "execution_count": 157,
     "metadata": {},
     "output_type": "execute_result"
    }
   ],
   "source": [
    "trainer.train()"
   ]
  },
  {
   "cell_type": "code",
   "execution_count": 97,
   "metadata": {},
   "outputs": [],
   "source": [
    "# After training\n",
    "trained_model = trainer.model\n"
   ]
  },
  {
   "cell_type": "code",
   "execution_count": 101,
   "metadata": {},
   "outputs": [
    {
     "name": "stdout",
     "output_type": "stream",
     "text": [
      "Defaulting to user installation because normal site-packages is not writeable\n",
      "Requirement already satisfied: transformers in c:\\users\\dell\\appdata\\roaming\\python\\python312\\site-packages (4.47.1)\n",
      "Requirement already satisfied: filelock in c:\\programdata\\anaconda3\\lib\\site-packages (from transformers) (3.13.1)\n",
      "Requirement already satisfied: huggingface-hub<1.0,>=0.24.0 in c:\\users\\dell\\appdata\\roaming\\python\\python312\\site-packages (from transformers) (0.27.0)\n",
      "Requirement already satisfied: numpy>=1.17 in c:\\programdata\\anaconda3\\lib\\site-packages (from transformers) (1.26.4)\n",
      "Requirement already satisfied: packaging>=20.0 in c:\\programdata\\anaconda3\\lib\\site-packages (from transformers) (24.1)\n",
      "Requirement already satisfied: pyyaml>=5.1 in c:\\programdata\\anaconda3\\lib\\site-packages (from transformers) (6.0.1)\n",
      "Requirement already satisfied: regex!=2019.12.17 in c:\\programdata\\anaconda3\\lib\\site-packages (from transformers) (2024.9.11)\n",
      "Requirement already satisfied: requests in c:\\programdata\\anaconda3\\lib\\site-packages (from transformers) (2.32.3)\n",
      "Requirement already satisfied: tokenizers<0.22,>=0.21 in c:\\users\\dell\\appdata\\roaming\\python\\python312\\site-packages (from transformers) (0.21.0)\n",
      "Requirement already satisfied: safetensors>=0.4.1 in c:\\users\\dell\\appdata\\roaming\\python\\python312\\site-packages (from transformers) (0.4.5)\n",
      "Requirement already satisfied: tqdm>=4.27 in c:\\programdata\\anaconda3\\lib\\site-packages (from transformers) (4.66.5)\n",
      "Requirement already satisfied: fsspec>=2023.5.0 in c:\\programdata\\anaconda3\\lib\\site-packages (from huggingface-hub<1.0,>=0.24.0->transformers) (2024.6.1)\n",
      "Requirement already satisfied: typing-extensions>=3.7.4.3 in c:\\programdata\\anaconda3\\lib\\site-packages (from huggingface-hub<1.0,>=0.24.0->transformers) (4.11.0)\n",
      "Requirement already satisfied: colorama in c:\\programdata\\anaconda3\\lib\\site-packages (from tqdm>=4.27->transformers) (0.4.6)\n",
      "Requirement already satisfied: charset-normalizer<4,>=2 in c:\\programdata\\anaconda3\\lib\\site-packages (from requests->transformers) (3.3.2)\n",
      "Requirement already satisfied: idna<4,>=2.5 in c:\\programdata\\anaconda3\\lib\\site-packages (from requests->transformers) (3.7)\n",
      "Requirement already satisfied: urllib3<3,>=1.21.1 in c:\\programdata\\anaconda3\\lib\\site-packages (from requests->transformers) (2.2.3)\n",
      "Requirement already satisfied: certifi>=2017.4.17 in c:\\programdata\\anaconda3\\lib\\site-packages (from requests->transformers) (2024.12.14)\n",
      "Note: you may need to restart the kernel to use updated packages.\n"
     ]
    }
   ],
   "source": [
    "pip install --upgrade transformers\n"
   ]
  },
  {
   "cell_type": "code",
   "execution_count": null,
   "metadata": {},
   "outputs": [],
   "source": [
    "# from transformers import AutoProcessor, AutoModelForTextToSpectrogram\n",
    "# import torch\n",
    "# from transformers import SpeechT5HifiGan\n",
    "\n",
    "# # Load the processor and model from your fine-tuned checkpoint\n",
    "# checkpoint_path = \"C:/Users/dell/Documents/GitHub/Qari-Model/speecht5_finetuned/checkpoint-295\"\n",
    "# #model_path  = 'C:\\Users\\dell\\Documents\\GitHub\\Qari-Model\\speecht5_finetuned'\n",
    "\n",
    "# # Load the processor and model from the checkpoint\n",
    "# processor = AutoProcessor.from_pretrained(\"MBZUAI/speecht5_tts_clartts_ar\")\n",
    "# model = AutoModelForTextToSpectrogram.from_pretrained(checkpoint_path)"
   ]
  },
  {
   "cell_type": "code",
   "execution_count": 158,
   "metadata": {},
   "outputs": [],
   "source": [
    "from transformers import SpeechT5Model, AutoTokenizer\n",
    "from transformers import SpeechT5ForTextToSpeech\n",
    "# Path to the checkpoint\n",
    "checkpoint_path = \"C:/Users/dell/Documents/GitHub/Qari-Model/speecht5_finetuned/checkpoint-295\"\n",
    "#model_path  = r'C:\\Users\\dell\\Documents\\GitHub\\Qari-Model\\speecht5_finetuned'\n",
    "\n",
    "# Load the model and tokenizer from the checkpoint\n",
    "model = SpeechT5ForTextToSpeech.from_pretrained(checkpoint_path)\n",
    "#processor = AutoProcessor.from_pretrained(\"MBZUAI/speecht5_tts_clartts_ar\")\n",
    "\n",
    "# Load tokenizer\n",
    "#tokenizer = AutoTokenizer.from_pretrained(checkpoint_path)\n"
   ]
  },
  {
   "cell_type": "code",
   "execution_count": 174,
   "metadata": {},
   "outputs": [],
   "source": [
    "example = dataset[\"train\"][0]\n",
    "speaker_embeddings = torch.tensor(example[\"speaker_embeddings\"]).unsqueeze(0)"
   ]
  },
  {
   "cell_type": "code",
   "execution_count": 165,
   "metadata": {},
   "outputs": [],
   "source": [
    "quran_text = \"إِنَّ اللَّهَ مَعَ الصَّابِرِينَ\"\n",
    "inputs = processor(text=quran_text, return_tensors=\"pt\")"
   ]
  },
  {
   "cell_type": "code",
   "execution_count": 161,
   "metadata": {},
   "outputs": [],
   "source": [
    "from transformers import SpeechT5HifiGan\n",
    "\n",
    "vocoder = SpeechT5HifiGan.from_pretrained(\"microsoft/speecht5_hifigan\")\n"
   ]
  },
  {
   "cell_type": "code",
   "execution_count": 175,
   "metadata": {},
   "outputs": [],
   "source": [
    "speech = model.generate_speech(inputs[\"input_ids\"], speaker_embeddings, vocoder=vocoder)"
   ]
  },
  {
   "cell_type": "code",
   "execution_count": 176,
   "metadata": {},
   "outputs": [
    {
     "data": {
      "text/html": [
       "\n",
       "                <audio  controls=\"controls\" >\n",
       "                    <source src=\"data:audio/wav;base64,UklGRiRoAQBXQVZFZm10IBAAAAABAAEAgD4AAAB9AAACABAAZGF0YQBoAQAAAAEAAAABAAAAAQAAAAEAAAABAAAAAQAAAAEAAAABAAAAAQAAAAEAAAABAAAAAQAAAAEAAAABAAAAAQAAAAEAAAABAAAAAQAAAAEAAAABAAAAAQAAAAEAAAABAAAAAQAAAAEAAAABAAAAAQAAAAEAAAABAAAAAQAAAAEAAAABAAAAAQAAAAEAAAABAAAAAQAAAAEAAAABAAAAAQAAAAEAAAABAAAAAQAAAAEAAAAAAAAAAAAAAAAAAAAAAAAAAAAAAAAAAAAAAAAAAAAAAAAAAAAAAAAAAAAAAAAAAAAAAAAAAAAAAAAAAAAAAAAAAAAAAAAAAAAAAAAAAAAAAAAAAAAAAAAAAAAAAAAAAAAAAAAAAAAAAAAAAAAAAAAAAAAAAAAAAAAAAAAAAAAAAAAAAAAAAAAAAAAAAAAAAAAAAAAAAAAAAAAAAAAAAAAAAAAAAAAAAAAAAAAAAAAAAAAAAAAAAAAAAAAAAAAAAAAAAAAAAAAAAAAAAAAAAAAAAAAAAAAAAAAAAAAAAAAAAAAAAAAAAAAAAAAAAAAAAAAAAAAAAAAAAAAAAAAAAAAAAAAAAAAAAAAAAAAAAAAAAAAAAAAAAAAAAAAAAAAAAAAAAAAAAAAAAAAAAAAAAAAAAAAAAAAAAAAAAAAAAAAAAAAAAAAAAAAAAAAAAAAAAAAAAAAAAAAAAAAAAAAAAAAAAAAAAAAAAAAAAAAAAAAAAAAAAAAAAAAAAAAAAAAAAAAAAAAAAAAAAAAAAAAAAAAAAAAAAAAAAAAAAAAAAAAAAAAAAAAAAAAAAAAAAAAAAAAAAAAAAAAAAAAAAAAAAAAAAAAAAAAAAAAAAAAAAAAAAAAAAAAAAAAAAAAAAAAAAAAAAAAAAAAAAAAAAAAAAAAAAAAAAAAAAAAAAAAAAAAAAAAAAAAAAAAAAAAAAAAAAAAAAAAAAAAAAAAAAAAAAAAAAAAAAAAAAAAAAAAAAAAAAAAAAAAAAAAAAAAAAAAAAAAAAAAAAAAAAAAAAAAAAAAAAAAAAAAAAAAAAAAAAAAAAAAAAAAAAAAAAAAAAAAAAAAAAAAAAAAAAAAAAAAAAAAAAAAAAAAAAAAAAAAAAAAAAAAAAAAAAAAAAAAAAAAAAAAAAAAAAAAAAAAAAAAAAAAAAAAAAAAAAAAAAAAAAAAAAAAAAAAAAAAAAAAAAAAAAAAAAAAAAAAAAAAAAAAAAAAAAAAAAAAAAAAAAAAAAAAAAAAAAAAAAAAAAAAAAAAAAAAAAAAAAAAAAAAAAAAAAAAAAAAAAAAAAAAAAAAAAAAAAAAAAAAAAAAAAAAAAAAAAAAAAAAAAAAAAAAAAAAAAAAAAAAAAAAAAAAAAAAAAAAAAAAAAAAAAAAAAAAAAAAAAAAAAAAAAAAAAAAAAAAAAAAAAAAAAAAAAAAAAAAAAAAAAAAAAAAAAAAAAAAAAAAAAAAAAAAAAAAAAAAAAAAAAAAAAAAAAAAAAAAAAAAAAAAAAAAAAAAAAAAAAAAAAAAAAAAAAAAAAAAAAAAAAAAAAAAAAAAAAAAAAAAAAAAAAAAAAAAAAAAAAAAAAAAAAAAAAAAAAAAAAAAAAAAAAAAAAAAAAAAAAAAAAAAAAAAAAAAAAAAAAAAAAAAAAAAAAAAAAAAAAAAAAAAAAAAAAAAAAAAAAAAAAAAAAAAAAAAAAAAAAAAAAAAAAAAAAAAAAAAAAAAAAAAAAAAAAAAAAAAAAAAAAAAAAAAAAAAAAAAAAAAAAAAAAAAAAAAAAAAAAAAAAAAAAAAAAAAAAAAAAAAAAAAAAQAAAAEAAAABAAAAAAAAAAAAAAABAAAAAAAAAAEAAAABAAAAAQAAAAEAAAABAAAAAQAAAAEAAAABAAAAAQAAAAEAAAABAAAAAQAAAAEAAAABAAAAAQAAAAEAAAABAAAAAQAAAAEAAAABAAAAAQAAAAEAAAABAAAAAQAAAAEAAAABAAAAAQAAAAEAAAABAAAAAQAAAAEAAAABAAAAAQAAAAEAAAABAAAAAQAAAAEAAAABAAAAAQAAAAEAAAABAAAAAQAAAAEAAAABAAAAAQAAAAEAAAABAAAAAQAAAAEAAAABAAAAAQAAAAIAAAACAAAAAgAAAAIAAAACAAAAAgAAAAIAAAACAAAAAgAAAAIAAAACAAAAAgAAAAIAAAACAAAAAgAAAAIAAAACAAAAAgAAAAIAAAACAAAAAgAAAAIAAAACAAAAAgAAAAIAAAACAAAAAgABAAIAAAACAAEAAgABAAIAAQACAAEAAgABAAIAAQACAAEAAgABAAIAAQACAAEAAQABAAIAAQACAAEAAgABAAIAAQACAAEAAQABAAIAAQABAAEAAgABAAEAAQACAAEAAQABAAIAAQABAAEAAgACAAEAAQABAAEAAQABAAIAAQABAAEAAQACAAEAAQABAAIAAQABAAAAAQAAAAEAAAABAAAAAQAAAAEAAAACAAAAAQAAAAAAAAACAAAAAQAAAAEAAAABAAAAAQAAAAAAAAAAAAEAAQAAAAAAAAABAAAAAQAAAAAAAAABAAAAAQABAAEAAAAAAAAAAQAAAAAA/////wAAAQABAAIAAQAAAAEAAQAAAAAA/v8AAP//AAAAAAIAAQABAAAAAQACAAEAAQAAAAAAAQAAAAAAAAD///7/AAAAAAAAAAABAAAAAAAAAP7///////7/AAD//wAA//8AAAAAAQAAAAAAAAAAAAEAAQABAAEAAQAEAAEABQAEAAAAAAAAAP//AAD+////////////AAD+//3//f////3//v/+/wAA///9/wEAAAABAP//AAD///7/AAD9//z/+v/8//3//P/6//7//P/+//3/AAAAAAUAAgACAAQAAgACAAEAAQAAAAIAAAABAAAAAgACAAMAAwAGAAYABAAFAAEAAgAAAAQABAAEAAEAAAABAAAAAAD////////9//3/AAAAAAYABQACAAQABQAHAAYABQAEAAYABQAFAAYAAwABAAQAAAAAAP///v/9//z/AAD5//7//f//////AQABAAAAAwD//wEAAAADAAAA/f8AAP3//v///wAA///3//v/+//7//v//P/+//7////+/wAAAAAAAAAAAAAAAAEAAwACAAMAAgACAAEAAgADAAIAAwACAP///P/8//7////+////AAD//wEA//8BAAEAAQAAAP//AQAAAP///P8AAAAAAAAAAP3/AQAAAP///v8AAP//AAABAAAAAAD9//j/+P/3//b/+P/6/wAAAQABAAMABgAGAAYABAAEAAUAAgAEAAMABAACAAMAAwAEAAYABgAHAAYABwAJAAgABgAEAAEAAQABAAAAAgABAAIAAAACAAMAAwAHAAgABwAJAAcABQAEAAMAAQAAAP3//P/6//j/9//0//b/8//1//f/+P/8//v/+v/6//r/+//+//v/+v/6//r//f/9//7//P8AAAMAAgAFAAMABQABAAAAAgAAAAIAAQAAAP7//f/+//v/+P/3//j/9f/y//H/9P/0//L/8v/1//r/AAD/////AQACAAIABAAFAAUAAwACAAMABgAJAAoADQANABIAFAAWABYAEwAUABEAFgAZABoAGQAXABYAEgAQAA4ACQAFAAAA+v/2//X/+P/3//H/8P/v/+7/7f/x//T/+v/8////AQD+/wAABQAFAAUAAAD6//T/8//0/+3/7//u/+7/8f/3//j/+f/7//n//P/8/////f/9//7//P8AAAMABgADAP7/AAD///3/+//7//r/+f/0//P/9P/5/wAABwAOABYAHAAdAB0AGwAXABMADAALAAoADAAMAAoAAQAAAP7//v/+//z/AQACAAEAAQAAAAMAAwABAP3//f8AAP3/9v/1////AgAIAAcACgANAAoABwAHAAoACQANABAADwAPAAsABwAJAAYAAAD//wAAAgAFAAMABAADAAAAAQAAAP3/9v/v/+//7P/o/+X/6P/m/+r/7//z//j/+v///wMAAwACAAQABQAHAAgACAAIAAEA/v/2//f/9v/y//j/+f/5//X/8f/x//X/+v/6//z//v8AAP3///8CAAAAAAD7/////v8AAAQABAADAAcACgANABEAEQATABEADgAOABEADgAHAAsACgAJAAgABQAHAAMABwAJAAcACQAGAAUAAAAFAAUAAQD9//v//f/7//n/8//0//D/6v/l/+L/5f/q/9v/1v/a/93/3//m/+3/7P/v/+v/7P/t//f//f8DAAcAEQATABYAEwANAAwADAAWAB4AKQAxAD0AUABZAGQAbgB2AH0AgQB/AH4AjACeALEAtgDIANEA0gDFALUAlABlABsAyf97/yT/5P6x/pD+ef5s/nf+kf61/tz+/v4z/2L/jf+w/9j/9P8JAB0AJgAzADQAPgA7AEUAUABXAGEAagBtAG0AXQBdAE0AQwA7ADUAKwAjABAAAQDx/+n/4f/e/9v/4f/k/+r/8//9/wQADQAXACAALAA1ADwAPgA9AEEAQwBFAEYARwBLAE0ASgBKAEIARAA/ADYAJwAeABQA/v/i/9H/1P/O/8T/tP+q/6v/of+U/5D/mP+Z/5n/oP+l/7L/u/+8/8T/z//T/9z/5f/z//v/+//8/wYAEgAeACgAMgA4ADkAPwBEAEcAQwBEAEYARABKAEsATgBPAFEAWQBeAGEAYgBkAGkAbQBhAF0AUwBIADcAJwAXAAIA8//g/8j/sP+Y/4T/a/9c/0f/OP8q/yT/Hv8d/yr/MP9A/03/ZP9//4//pf++/9D/5//5/wIADgAaACcANwBCAE0AVQBfAGQAawB8AIUAlACmAMEA2QDzAAsBHAEuAUIBUwFgAWwBggGRAZEBegFUAQIBggDx/23/DP+n/kL+6P3A/cL90/3o/Rn+W/6c/tr+If9T/3z/of/A/9v/7v/8/wMADwAaACYAJwAyADYASABJAEwASABEADwALgAiABsADgADAPP/5v/Z/9T/x//B/77/xv/H/9b/4f/z/wMAGQAtADsAUgBeAHAAfACAAIsAlgCjAK8AuADCANIA3wDmAOsA9gD5APcA9ADuAMoAqQCDAF4ALADp/6P/Xf8r//7+1f7J/r/+zf7j/gf/Nv9m/4//wP/l/wkAJQA5AEUASwBMAEkANgAvAB8AEwAAAPL/4v/X/87/xv+//7v/s/+v/6v/q/+s/7D/uf/D/8f/1f/a/+f/8f/w//T/9v/0//D/7v/l/+P/4//o//H/8v/3/wAACQAYABgAEAAVACQAHAAUABcAGQAhACIAGAAhADIAOQAzADcAOgA9ADsAPQBAAEEARAA+ADsAOQA3ADAAJAAaABMAEAAHAPX/7f/g/9v/zP/A/7z/vP+2/7f/tf/B/8X/w//P/9D/2f/a/9//5f/l/+n/6f/r/+T/6P/m/+L/4P/Z/8v/yP/H/7v/s/+0/7T/s/+2/7//1//n/wYAKABRAIQAtADtACUBWAF+AaEBxAHsAQoCLQJKAmwCkQKkAqMCcAL8ASoBRgBz/8n+9v0f/XP8LPz9++v7CPxh/Pb8k/0r/rz+Rf/X/zcAgAC4AMsA3ADmANYArQCPAGsARQArABgABAD+//f/7f/S/8v/xf/B/77/xv/E/9j/6f8IABQAJgA2AEkAUQBSAFAATABGADoALAAiABUACwABAPf/6v/m/+b/6P/n/+v/8P/9//3//P8GAAwAFQAZABkAKAA1AEgATQBfAHMAfQCGAI0AkQCUAIQAcwBrAF0ANQAUAPr/6f/G/7D/nf+Y/53/i/+V/6P/sv/A/8b/6//+/xYAMwBPAGgAhQCJAJcAmwCSAIUAbABMADYAEgDw/9L/t/+h/4r/ev9y/3D/bv9z/3b/hP+Q/6L/uP/H/9T/4v/u/wAADAAKABIAGAAUABQAEAAQAA0ABAD5/wQAAAD8//f//v8OAA0ADQAdADUAOwBCAGIAbQB9AIUAhQCWAJYAigB8AHQAbABNACUADgD3/97/vf+i/5P/g/9p/1r/WP9Z/17/XP9b/2r/gP+H/5L/pP+5/8b/zf/W/+X/6f/p/+X/4v/h/9L/vP+r/6r/nP+L/43/iv+j/7T/y//1/y4AcgCvAPMANQF9AcUBBwJbAq4CAwNiA9QDJARiBI0EcwS8A48CDwHT/7v+ff0L/Pb6bPov+un5+fmA+lP7D/zh/MT9sv6A/xAAmAAGAWoBnQGvAbQBswGaAW8BTwEwAQYB4ACeAGMAHQDl/6j/ff9Y/0n/Rf9Z/23/nf+//+3/EwA/AFcAaABxAG4AbQBqAFsARwA8ADUAKgAfABkAGgAbACUAKQA5AEYAVwBgAGoAbABpAGEAXwBOAEMAQwA1ADEAOABBAD4AOABEAEIAOwA0ACwAIQAWAP3/5//c/8T/tP+l/5r/lP+S/5H/jf+S/5X/nf+p/7r/zv/q/wgAHQBDAGMAfQCPAJgAmgCJAHwAUgAkAAQA2f+m/3f/Xv9U/z//N/9J/1j/av9//5f/u//X//D/DQAmAEEAVgBiAGUAZABeAFcASQAzABkA///n/9D/t/+m/5z/mP+U/4r/i/+a/5z/nv+j/6//uP+2/7f/wv/L/87/zP/Q/9j/6f/r//T/+f8DABcAHQATABkALwAqACkALwAvAC8ALwAjACIAKAAlAB4AFwAcABoAEQAJABEAFQAdACMAMgA3AEIASgBTAE8ASwBNAEwAPwBCAEYARQA4AD8AUgBCABAA9P/s/7r/Qv+z/oL+b/4T/pz9kf0U/qb+Dv9+/04ASAEOAosC8AJnA7gDwgOtA6gDnQOPA3EDMgPUAmwC+QF9AcgA9P8D/xn+N/18/Nz7Xvs5+137sfsN/Jb8Vv0m/uX+dv8MAKEABQEpASwBLQEVAeIAlQBIAA8A5v+0/4//g/+Q/5v/oP+3/73/0P/V/9T/1//X/9v/4f/q////GgAvAEIAXQB8AH8AjgCWAJEAjACDAHkAcABeAEMAOAAzACgAEgAJABAADgAFAP3/AAD0/+X/0P/G/7f/qP+c/6H/n/+k/7T/zv/l//7/GwA4AEwAZQB5AIMAjQCOAIEAdwBgAEsAMAASAP//4f/O/73/qf+g/6P/pP+u/7L/wP/a/9z/5//+////AAABAAUABQAFAP7/+f8CAAQA/P8AAAUADQADAAwAEQAQAAkADgAGAAgA///6/wgADAASABYAGgAvADgAQwBMAFUAZgBwAH0AgwCJAIgAhAB+AHYAbABVAEQAMAAWAAEA7v/f/+D/0P+4/8b/0P/S/8j/xP/L/9f/xP+5/8j/1//X/8v/2v/5//3//P8FAB0AGQAcAA4A/P/5/+P/xP+u/6T/nf+O/4r/jP+F/5H/pv+5/87/2P/h/+r/5f/d/9P/wP+p/5L/gf9i/1P/Q/85/zT/Pv9K/1b/bf+H/6T/wf/a//L/DwAoADwATABiAHgAgwCHAI4AhQBtAFkAOAAaAP//1f+t/5r/i/+H/4//wv8BAFgAsQAdAYkB4gE4AqICEwN4A9EDUATaBEcFogXABVcFMwQ7AkAAo/4d/Qj7Cvnj95T3RPcI94X31PhO+or7zPxm/uf/CAG5AWcCBgM/Ax8D2AKlAl4C/AGJAUEBFgHlAKAAYQAeAAAAzv+X/2v/Y/9V/1X/Zf+F/7b/+f89AIUAyAAKASkBQQFWAUcBHgH0ALwAiABSABoA7f/T/7z/rv+w/8X/2f/r/wQAGwAoACcALQAiABgAEwAQAA8AHQAlAC8AQwBDAEAAQwAuABkA/v/j/8j/pP+C/2j/Wf9M/0f/Rv9Q/2b/fP+R/53/uP/O/+T/7//4/wMAEQAxADwAMgBFAGkAdwBqAF4AWABPAD0AFQDh/8f/pf+E/2b/T/9H/0n/Uv9m/37/lP+u/8L/1f/u////DAAWABwAKAAsABoAEAATAA4AAwDv/9f/yf+2/6P/kP+I/3//eP91/4H/kv+g/6v/tv/T//D///8QABEAMgBMAEYARABXAGMAYABfAGIAYwBdAE4AQwBGAEYAOgAsADgASAA6ADUANQA4ADYAKwAsADEAKAAcACMAJQAnACoAKQAhACUAJgAYABMACAABAP7/+f/x/+//7v/+/wAABgAWABwAHwAXAB0AJAAeABMACwAOAA0ABwD+/xMAKwA0ADgAQABKAFwAYABeAGQAbgBrAGwAaABeAE0AIgDx/9H/tf+T/17/Pv88/0T/Q/9R/3D/nP+5/8//4P/6/wIAEgAWAA4AEQAPAAMA+//2//b/5f/d/8j/wP+2/6z/lv+V/5H/g/+F/4r/l/+a/5n/tf/O/+D/9P8LAB4AJgAwADQAJQAcAAUA9f/n/9//zf/I/8b/zv/d//D/AQAMABkAJwA2ADkANwAyADYAQgA8ADwASQBhAGsAhQCXAKgArgCyAKUApgCmAJkAggB1AGQAWQBQAFEAWwB1AJkAxADgAOYA4AAOAWABqwH2AYwCYgNNBBMFwAUOBk8F+wIXANf9D/yD+Xz2t/Tq9Kn16fVo9n74XPu9/Sb/dgAcAlcDlANMAygDFQOzAvgBfQFuAVoBDwHQAOgAHQHyAIcAHwDz/7j/Vf///u3+EP84/27/3f9wAAMBcQHbAT0CcgJmAhoCvQFTAdwAUgDC/0n/Ev8A//P+8v4N/0D/k//f/xEANABbAIYAnQCBAGMAUAA+ACwAIAAKABMAOABKAFEAbgCBAH8AYAA3AAsA2/+z/37/OP8N///+AP/y/vT+D/87/13/a/99/57/qf+n/5T/jf+V/5T/j/+i/8n/AQAvAGIAoADSAPoADgH0AM0AhAAdAKn/Nv/K/n7+Qv4k/jv+b/7J/jb/mv8VAJAA6AAWAUABWAFGASIB8ADCAIoAUgAeAOP/wf+u/5z/kf+K/4b/jv+F/3n/ev9//5X/nf+p/8z/6v8eAEwAfAClALoAtgC0AKEAgwBVACkADQDn/8T/vf++/8H/3v/7/wUADwAQABMACgD///f/7v/I/6//sP+4/6//w//I/8//5/8BAA0AEQAZACEAGAAZAAsA8//u//D/7P/u//T/BAAAAAIA+v////n/9v/y//r/8v/l/9j/1//R/8X/wP+8/7H/sv+8/8j/0v/P/8v/yf+5/6z/m/+Q/4f/j/+m/8D/2v8AACgAUwB1AIoAqQDCALYAtQC3ALMAsQChAJEAjgCOAHoAZwBqAGsAXABGAEMAQgBGAD0AOAAsADsATABfAH0AlQC9APgAMAFtAXUBdgGpAe8BOAKCAvwCrwN7BEEFzAXXBYgErQET/lP7Lvll9gvz+PBF8aDyivOu9Dz38fob/i8AzQGuAx0FdAURBaMEIARmA3UCtwFkAR0B2wCyAL0A5gDjAI8AKQDO/2D/+/6v/nX+c/7X/oj/VwAwASMCEgPIAzcEUQQhBKgD5AL6Af4A+/8M/2H+2/2F/XP9lP3D/Rz+ef7q/kv/hf+v/+3/DQAUAAkAIQBKAGUAfgCnANIA+gDyAO0AzACOADcA4/+N/1b/Iv8O/yb/Q/9y/7L/9f8/AGkAiwCWAK4ApACUAHkAWABIACgABAD+//r/BAABAAkALABNAFoAdQCPAKQArACGAF8AOQD+/7r/f/9H/xr/+v7n/vj+D/9D/3L/xv8iAGwAwQAOAUQBfgGdAZIBbQExAekAjQATAKb/W/8T/9b+uP66/tL++v45/3f/v//r/yIAQgBkAG0AZgBZAFMAPAAkAAUA6P/K/6H/fP9j/zT/FP/7/gX/B/8R/yf/Vf92/6n/2P8AAB0AOgBBADkALgArABYACwD6/+7/5//j/9r/xf+9/7T/m/93/03/K/8M/+f+0v7O/tz+Av86/3D/sP///ygAPQBPAFYARgAqAAsA7f/s/+D/yv/a/+v/AgARACsATQBVAEYASQBOAGEAbABjAI4AxgD7ACwBSQGBAa8BtgHGAekB9gHVAZwBqwEZAnsCqQIuAz0EmwXJBuAHrQgzCHoFNwHC/aH7b/hp82DvJe9S8dryXPO/9QP7SQDZAukDZQUQBxYHLwUjA8kBhgC+/hr9jvzg/DH9Qv3f/fv+2v8jABMACwDv/4f/JP/u/uz+GP93/0IAbgGjAqcDgwRDBboFpwX6BPcD5gLLAYsAUv89/q/9gf1+/Zz9+/2J/iL/m//v/yEARQBHACgA7v/G/6L/oP+i/7f/7f9EAIQAvgDUAOYA7wC8AGcAFAC3/3r/Nf8M//r+A/8u/27/rf/5/0AAgACrANkA7AD0ANUAqQCCAEgA7v+t/3j/Vv88/x//Jv9M/3f/oP/O/wQAIQAfAOz/x/+W/1v/Af/S/tj+4P4M/1//wf9LANwAOgFtAYgBfgFQAdIARADQ/1n/2f6A/ln+YP55/r7+Av9p/7j/FwBeAJwAvgDMAM4A1ADDAKQAhwBnAFYAMwAHAOn/q/+C/1b/R/8//zb/Pf9c/2b/bv95/4L/gv95/3P/bv9t/4j/sf/w/y0AcAC4APcAGwEmASEBDQHYAJYAZAA3AAsA+/8AACEAUQB7ALoA4ADZAO0A8QDeAM4AsgCgALkAwQDcAAkBUAGaAdoBFwJKAkICAQKTATsBAQGmACYA3f9qALkBUQNNBJ8EwAQDBB4Cx/9A/TX6XfYR89/xX/Ly8oDzBvbp+gAABQO7BMcGAwmgCeUHbwWJA/kBKABe/k79Mf2k/Ub+P/87AOIAQQFQASUBwgAaAFr/wf5g/oH+8f6I/3EAtAH1At4DUwSGBH8EvANDArsAsv/Q/m79Efzr+7r8cP2x/Sv+jP8NAY0BUQE1AV4BHwEyAAX/aP5F/hH+xP3t/YD+S//g/2cABQGZAdcB0AGOAVMB5QBFAND/af8l/wr//f5A/5f/3v8yAI0AygAEAQAB9wD/ANwAuwCcAHkAgAB1AIAAmwC7AMAA0gDPALcApgBoADMAEwDo//f/7f/I/+H/CADu/9X/rv+F/1j/2f51/m/+XP5A/mf+xv5i/+X/HwCIAPsAWwFBAQkB1ACRAEEA8/+a/3T/ZP9T/1L/Uv9T/2X/Yv94/5z/sP+8/8P/zf/d/8//tv+Q/33/Xv9d/1f/X/9v/4//sf/U/+b//v8PAAQA9P/L/6L/hP9Y/0v/SP9g/4n/sv/j/ycAYwCoAOwAGAEtAV0BbwF1AXIBYQFWAV4BSAEwARQBEQFAAXQBnAGpAcoBPALWAmoD6gOgBPoFwgdWCRgLfQz1C9YHHQFk+/n31/Kc6iPk6+Mg6H/rFO3Y8WD7wwSjCbILAw4sED8PQgv/BpcDEABa/Nn5hPmO+kP7Mvx+/hQBvALoAu8BHAEgAH3+tPxx+wH7ifu9/KX+LQH/A5gGkAjbCW8K9glvCM4F2wJAALX9R/uF+fH4Y/mB+rj7Nv0Q/9sAPgLeAtYC2gK1AvMB+wAZAJj/b/8r///+Rf+6//n/IABGAIEAYwDj/2r/Kv/9/uT+jv6G/vP+d//n/yMAXwDnAD0BQwEbAfEAqgBPAN7/Uv/H/m/+K/4q/jb+b/7h/nr/AQB6AOYASAFnAVUBLgHmAHkAAAB4/x3/1P6k/q7+5v4m/4P/4P9ZAMsA9wAVAR8B8ADAAFwACwDV/5b/cf9r/2v/kP+3/9z///8hACkANAAKANn/vv+V/1T/Lf8P/yD/Ov9F/3L/yf8QAEgAcgCPAJcAgQAxAAcA3f/B/4P/iP/D/97/FwBrAKUA6wAXASQBCwHIAHoAUgAPANP/y//c/+//EwA7AGUAdgCHAHkAcwBMAE0ARwBZAHwAngDXACcBWQF3AXsBXwFAAfoAlgA9ANH/hP9M/03/cf+h//b/cACvAOMA8wDqALsAawAaAM3/iP+A/4j/1P8YAG8A0gAiASkB8wCZAC4Ak/8B/7b+l/50/pT+D//p/34AxwBnAfUB5wGPAQoBlAAUAET/oP54/l3+Yv6l/kH/DQClACkBpAHWAcABPwGKAOv/XP/q/sH+1/4J/53/QwDUAHEBqgGsAZcB/gBJAKz/Bv+d/nj+iP7Q/kz/uv9EAKoA4QDvAPUAxABtACsAyP9H/1L/rf+x/1n/wP9RAboCowEDAOwA6gI2AlL+z/uD/V//r/2W+9j8mgCcAs0BbQESAz4EAwPoANX/ef9E/p/8DPyG/Dz96v2+/gAACQGKAfABwgHtACMAd/+z/rP94vzN/FD91f1j/j//bQA/AZgBswHGAXcB1AAfAKT/Uv8l//3+Q////6QATgHnAVMCkAJVAuQBgQH8AE4Au/9X/3r/v//2/4oARwETAusCXQPHA/4DyAN3AzcDsQJiAmQCvALaA3sFtQciCvEJzwV+/y36JfdJ83zryeTs5M7p0O2x7+7zv/3TB2cM2g3ID34R/A80C5AGCQMp//r67/j8+bL7bvyM/UkAcQPaBB8E9QLkAXUAlv7U/Mj7x/uW/Gz+0QArAygF4AYiCHcIjAd4BQADdwAC/ub7Ufo7+R757vlU+/r8ZP6V/6QAWAG8AY0B6gBSAAoA6//a/8//SgAzAQICiAIIA0kDbQMuA1ECggHgAB0Awf+9/3oAzQE6A2cFFgjhCDkGpADc+xX6CffA7yTp2ujY7Xzx9fGG9UH/GAmjDWMO5g+IEWMPPwpQBSUBmvwa+Cf2hvch+Y75JvsC/xcDtwT5A2oDnQPpAgIBUP9z/tT+rf+lAFoCBwQzBXsG/gafBpgFwwORAV3/J/2N+7L6DPrm+aX6JvyQ/a7+pf+AAE4BlwEBATgAf/8M/7j+Zf4H/kn+B//U/2QA2QBTAbUBfAH6AIsA6v8M/zr+xv3U/d/92f0h/uf+ov8hAFQArgAlAVABNgFEATkBVwFPAT0BUwElAdMAjQDx/zj/j/4F/oT9Ov1f/db9gP5N/xkAGgHaATcCTgIzArgBEQFRAKP/Bf+r/rf+/f5i/9v/cgA7AacBtwGpAZ0BRwGuAN7/bf8n/8r+of6j/t7+R/+C//z/bgCvANcA4ACwAIYALADF/4P/TP8p/1r/Xv+N/9z/GAA4AD0AEwD5/8r/ef9O/1f/YP+P/9j/LgCSANYAxwDJAJcAWgDb/47/f/9C/0T/i//K/10A5gBSAbIBswGFAY0BQgHVAH0AKwDl/6H/UP8G/9P+4P4C/1r/nP8TAKYATgG4AQACJwIvAgQCnAEIAXAA6/9v/y7/IP8y/4T/1f9ZANMAFAFXAWMBHAH+ALEAUQAIAL7/rP/S//v/XwDLABEBTAFOARUB6ACHAN7/Sf/s/qr+qf7F/iv/+//4AB0CewNYBKAEuwR2BBgEPAOdAfQAawFHAikEIwcHCtIKZgZ//377wPlj9Ibqv+Jb46LoF+ve67Txsv0bCfoOzxGTFfUXABZ3ESAMwAbdABb7f/if+JH4aPgS+p/9JwGuAnwCPgIDAvIAWv89/t/98v3W/qIAQwPlBcwHNAk+CkEK1QhMBsQCCP+6+/f4xfYW9Uz0FvUW93T5iPtC/Tj/YQGzAsgCGAKeAXMBDgE5AKv/pP8XAIUAqwDsADQBwQAjAJT/Bv9F/hP9TPyE/N78CP1M/SX+Xf9KAM8ASQGrAewBsQFPAecAjQA3ACcAMAA2AC0AKwAIAAcA5P9c/xD/+P7//jD/S/+s/28AOAHFATUCTAJIAg0CewH1AEQAkv81//H+Gv9e/6L/LQDnAHAB9gFYApcC1QKcAigC9QFVAb4ArgAiAToCVwRfB7QKHAsqBsD+yfnG97bzrerv4rPjIOoS77LxMPdwAl4NxxJeFIwVXhVXEQgLuAUjAb779Pa29Vv4jfs8/Qn/fAJBBgkI6AZwBOIBuP++/e77ifpk+g/89f5KAkIFngeNCYMKLgrCCAAGQAJt/hz71Pg69xL2SPbx92n69vwu/zMB1AKeA84DQwMLAogAWf9z/uf9kv12/RP+Df+x/2QA6AAbAeEAYwDb/1b/Zf7N/Rr+sv79/gL/6v/NAZwCNAJ8ATkBigHdAPD+kf0x/Z79zP0q/Rz9Qf7S/5QAHwDM/3YA3wBUAIP/HP+S//z///9pAGwBKgLFAiYD5AKbAv0B8AA2ADD/Qf4V/ub9Af6X/iz/FADSACABcQGlAVwBBgGWAF8AJwABABkAgADZAB4BfQHuATYCQgIYAvABjgEfAZEAHgCx/47/HgB/ATADkwYfC8YM/ghtApf+jf2j+BzufOXi5MjoIOsi7NnxIv20B/0N5BF1FUcX3BQLEF4LFgbW/1b6q/es90X4HvlL+6f+sAGlA2oE5QNyAscANP+s/VD80/vB/LP+CwHMA44GywgPCkgK2wlHCHcFGwIW/5P8R/qN+Av4n/ii+f36X/zg/Tb/7f9XAFQA3f+h/27/eP9+/4r/7f+ZAAQBQwFKAR8B4ABxALv/Sv/D/lb+Bf7Z/eb9OP5H/ln+tf4x/4z/3f/+/08A4wD8AO8ADQEJAQ8BdADv/3X/6v5W/qX9GP0f/VH9tP09/vL+7P/lAH0BCwJTAl0CIAKsASEBcQDl/7X/uP8BAG4AHwHFAUcCawJzAhsCeQGYALD/8/5p/vr9zf0i/sr+gv83AOUAhAG4AYwBVAEEAXEA8P+C/3D/jf/I/wsAnAAzAd8BqgJnA6wDigMRAzIDhQPxAoQCYwPuBNwG3Qj3C5wP5g2QA6z21e7t6/zkZ9lT1KTbqee177/13wDMED4czx9ZIIsfRBtpE94K7wNU/fH1SfEm8uf1oPgm+lH9hAJqBs0GcAWeA5UBS//D/Jn78vuR/IP+8gHzBagJDgzkDO4M5gs9CTgFBgDX+g736/R383ry7PIY9aX4UfzG/owA+AEyA9QDlwM4Au4AkACrAMYA4gAZAbkBUQKMApUCCgLoAMr/2/4u/iz95vsf+z/7qvsI/Ef8//xN/qz/5wDoAW4CGgPUA1kEFwTeAsUBGAEkAP7+ov3X/KL8qfxS/V/+L/87ADQBJQIEAykDwAJgAsYB6gDv/+v+BP6x/fX9TP7n/p7/lADkAY8CjQJ+AlQCpgG9AJD/1v6Z/iH+JP7B/nL/TAC+ACIBewE9AZYA5v/y/iD+Xv3V/OP8Rf3b/Rb/HQAGAe4BgAKaAmACqwHvADwAXf+//qf+xf4e/8r/cwAZAa8BmgGAAQ8BMQAf/1L+mv3m/Kr8KP3F/cD+EACRAeQCcAMqAyYD0ALaAZkAO/9S/tj9G/1P/Bb8nPxm/U/+9v7t/wEB0AEaAioCBwLVAT8BlgAOAKr/gP9d/4r/JQDFAFgBtQECAiMC9gF+Ac0ABQCJ/yP/6f7m/ir/pv9AAN4AZwHMAeYBrAFRAdQAcgD6/1X/A/8d/zX/iv+5/xYAywBlATMCHgNeA4cDhwOsAzgE4wMTA9kDZQUKB1sJvQyWEKUQNQcM+djvQ+z85cfaztKL10jki+1T8wD9kgyCGvQfASCsH5AcshWBDYEFRv8u+Xjz8/J69o75rvsS/oQBZwWpBuIEZwLj/3L9x/vV+gT7dfzK/lkC6waoCt8MjA0WDacLkQgmBNf+j/mr9VXzNvIh8vXyN/W++LL8uv9GARUC0gIxA5IC5AB9/+b+2v47/+7/ewAOAXoB4gFBAsEBFQCo/un9nP38/M/7V/v3+7r8Sv3H/ZD+cv9UAAgBsAEvApMC6gJKA0QDzAInAncBrgC6/6/+C/5r/TD9dP0H/vP+1P+4ANsBpwL2AvMCvgJVAokBcAC6//3+nf6X/ov+Af+f/08ARwFYAWcB5AHWAfsAKACq/9//Pv8w/rj/6gHJAQIBvgHqAysExQDr/d3+Z//C/BX6QPqt/BP+bP3B/XIAagKpAl0CdQLmAjUC7wAmALX/VP8H/+n+SP/l/3MAxQD2ANcAmwAVAFv/rP5K/g3+GP5a/q/+O/8ZAAoB2QE3Ak8CQwJJAscBEQFXAOr/kP9L//j+/f4F//L+J/9v/3v/aP9X/73/BgALADoAeADCACEBAwHgALwArwCSAGMAIQDw/+3/BgD4//v/q/9t/xr/z/5v/gT+vP39/Wf+6f6M/1UAOAHCAfgBWQIJAjcBdAC5/+n+Ef4t/Sr9m/0S/r3+yf/2AMIBDgI8AjoCqgGWAM//Mf+//lT+Nv61/pv/XQB3AYYCwgLAAlYCjgFGAV8AQ//p/uH+Ov/3/3AAUgGOAooDVwTMBIkE6QO5AgoCPgEYABr/Jf8hAbwDswZxC+8QrBIyCwf/u/e49fLuUuHd1xbbVuXv66Tu8PZaBikTjxi4GeYZLBi0Ek0LGwUq/4n4UPT99J34Gvsy/Ev/TQSRB3AHIwUVA44BGf+G/P76A/tv/Jv+VgG0BBAIYQpiC1cLNgrDB00EFAAZ/Ej5ePdQ9uf1aPZq+CT7lP0r/y0AQwENAjQCrQGVAAUAIQBWAFcAHgD1/1MAWgC4/+D+zP3t/G388PsY/Ff80/zT/f/+7P+0ABUBXQF5ASMBrgB7ABUAHQBqAL8A4wD/AAkBFwHdABMAc/8X/4j+Tv51/tb+9v/nAIsBiQJAA+MDdQO5AqEBGADe/iH9OvuQ+tf6Tfu4+z78iP2G/3sABwH6AZkCEQMlA+MC4gLYAssCyQK8AkACAgKyATcBdACT/+v+hv71/ZD9qP0k/tH+XP8aANkARQFyAYABpAFtAdsAkwCTAHMAZAAeADsAwAAzAaIBJQJMAoUCkQK+AvICDgO+A5UFSQdTCAgL3w6OD60Idfn568HotuUn22LSwtT+4pHxAfgk/74NMhzJIj4ijx6VGigU7goWA1z9r/ct8ybzpPeP/JT+j/+iAl0GUwc4BM3/K/0f/Pr6dfoT+yz9NQG0BbAJlQw7DQENTAzmCS0GkQEx/Ov3H/Vc897yQfN59LP23vkT/YX/zgARAaMB3gL7ArIBiACxAIsBVAINAsQB6QHXAY4B9gDx/07+zfyC/BP98/wT/DX8hf0S/1v/zf7h/pj/3v+1/4n/rf9BAOMA1gFKA7wDgAOUA74DUwODAVv/PP6E/cP89vsp/Fb9iP4mAOUBKwM9BGsEFgR9A2EC0gB3/yL+YP2f/Rr+bP5E/+YAhgJJAxADnwKdAusBbQAd/3v+Lf4b/gf+kf6Y/1oAOQH6AVYCgQLzAWMB1AD7/yX/bv7p/Sn+rv7X/ib/8/92ARUDYwJgAfsBLwKFAMH9jPtB+xv7dvn4+Lv6B/3H/koALgKtBC8GsAUjBYEERwP7ALf+LP0u/G779fr5+hr8ov0P/y0AEAHYAaoCwwJTAhgC/gHWAbsBlgF+AXcBnQGiAZEBRgHIAC4ABwBx/7f+Pv4x/mf+qP61/g7/8P9uALgAMwGVAc0BkgF2AXkBTgHxAGwABQAJALn/K//b/tz+3f7G/tX+J/+Z/wAASwCHAJMAXgDn/z3/d/7f/WL9NP1t/fv99v4eACkBSgL+ApIDvgNGAwwDngLIAWcBwwDbAPUBJALnAhgFqQe+ClENABBSEpYNTv387Czmd+NN3CDR288637PxdPzkBMYRrSGJKqgngCHdGhQRHQZE/IX1gfGM7v/uHPWC/NEA7wKmBNYGgwe2BOv/Mvyf+gX7d/zB/UYAgwQzCacMmA1WDZwMLQq8BcsAY/ze+Aj2JPTJ8xj1NvfI+aP8Kf9KAbwC3QIHArgAhf+1/sH9nfzC/PX9SP87AMMAHQGXAQsBHAAa/4v9WPwS/HH8I/2//bn+UQAxAk8DrAOIAyUDjQLbAd4A2v8w//L+Sf+v/8T/AgAHAEgAVADe/2T/zP6U/uD+HP99/zAAOwFoAi4DfwPTA5YDzwKxAWkAUP/4/aD8Svxj/NT8Z/0p/mb/qwA/AZgB0gG1AZwBhAEaASgBJQFJAY0BhAE5AQQBfADA/yP/i/7r/YL9Lf04/cD93/3//XL+5v7k/2sANwGgAdMBmgK7ApcBdgC5/w//Kv2N+WP2NfXl9CL1+fWF+Lz8HgG/BFQHJwlECk4KOAkAB4oEOQK2ANL/P/8E/4L/awA5AXABbwGEAewAAwA8/wT//f7d/hj/GgBjAW0C8AJIA5oDVQOJArsBEQEHACv/hf5z/pT+h/6D/hn//f9aAXUC/QKZA/UDTwT2BEAEeAN6BCQGkQkJDQsP2hOKFDwIhvOz4/feM9yrz5PEdM1C5Cz28v29BxEcYS3NLvImqiDWGcINHf9F9cnxYu4I607uqffh/8wDBQVyB3IK3AhHA6H9vvnY+JL5W/pm/J8AOgYLDHUPuA8MDzUNCAlMA5791/gu9YPyhfH88pj1FPgT+3b+jQFTA/oDiQN3AkYBhQATAD3/oP5h/70AywERAqoBPwGrAED/n/36+4H6rfnr+Qj7k/zv/ZD/jAE2Ay8EUgSfA9QCGQKIAbwAn/9H/77/WQCcAC8A5P8S//z9Uv01/CD74foG+wL8fP3P/qUA8AKhBOgFlgaEBrEFfgQeA6cBJABj/mH9av1+/Zb9Dv7u/tP/PgAoAF0ATQASAFcAtwBcAfoBaQKQA0QEGgSKA40CUQHI/5v94/v4+mn6lvqg+8L8bf4mAH4BWQKvAjgCowHQALP/Iv/l/vb+q/+iAKkB1gKdA5wDZgNsAvYA2P75/E/7Bfoi+rv6SfvK/GL/rQKrBIAEiQNeA88CuQDq/d77bPu6+3H73fpQ+8z8AP6v/uD+Qf/R/2QASgB3ACUBJALHAhcDXAPkA0kEswPwAp0ClQI3AjEBhgCPALoAngAWANz/GwD//8D/3P9RAL4AHQHAAYMCzgKQAkEC1AHIADH/g/0M/Mn6zfko+Yf5vPqd/Ob+PwG1A1MGEwiUCR0KsAjQBp8EiwJPAen+0/1QANUDxggID74UkBfuDYz4Eunv5aHfLNG5xAzKIOHB8xX76wYPHJQvwzVhLtclZh6XEEQBTPXP7OrnTuUr6OjxrPtVAY0F/AkCDuMORAqIA5j+/Ps6+/P63Po3/YkCBQj/Cz4N6AxgDLkJiwTk/iv6c/ae8wfylPLV9KD3nPod/qYBYARVBYsEcQPHApkBkv80/fH7ivyw/Q/+a/5V/5sAcAE3AREAuf44/Y78PPyc+2b7+Pt4/Yz/EgEhAucCmgPvA/QDRQMEAsQA6/8+/5f+wf0I/RH9cv2g/cb9hP3b/a7+eP8GAEUAzwD/AfkCcgPKA0EEqQR3BJgDugKnAXcAIP/1/UX9o/xz/CH93f3g/sH/lgCTARECzwGwAYQBJAEBAQIBCgGQAcQBCgJMAvMBUQGuALz/3P4k/qz9m/3T/RT+sv6f/yYAjgDLAPcAggGfAS8CKwICAq4ChwLXANP+/PyX+2n58vUB8xLyffIl9LD2ifpW/ygEXwhAC5UMjwxHCxsJFgaAAgn/vvxh+wT7jfvV/In+OQBaAW0CwwLDAcAA7P9i/8b+Lv7P/jkAjgHIAtoD8wTbBckF/wQjBA8DuQGOADD/Iv68/ev9Gf4c/kj+Z//PANkBggLtAl0DFwRcBOED4QKjAroEkAaBBicJoA9eFGINNvs67M/nn+Pr1zTLa8th2/vtXfnwAk8SESRRL2ovbiYoHEwSHAbb+Gnt9eb35eXnJO269iEAGQbwCBUL8g0hDSwGpv7s+pz62voe+vn6AADcBfIJ/gv6C6gK3Qf7A6z/S/t19530E/QD9hT5jPxv/5YCRQb5CLEIowbrBGwEeQNDAdP/JgBuANQAsAKGBGgFTQcUCoQKWAMH92LxrPQg85Hob+He6Nz4ugAi/2sDfxFsG4oYCRHeDFsJgAFH98HxHPCc7LHq5O5t9lL8w/5eAUwGoQmFCe4GhQNuASIB7QAcAHn/qwDyA8UGBgccBiMG5wUBBCoBkv7x/N37HPuX+/X84/1//2sBIwMYBLkDlwO3A6ECbwFQAKv/fv/f/kj+Tv7k/Vb97/xw/Bz8ZfyG/DD9O/47/1gAmwEwAn4ClwInAo4B+gBUAOf/jP9B/3//3f/x/3EAwADJADwA6f+X/6P+D/4M/g/+rP6M//MAegO9BfEFlQQzAuj/kf0W+uH1A/N98vvyD/Tr9XD4hvyyAFcE4wYqCEoI9wcmB7MFRQOtAM3+M/5H/gH+S/6w/44BygIrA3YDOgNlAjYB0////n/+qP2n/eL+dwC+AYEClwMKBY8F1wScA2EC5AAU/z79u/vM+nn6jfqS+wn92P76AEwD2gVwCMsJhAr9CesHKAb2A9UABf+w/kwAuAMMBz8MQRO2E/AGlPFT45fgRduZy+HCv82U4xD1Dv49DF8jHjP7NI4wXCnkHsoPyf6t9LXuzOZj497oafPM/N4BdgX+Co4O4wwRCAYCgvzM+cL5MvsJ/Zv/3wT2CxsQSxAcDtcKagYdALb5MfRG70vs/uyL8M30jfi7/O8BvwYWCfoIVwc4BV4DqQE+//v8Hvz0/NP+jQC3AQMDhgO/ArUBpQBX/jD7sPhL+bj7r/vI+rL8VgGGBfAFtQNgAtICFwKL/+X91v21/sj/wwAqAvwCzwHO/5T+nP0V+073M/Zi+Eb7sv3W/3ADOwjJCvoK0ApECnkIrwSSADf+Hvxz+oP53/ny+4X9xv4SAbwCagOcA0IDegJCAZX/Vv/x/9r/fQAtAqUD/gQkBaQE/gMqAmX/zPwt+jf4J/dK99D47vpY/VMAPANLBUwGLAZHBfADbQEK/yH9wPvF+3b8A/1M/g4AtgF/AksCoQHAAE7/yf3L/Ib8xPyT/ej+agDqATYDAwSmBJUEagPuAcgAef8+/iT9yfwU/YX95P3s/sj/8v8zAIQAowBgANH/KQCwAPcAkwGLAmUD5wOqA08D1gK4ASEAD/9F/n/9Fv3t/NP8f/1G/hv/Kf+x/hj/TwDVAFsA8/9xAXcDbgMqAqsBUQLpArIAmf35+6b6M/kS+C/3MvhW+pP8Pv8DAp4EUQbUBt8GVQbLBFMC3f91/bb71vpv+mH6rfp0+zr9dP6h/ob/ZQDbAIwBEQH2AOsBNAK9AvgDYQSQBHwEqwMwA0ICOACx/pT9P/0d/a38/PxS/tkAgwP9BGMGxweDCDAIhgfDBsUGNAdJCEsKpAzlDyMVfBZyC7Ly4NsI1oXU8MbRuJO/AtsZ9VIBjQyDJOw6UT7PNSMtoiOXE4P/d/FY7L3nUOLF5N7wzfwqAt8DiAcjDNoL1AVa/yT7U/n6+H75nPtc/7YE+AoID+UP1w5PDCUIYAJF/GP3XvNX8NzvlvKL9tT5Of05AaQEswZDB6YGXQWzAsQAagCD/yb+p/3n/moBgAILAu8BdwIeAnkAe/79/BH8gPvX+w/9nf1I/tT/OQGRAegAwP/0/t39TfwP/MD86vxB/bv+HAE0A/QCAwJgAh0ClgD+/e78LP3c/Gz94v4oAKgB8QIeBPAE3ANQAXf/j/0R++r4UfeP95D5ffuc/X8AtgNuBlkIpwgjCLQGAAU0AxwBQ/9X/hX+mf4a/3T/WgDzACgBHwGGAJn/8v4m/2f/zf+sAHIBMwIVAw4DpwIRAjYB1wCoAPT/1f9AAB8BFQJWAmcCxwJqAjEBMwBw/8/+Xv7w/cv9Kv/IAUwEQwY/B/oKug6JCfH9GvaS9ZP1qeyu4Yfj3u/X9z/4fPpaBa4Q0BJrD9sNcwwoCFUCdv4R/Xb6n/i1+4wAKQNzBOMFPwhMCawGYwPIAJH9H/sq+pj6Avxh/RYAHgTgBiwHPweCBrUEVwKV/+P8KfsK+hz6e/sU/WT+8f8pAvcD3QMOA24BHgE4Acr/lf2C/DL9g/1V/NX68Poh/OH7rfps+uv6+fpd+x78Jf05/vz+4P8nAZ0BpQGTAcUBjAEaAYwAmP8j/+j+jf5o/kP+if45/wgANgGOAkgDEwTcBIwFswWiBJYD6AKKAVUAHf/T/VL9Fv05/Sv+qf5C/9QAmgIcBHMFTwZhB4oHdAbjBXgFfAQPBJQExQdJDIwPfBS/GVUU8/2c4EXQt82Hxv20sq8DxWLlavuHB/gbtzhvSXBG+DqTL1Qh6wwM+fns6eW535XeI+e49Kv+WwNaBlkK9gtdCFsBbPoM9q/1KPjn+zMAXQbnDlkW8xh2F0MTewz6A7v6ivI47ObnZudV68XxjfjP/sEEmAqLDiYPQQ3gCcUFnwK8AIX+F/1S/R7/HQJABNEDDANXArr/3fvg9/b0rPNU8370nfcn/KwA3wMpBp8IkAnOBywEkwD//X781fo4+Sv6IP0MAKACBQS/BPcEjAM+AUj/xvxu+pX5fvq7/Hz+pf+DAeEC9AIdAVr+6vs5+af2qfV29S73dfqi/mcDwAd8C/kNSQ4fDcAKUAdsA07/Ufsv+Sn4SPir+Y37Zf59AU0DYwT6BEMEGwPdATQANP93/sH9yP1G/tr+iP/3/0AA0gBKAQkBlgANAFsA+wCkAUMC1wLDA04EPARgBHAE6gP6A+kFVgiqCj8NexI5F7ENnvPk3D3WUNRixRKzVLjd1PTvs/3gCysmtz87R94/5zcJLqMbCAaa9rXuAed138fh1e4p+xsAEAKUBzINFgxRBaL+Y/p/+Bf4yPnb/ToDHgp9EfMVXBa2E6gOZAeI/vT1PO8A6nzmXufe7Nnzpfmr/ioFwQrBDCQMiAlVBt0Cw/73+9r6cvm8+a38uf/uATMCDQL6AogBRP4Q+1v4rPbb9XD2HvlH/Nb+qAI+BzMJSAl7CCIHAQXGAen91/tO+wX73/vE/T0A2AL4A00EAwUEBCMCDgC9/c/8MvwN/Yb+6v9TArMEegaUB/cGGAY5BfkCLACz/d/7yftn/B/9Cf+pAfcDYQXfBbQF2AQ5A0QBSwDh/9j/VwB5ASsD8AS4BYsFIAR4AoACDQMpA9wEvAmTDC4EAvNF5lDmiuah2B3Jiszs3zjx4PeCAOsVJSpuL/grMyf2H8ESsQNU+tfzWeoP5HDpf/Ud/aX+XgIzCt0OAgxCBuwCTwDj/PX67/v6/lMCFgbsCt0Ovw/+DlINRAmLAz/+2Prj95X03fOG9tX55PyY/rYAiQRfBmAFEASxAnQBfwAI/zv9Ov13/c39tf6Y/uz96P10/VD8fftC+3T76vv3+2z9QP99AMoBHAMIBGME9QP6AvwBkQDJ/mj9kvyi/H38Uf3L/tT/YQBWANf/4P4y/UD79Pl3+Sn5WvnP+if9Xf88AasDOwZdB1AH4QYwBnQEIAJ8ABMAOf9O/tP+YQAKAnICDAM4BXkGPQUcA+UBhgGdAKb+Ov2P/Un+Ov66/rL/wADcAXkCvALTA7UDLgIrAcQAogG6AkwCEgQuCekOWxWGHR8kfh9jA6Xc+Mfew/y3MqJDm1S3meN2/rEN5yirTJ5fr1eARhQ4lyN3BZHrK+Be2+nUl9P24d34wgbXCRYNNhMEFQMNtwDB+Dz1CPOs84P4YwD+CPIQQBeTGukYoRN0C80AsPZM71fqK+fJ5sLrfPWP/iQE9AfMCx0PgQ+kC9oFoABQ/Z773/l7+L345Pr7/TkAnQAyAMP/mv7T/Hv7evp5+X36Of1vACMDZgSiBJsFKgU2Ai3/SfxT+lL5IfmL+lP8T/5WAUQEBwaKBlgFZwN9ARP/AP35+3H6e/l0+47+LQFpA/4E/QYtCHgGowNkAbj+yftv+RX47fjc+tD9/QFhBScICAqvCo8JKQbnAqMAO/0w+lH5Jvvj/YD/vQGMBNAFYQV8A+MASv48+yX47val9rD3BPqB/Mf/MwMMBfkFHgYVBbYDEAKF/8b9q/wu/Gr8KP2t/v8AgQLTAngDLgMKAZ7+G/wL+/v5UvgV+LD5MPww/4MBSAKjA14FeAWFBK8C4wEIAu8AoP9Z/x//zP6e/rn/jACGAAUBmQIyBDoEMwT+BC4FrwMYAej/BwB2/yj+sP3O/hoAEgDQ/10A1wH6AlQDwgP/A+0DvwPTAsYCnQO8A/IDAAZAChsQkhVZGuwaiAuc6XvMUsTAwyO3QKd9sJ/YDgHnE3kiQz68WQhcPUc4MS8eXQU46gDZ8NXQ1mXWh+Aj9xcKWBBNDpIOnhBwC2EAgveY84H0zfgB/5IG1A2gE9wYHRo5FpkPeQYC/dX0Xe68623rDeuv7ub2LP5cArUD4AS/B1kIJQUNA7gBrACuACcAcwBAAK3/AwCq/3D+7/wc+6j6Ufpw+Y752vnP+jr9Y/+2ARsEqAX7BgEHsQUEBCoCOgAS/j38Zfvj+4/8bP2o/mYAMwH4AFkA1/9W/3D+Pf5c/5QAbQG+ApwEpAXEBWsF4gSPAzoBBv8J/v38tfto+778Xv7h/ij/rQBgAlgD9wLxAuoCLgJBAlUCAwI0AaH/Vv9b/2n97Pq0+ZH5Bfvd+q75Zfq1/Ob+rQCEAUECHwR0BZ8FOgVUBIgDZwJKAfj/Ef4W/KP7xfvm+3T8Tf1x/q3/rACnAXkCPgI5AmoDygNCA3oC4wHtAZIB5QDKANsAmgCKANAAvwBIAHf/h/8wALUAGAFPAYcCLASKBRsHJAfgBnYJPg6UEjEY6h3NIjwdaP3Xzya2BrNUrWOb7ZR1tpfudBQwJRQ64VrCbqRi+0XjLTYYlf7S5m/ajNhZ2FjbhulL/jQLdwwvCvwJ9Ag+A1j5RPKh8TD1efxcBSQLnhBiF+8bZxuYEwgIB/+Y9sLt7+c/5lLoDe2Y8777gwN0B0wIawl6CRYHgAK7/Hv5x/iH+Bf5Yvpq/L//GwPCBFgEDwKO/3L9f/pt+JX3H/gM+8n+gAIiBoQI2gkLCuYHhwRAAW39K/pZ+Kr3H/mI+3v9KQB1A/EEVgR3AosANP6d++H4NPgC+eH5uvw7AIIDLQbmBwwJTAkYCPsFQAPLACz//P0Y/cf8UP3w/ogATgEaAlACfgLXAZv/SP0F/Dn7XvoG+878+f64AXwFNwiXCdAJgAjOBaUC/P1S+TD2U/Is8Yzz0/XD9xP63v2hAdYDpgSPBQIHDAhxB3sG7AWwBXAFyQRuA0QBkv6//Jf7q/pL+aH4lvks+8/8X/4ZABICyAPZBKwFyQXcBCkESAPFAmwBR//+/b/8s/tq+w77dPuF/EX9mv4BAMQA0wDRAIsBQQKsAdgAVgEhAr8COwObA04ESQQIA6ICrAKXAfUACwAM/2r/xf7m/eT9wP3Y/rUAkwHSAq4EgQW4BSUGDQcOCAkHWwddCuwObRIEFmMeyiAgCGnYQbZEtQ+31qRklMur2ObUFusnQjdQV/luoWVVSYkvthUi95Pbd9G108zS2NNs5VgB9BLSE9EPcBCVENcHFPua8pTvUfGQ9g3/0QipDzIVAxnYGEYURQsoAO31yO2k6Zbp+OqD7Xz0d/96CCoMMQwXDDcMOQkSAwH9q/fl8y/zc/Sv9dL2U/kc/vkCgAXGBSQF5wOaAR7/BP20+ov5Zfo4/fH/7P8oAMEBcgKqAS//N/24/CP8q/zE/rMA0gGUA5EF2AY4BqICAf8P/VD6Xffx9e/1ZvgD/Mb/vwM+BgIIOwqjCtUHaARvAVH/H/2a+mX6f/ti/PH9j/9NARADxgNeBMoDdAJdAdv/Ff5V/Yn9a/7N/7cAMwH6AeAClgIyAQUAyv5d/ZD8v/w7/Xj+yf8lATACuQJhAioCcwEYACAA+gCXAToCVwPsBFEFkwS/A00CEwDS/RP8kPso+7v6A/zq/uUBeQNoAz4D1QMFBWIEqALb/579Xv6V/aD6dvj89pj3Lvnb+P33Dfj8+Cr8Rf6z/g0AZwLHBRkJxAmDCnkMoAw9C9oIFwb9ApD/RPwm+iH5qve/90f5ZPsL/u7/0QH1A9UEQwVRBfcDxAPkA4cCpwGXAHn/AAAlACj/xf7H/kf/FQAv/7f94/1r/8UBzwKtAxUFEQbtBvEFZgQVBGIE0wYrCp8OVhZzHxsegQbE2ue4l7SWtvKnjJqbrozj6BQOJ+EupkWnXDFbrUOSKk4aVgs7+Zzv5/G98zTxhfOi/4MJnAO/9Cbu6/HP9D3wpuxL86gBDQ6MFDUYdBoTGikWUQ6rBFz7ovMe73zuxO8F83v2HPnW+/n9lv5K/ST7U/o1+1z99v5aAIoCngMKBA4EqAIxAfr/xf7U/tD+L/2k/Nv8rPzH/C78uPud/HX+3gAiArECUANhA6sCCgFS/jD8dPwd/EL8zf4xAWYDqAXWBRgFQwROAaX9h/vC+jL5Xflc+8L93v8+AEMBBgK/ATkB0ADxAFgBgQF3Ar4DuQQSBSYFzgS9A60BQQA2/1T9P/wg+zb7lfy//LD8v/1K/0UAzQG1AoYDPgTUBNwE/QO5AiUCZgEPAEz+sPva+vL5MPij93/4V/og/K/9hf81AkkEYQSlA2MD4QLiAfEAUwChAG8BoQG7AYQBNQAG/979yPzL/F/9eP0//n7/RACBAaQBtwAPAcUCrQSyBjoI8gk2C3gLwQssCTkE8wHcAsoFuAtOEegZ7yHCDVTb4rJBruC1963YnISs2empJHM5OzvTTHRmr2LcQVYhyQtu+1vsBuT96gbzhPCO9NQEbQ43BSzzlOlx7sTyPu9Z78b5YAgRFA8cLiHuH9wYcQ55Bp//i/Xd683nResm8nX3Fvlr+T/7N/5r/6z8Xfnk+J/7EgCTA/YDYgN5AxIEggSyASn82fjC+Rf9Mv9f/kz+LgANAQIA2f4A/J76Ivx2/Ub/4v8PAH8BYAKpAVb/Pf3N/IT90/5UAI8CWwQJBcEFkQV9AycA5/zN+kL6a/o2+vH6H/4WAtoESwYPBlgFsgXLBNMBBf+l/cv9OP6E/Sz9zP3w/vv/PAD+AEIBswA5AQ0CaQKuAgcClQHzARUC1gGnAfkAwQApAUYAzP/F/2n+pv2c/Uf8K/xA/CD7D/zl/vP/D/87/yEC2AZLB4IEmgMfBEMEXgFC/hT9S/y7++r6wvqK/Kr+RQEZA+YCogEPAOf9u/wl/C77pftF/Wb/zQG2BBoHLQgbCXEIvgWYAjIAk/2G+0/6vPl6+TX6/Pp2/Ar/zv/lANMCBQQ5BAEEaQTJBOIE8gN3AkAB5f/2/XD86/sU/ED8hvz9/FL+2P8MAWACdwMyBMgEhQRjA/oCXgJZAa4AKwCe//v/pwDvADQBQwERAlsBTP8m/37+mv27/f37zQD1CMQDW/wDAMwGagRU8zjkOumc89vqyNzS3+jxv//s/k//Bw2gGpAcXBeAE2QTpA4VBZcBzQErADH/5QAMBQ4IgAeEBqcHMAelA4v/xvzU+vP4tfhL+pr8R/92AcMEVAjlCTkJrwffBgkFzgHk/usAXwYFDvYXDyQbLRocMuxtxgjD0cS8rseNVY85xPz7yQ4BFg4y51W4X7NJTS+PH4QOtvm97T7t9+1Q65rwzALRD9kKQvx/9Ib1O/TX7Ifn0euf9y4FnBArGFEcmR6YHnkZig8DBIr70vab8/Px/PL59T74Nvo3/e/9BPwK+un5I/wo/g//2gEbBv4INwq2CaIHUwR0AJ7+IP1d+mT4HvgP+i78YvyH/Cr9Ef3u/Cj9/fxP/Tj+OP+OAZsDWgTTBMwEvQMFA/MBrQD2/7f/mAAbARoACACrARMA9Pyx+cr2D/iK+fT5g/rd+9kAYQZhCNcHRQfRCaIL7QciAQr8Kvlh94X0k/Ew8pT1p/mZ/YECSgfwCUgLWQsdChkIOQWDAaz+If0T/e/9hP5x/Xr9Lv+Y/iv8qvmr+Fz5W/o2+yT9PABAA8AF1AfPCN4HgwU3A1cBNv9V/Wb85Pwp/jL/YgB6AcUB8AH1AY0COQTuBfYHzQkcCh0KeAp7CGwDsf6a/d//GAB8AzgRIB5EFKTrYsToxW3VscNooxik29KKB98WYRaELjpRdVhaRkwyBiSdEtX8/fLE9XbyKum86zn+pg2EBnv2DfS/+Yf51vKi7dPxIPtZA1QMOhRQFUgU/xMXEtEK2v4M9UTwyO6H7+7xD/Y2+QX8UAGKBv4GPwNsAOMA4wL8ApgBRwAQAXYEsgY8BXgC5QDgALkBlgCw/tT9M/0C/vD/VgLDBxsUFyAnG+wCiepn5VDnw9OOtCSsF8Rw4jruCfWiDzYyaUN+QA856TI3JcIPQACW+w/2beyi66H4IQZbB58Ar/0S/0H9ivYi8HLu6vHX+eEE9g0gFHIZAh1wHM4WNgz5AXv5F/Gn7MLsmu6G8fH1GP0qAv4BHgBl/ob+n/57+6v5q/zLAG4DeAV2BeQELgUGAgH+jvt6+Kr13/U994v5mPx0/kUAIAPyBU8GKwVHBLIDygHM/iT98PtQ+0r6y/np+uL7RP1I/wcBkQOVBaoGFAfoBcEDPAJcAIH+Kf3M+uP5wPqe+u/50fnm+nT8Vf6s/woBtwLiBDcGYAavBQUF3gMuAkQAU/7h/jv/Qv67/UT+WP95/wL/nP78/hIAAAD9/6EB4AJCA/gDzgP3AmMBQ/4j/Jb7APtP+4P89v0jACwC+QJ6A20DKgLDARYCTwJ6A5IFRgcYCVsKngpPCn0HnQZEC1cPzBRLHUkj5B7l+j2+8p+8qe+vT50Ejzyx8/7fNMY4ezvUWFNxbWK8NSwT4gTT9cvkO+Ax6FnwevE1+TEMjxOuBdvy8utl73nw1+rD6235KAsFGnIkXigGJiYgvRjtDb/+cu5h5NjixeXs6bXvPfdQ/QcCQAYoBz4D9P2b+/n7Pf3R/cz+0wH/BXUI+gdgBWMBp/4a/cr6wvgc+Cr5v/sE/mYAUQOCAxUBCgEKA2IDWgHg/lMAjgJxAVz/9v/vAn4CDv7s+vv6z/zH/fX9kP5G/cr6WvuQ/fP8KfqY+TT+VgWmB/IFRgiQDREPpwufBeIBaAGH/6j7nvm3+df6D/yc/Or9Zf9LAEYBDAK4AygErALAArIDAQS6Ax8CGgFWAY0AAv/+/bn8d/tU+5r6b/pG+5D76vsw/QP+iv4T/zj/af///3wAtQADARcCLwTrBCsEMQMqAjICBgGB/vn7mPpB+w/8Qvsr+7r9UwLpBM0DYAL1AhsDiALVALb+dv78/uX/twCsAXMCjwJvA6UDeQEN/j/7Ufj89fvzvPGd8ODxR/RG+Yn/mQMXB3MLCg/xD6sNLQpnB4sEaADR+7H40Pde9073fPjo+h/9ef5MAOEC/gRgBTgFywUuBgEFRAK//zD/C/90/uz99f2A/sH/SQHkAbABkQGoAqID2gOCBP4FZgj7CiUMDw54DmMLDAuHDk4TORgDG2MiAyXBA2DCXJn4nXGreZoBgMmZJeuKLI47az32WWF8ZXN/RhYkuhLw/Wflj9rt48TtqOs78NEFixS/Cw72temK7K7upumA6EzydANCFUIj+CnpKcck5B2HE7sD+/Kl5b7eUN7Q4k/r0PN2+c3++QXEClgIrQE7/ZP8mv7y/qX9u/6bAYoEzQYwBfkA8P43/u/7t/n8+Gr4Q/gd+C/63f17/mf9bv0pAMADHAMpAJ//ZgDmAHwA7P6j/fb9k/5v//3/pf9IAMsBowKqAQMAOP/s/l7+1v2X/Wn9YP53APwB2AKLA5IELgY+BjQFEAXuBLEEyAPPAr4CbQGZAHcAyv9AAHAA2P+2/xT/2v3T/Xn90/v4/Fb/qAABA0gF9QbPCKoIiQYTBigEiADa/Vn9fP60+jrzOvO4+fP7lPf48B3zk//IB1kIYAblBrELUw4rC54FCwEyAN3/UP1w+WT1DfOK9Gb2q/aY9yn5MPysAJsEoQY1B/8H7QjwCNMHVgZ8BAYDkwHqABoADP/w/LP79vxi/ZT98P6cACACzQOKBb4FPAVMBL8CTwGf/4H93fxv/Uf+AAAQApgDeQSiBF4DlAGSAD3+u/qR9ePw7PFH84PxhvFg9HH6EgGzA6kEewaoBtAHQgjRBUwDEgEAAIoB4AAY/bn6/PlK+vz5Evho9jH3q/mg+7/97v+MAjcFNwdeCZkKzgn3BwUGpwRHAxoA1/3W/bv9cf6S/wgAVAGNAt8C6wJ2AjgBygDDAYUCjANmBW8IAwugC2YL3wrqCq4J6geeCpkPXxTEGyElXCWwC7rRcaAqn82ulaK0iHaUJ9q8JXs7fDX2Repk7mhXRksfxg1YASvu2eSg7P32RPbv83QB3hJ2DgP3hOUh5jvuoO8s7THzxQSQGBImYSrOJjgfdRcfDkMAYPAf5TXi7uWq6tbwuvkvAXAFbAhnCUQHSwJG/Gj6/vxR/mz/VAEoBNkI7AoSCAIDuf0X+3L6nPel89/ylPVj+Xv7afxK/pb/CQF3AuIBJwGQAPf/cgCFAC///P4NAN//4f/AAHYB3gF4ARoAX//B/mD8MPrD+cL51PkT/Cz+GAFlBVEIlwl7CDQHJwbyAz8Anvyn+nz5Ivhy9xb44vn8+1f9Cv5+/zgBygLFA2sD4wP5A/ADlATdA0cCNgGxADL/aP1M+wP6oPku+RH5B/ol/Kb+BgDKAQoE2QTRBdcFmwSbAwsDTALOAaMBqQFqAiYDlQL4AFL/9f3v/Ob7avux/Dz//wGgBUMIfQk0C0ILFwh3BUgFXgasClsQIRhGJb4jTv5jza+6Nsf9yMSmmI6VsET5ryU2HyMcKkLuZu9bkTFZEgQLdwTz8Bvlreui82z1QfyVCzkUEAg180bsiPHb8n7rOudo8rAHJxinIV4ksSHQH6YbjA9p/tntDeXa5A/nJOpM8YD5Zf9nBPQH8gcfA937VPhv+of8Ovwj/kUEMwxGEG4OXQlLBJwAM/s29unyvfEw9JD4HP3TAOACaQJaATAAUP6c++H6ovzo/QwAdgK3A44GhwbvAff/wv6B+oX39fcE+Qj8df7//qYBfQNEA9cBkADv/8n+9f7lACsCTAKwAx4GjQfeBjcEwQJ+AiwBbP9R/oj+zP73/Tn+qP8WAJP/JwADArQEdQfxCOQJGwpSCRYIEAWAADX95/0NBCwK/hGiIUklsgll36zJtdHq0hG1OJxutRnvrROrFAoZFzrhVNpIKSpZFosMpvyz6BrmhfN5+LP0Fv2pEeoavAul9uXyDPkW9cHpiudh9XMHeRH+Fm0e4yNjIh4YCgyKA4r6M+9052rp9fF3+OL6Bf1LAXAGVwYp/8n39/RM9+z6Iv2V/9YDhQqxEIcQJAuABeb/rfsC+ST2a/Pp9I/5Mv4zAi8DCAG+/z8ARv9F/Kj5KPqx/SUByQHYAO4BAQQyA4X/aP15/d/8ivuv+CL4kvpp+AH0tPHO8mT11/SW9DH6YgJvCBcM8g6tERcS3g6GCpIFGAEN/lD7B/qX+Xv4dfmx+5j7+foD+wn8Kv07/kL/9gGABbkHfwlPCoAJNwg9BrUDBQH4/Rf8pfsv+6b7rPwO/ZD9sv0W/h0AsQIVBXYJqg6aEC0RaRHdD3EMgAf1BUcIOQxXD1sWsSALE/vgNrHsqma6lrGVk8WTws0QEbon0iU0N3JXwV9hRm8qnxziDc/6R/Ep9/78hfa88UT9dQvhB0z1uObn5gztU+6j7iT0ZwBiEkYiQyhlJuQg2xraEkQGvPep7UHqgur+6w3xhvgD/QT/xgDJAZgBLv75+Yf6Qv0L/yYBegIdBH0GYAY6BA4BEPx9+uD6DPri+tX75Pwq/4oAIgHrAM79NPp9+ij8Rvya+qz6nv7zAKEBOAGN/4H/Jv90/qn+t/4j/qb/0wJSA9ACsgKxAskCZQI2AFf+V/6j/Sz+/P9W/2z9SP/9AeYCYQN2AjUB5/9s/wL/9f1h/Mf60vxmAHoANwAAAvkDMQbgBQYD6AEaAokBPAH2/5r+2/4e/48AUgH7/7b/xgHWAq0CUQJoAYoBsAG/ASUB2/46/N/7wPw+/i39Tfv5/LX/swFyA5gFVwgZC54MfwsCCdwFQwH0/Wn+TgHxBrMQVh0lJp8XH/Qu3bvdNd2ixhCnzKek0Y73Cf6K/+0WyDZGQNcuNxqDEk4L+/5s+Xf74f3c/YcBgAxrE04LW/1n9eXzKfL37OfqlvEY/TgKaBXVGhkcURtEGHgS7gbh+U300POB8s/xBfTz+Zn/2v9w/0MAwv5X/Bj7xftI/Xn+FADeA4QItgkMCE0FQAMHAUD9cvor+X35bvsv/wwC+AKIAwsDGgP8ABX99Pgz93X3ifYs9jb2EveF+cn6HvnX9/X3ePkh+d74Hv1NAjoE0wPLBTsL5wxDCAAFSAbPB88EZf8k/kQCTATnAdwB5gQkB78FUwIxAVUCRwGK/j/+QQIOB6wJ2QrrDI8QTBEfDcMK5QxpDigRBBRJGS0gLwoL0LyiM6IPtR2xqJcCn/7fpCTxOegyNj4cWAZV6zArEG0BJvYv5i3gM/BYAEX9DPnZA1EQgAmo71bcld6a6BHtCvDM+YMMBCHILJ0tqye8HdQTmAgv+nbuderT7FfxGPY3/iwIBQzcCX8I1AYhAvj62vXy9xz9jv+FAXIEfAgpC3UJvgMW/dT4jvZi9SP29feI+eD8wwHBBNgEigHh/Cb6LvoS+VT2b/a5+ST9EwFxBNoDfAHp/6//cQAn/zf6a/q4APwD7gNHAl0CvgNTAl/+ePqV+CL5IPr++s78iv5RAKwCnwQfBHICqQAM/mf9Xf2r/IP92P5fAagElgYJB04GxQULBjsFzAE6ACIBoAFNAb7/N/9BAKYAyf6H/Gf89fwH/Tn+rP8QAJ8AwgATAScBbADR/wkAj/9n/vL9aP0C/Q39uf36/y0CgQPWBbQG1QaqB/QEpACx/1EAbgPzBkcLRRV1GooHuOcB2vndAN0gyea1psRY6j4C4Aa+DhwjezMtMhYm+BtGEjgH/gDIAvYF/gBR+28BsQr5CBv9yfKE8Zrzy/Kx8Mnypvn/AbwLzxJDFUkUZBFHDokKrwOj/Ez5dPfG9jr7hP7R+wj6V/lj+aX64fcq80DzkPkmAFQBdQE3BCIIhAmnB5QE8gEXAPL9f/26/3YAOwB7AdIDlASaAzACxQBmAGQAGwDS/6YAWAIvAwsEKQWSBPMEowTCAvEBUAFIANv/4v1b/voA0QAc/8/96gDhBOQEfwOFBBUD+v2F/NX7hfpv+qD+jwzqEigGM/yJB6kRzf8s2DW+Fca31KHQNs254XUEZh7VJswqYC/AKjQeHRNgDXAFLvoX+X4DWwtsCYYDOgKvA1z/7PXH7YTqb+1I9T39awURDEMRXRYAFx8R+AiaAjf+xfor+F/5ofzN/2kCigTyAwwAq/wL+r/4jvif+fP8SAHxBMAGewfzBngECgIVAHX97/vz+zT9wv6t/zACygXqBe4Ctf2++LH1H/S98TPwc/Fq8Y31rvy6/Yr+PgIHBGYFjwdtBiYG2AVhBXcHHwfQA8cAOwB+AOz+XfuH+XL6MPoP+Sn5APtv/cT+7v+9AtUF3gapBusGHAjxB+0EIAGI/8D+Sv2//BP9nP61/1T/NwChAGL/av7c/ggB1QNkBh4IcwmDCQsKAAsQCo8HUgV/BxoLyg2WFIga/RUP9Uy+Bp92qXW15KvRpifGVgNDLDMtgCl5N11ALDNBHTwQ0wz+BuQCzgjTDwwM3/94+pz+Ofsz6n3dduAv7Lb0Nvk2AUcNjhW7GYwbrRjlEK8JNwZ2BFsBy/yH+rr8nP8lAJ3+Gfyu+IL3SPjd96v2KfcE+hn/nwNLBa0FrgTaAoADAQLO/eH7VfsG/hQC5AI7AhoCegGEACb+L/op94f2wfjJ+4H9O/4I/yQBIAMzAT3+rPw2+3H7QP3//p7/sQDMApsEqgVYA8L/9P+a/0/96Pzt/O/9wP8RAIQA2QKtAvYAWgILA5cCbABe/3sAqQCp/8P+C/8hAIgAtADDANcAlQFiAgoC0QB3AMoArQFZASABLQENAekBgwGY/2H+3f2S/Dz8pfy4/O78+v0n/5j/bP8U/8v9k/xK/ar9fv8RAM/+MAFuBd4GfwT5ARsC3wNxBBQDywFlAloDgQJYAB/+3fxQ/Fr8VP5nAZwE+AepCUUJGglsCFUEef+s/K7+0wZXDR4RrhnqGxcEq95TyuPS5dppyKK2VcpP+vcYlRSODkEgvDAPKE0S9gULBiwFdAH1BdUPfg96Bw8GDQqhBtv1/uXh5rXwIPXE9MT3ZAJrDUQQSRBbD+QKZweWBaQDtgFHANcAAgROBU4D0QF4/+76sPZI9Rj2/vWe9TX4FgD5BgwHpQQZBGwFMQR6/wj6Tfl3+877DPz4/VUAegHGAJD/kf5+/Af6a/gE+jb99v7fAJID1ASGBjUHCAT3AZ4BXv8//f/92f1d/48CVgSFBncHpgYnBKUBhP8L/Tv82Pzz/WH/2gD5AT0CvgFiAE3/5/5B/lD+JwCcA2oHewl2CvsKDwqRBtICkgFCAjgEbQckECcZPA4p7MfMXcch0UnLfLhXuYnaQANZFNEUkx4TLhcwxCPlFswQOgvZAkgCNAuQDg0IoQF9AkoFDf527orlZuaE6xfxUvZu/WkHZRE/GMwasRjrE9IPMwv/BUUCswBcAMb/Tf96AMwAnP5L+bbzJvKU8lfyLfKD9fL83QOPBiUITwodC24JLAVZATf/Zf7x/Zn9Dv/nAEMB3QA9AGL94/lp9wL2M/b1+Ar8vv8MBCoFowUxB0oHSQTL/4T8G/wn/QL9S/vL+iz8efsJ+Bj0t/IJ84DzF/aP+T3+nAMIB/gJzAtiDHMLOQkzB1gFxQO7AjwBNP/V/iH/Uv7C/Lj63/mK+l77Dfx8/KX+vgHKAykFWAawBioHUgcQBjwEEQOEAW8ANADl/kn9O/xh+4D7nfrE+A/65v08AiAFBQeDCswN8A02DcgLgwnACfMLNg78EiYYFRs0GZz8BsS/nqGjhLWRsk2lnbdm8hQkZCrSISgqFjr6Nf0fXhNdFRMVoA50ENoc8x6wDvP++vzw/f/wEtzX00bdDuyG9Pb5OgLaC4sS0xW4FD8Q1gsUCioKagorCboH+QbJBDYCE//q+OLypu6Z7P3ti/Cw8lD23PoaAAMFHgesBnkEewKzArQCxwHbAfoBSQR9B3oGHgNt/8D7zfkY+FH0svLg88f3G/y2/Lr8jf51AAwB0v8p/mv/2AEXAv0C5ASdBtYGdgVEBTIEzgE+AIf+i/18/TT9Gf1//tv+Q/5uAO0BqAHZAQQD9AP2BOQE6QNhBDEEOgLtAEkBewC3/4j/1//j/+3+3f62/8sA3QBRAOIAFwEnAU4BzQCQAMkAewEZAhsCWwLVApsBrf9gADf/3vw6/z4EuwcXBRD9WPoCAMD/6PTD6EvnU/EA+vP66fs9AVcGxQY2AWr8sPqh+bb6N/4oAhUEGQYhCnoNXg2cCv4GTgUtBbkE6QNbApUBrwMIBVUEjQNXA1wDVAJyAHz/pf+v/RX8vP7XAaMD4wR8BWAGKQdMA+j99vr3+Bb3zPM18hH1DPkj+jD6APzh/kQAMv4D/Vf+bf9e/1r/FwApAkkDNQMnA30CYAGDAAn/V/xz+g364/qN/KL8vf00AMMBmANeBP4DRwTwBK0ETwR1A78CKwMaAyYC6AC5//z+Hf5O/ST8rvtO/ED8XP0f/+IAPQPdBn0KmAxCDUEMbww0DLYJCgeSBhgJSw5pEj0YphZj987FR6cMrRG+HLmrq7nCNfttJcgpcR9kJ5I4DDI3GXkM8g85EjcORg6OFs0ZgQ30/Xb7ifya8Cnexda24M7w0fkl/v4G3RFLGI0XSRJhDHsHAwSOAr4DhQVhBkYHVgW1ASD///vE9hjxKO7b8F32pPkD/Nv/9wSCB+cFYwN3Aaj/J/60/E/9+f/BAbUDdwWTBTAEUwEk/Uj50vZx9Tj2X/j0+d/8/gB9AwAE+gFs/9L+BP44/If72f2sAHYCVgMEBZIGsQSlAbP+jf2v/aX8uvvy/Gj/dQH0AR0CqQJAA8cCSAHz/5v/mP8t/5D/H/+j/8YA3v+K/q/9sfzG+0/8I/3Y/dH+4QAPAjMCigIwAywDogKGADv+O/8h/4n92vzc/IX9v/3h/FD8xPxc/YX9gv1W/qP/0wCiAVgC1wKaAlQCXQKBAeT/Gv8a/zT/0P9/ADkBTwOhBJEExgSUBNgD5gODBPgEoQWPBssIJQoqCVMIXwcgBmMEogLnBEUK2A2/E08alRRY9CXBrKYztZPGbb6atbrO7wNaJ5Qh8BayI3QvTyU2EswKXRHyEsYMBxLXHZYbYwsw/k397/zp72jfId6w6SX1NfzSAYwI3Q0sEAkRIRDRCwcGaAUeCU4LMQk3BqAEFAN5AET7AvWF7wvsyOyR8Dz0ePaS+f/+tAOSBbQEgwIRA5oE6wNuA38DOgMnBUEGoAQxA7QArvu4+HH5Y/gc9kL1r/cv/Zf/r/9BAFMCKQRlAuH/rP+/ACoBYAL0A9AEEQZtBmkGywV9A3gBpwB5AMz/D/9o/5cARAFqASQCpgLUAh8D9AIHA5UDHgMhAz4D3ALbAuwCxwO9A4YBDwFCAE/9EvqJ+A/9AAMpBUAJRBBnDVAAJvfu+60DLvey2xzSFeKw8RXvQ+ey8bcIARGrB8j/zgGwA9T9X/fY+YcAVwM+BjENZRP+EtEMFQeIBNABGf5r+nn5av3QA4EIYwllCbcJJQilBKIBkv5G/En8Dv02//cBgANCA34C2wEqAGv8J/lx+Hz50PwuAIACpgSCBzQIBgcsBecBY/8X/rz8gvzJ/b3+6P76/3oBnwFRADX+kPyH/dr+Lf4S/dj+SgOmBcQF0QXPB0QJrgFQ9RTsueZI4+7fleDr5wjxA/mMAekJCg9FDxYMgAq1CSsInQYRBnMHowlMCioJCQcDBB4BjP74+6D4e/YA92X5K/zr/Rn/jQCiAuMEVQUUBG4DZQQZBqQG8wQPBGgEyANnAhYAH/0B/NL7EPst+4n7xfue/vYCjQWcB4UITQi9B4wICwkXB1YFAAR2BqIM5w/SE0sakhHS55C1LKUfueTHmLoJtePacRDUJawbrhckKaUvEh7PEBgV3RmUEzwOYBc6IX0VDf8J90D7Rfh+6frfbuez9Gb7vf+7BVQKPgrzCOEJPwriBr8DnwUqCgcMQgoXCAwGQgIv/qj54PMe76Ltne/g8x73fvi6+tX9CQG7A9ACIAAR/w0AewKSApsA2AAmA5AF4QVTAv/9pPu3+ZT4G/jE9sP2Lfn7/b4Ab/6y/J/9Hf+k/l/8lfub/WoAlAGdAhYE+QPtAosDNgPSAJT/vP5y/1cAGP+a/qAAIgGj/20A3gHbAQMAnf7cAMQD0gL6/yUAmgH4ADYAif+c/n0ANQIEAtECmgPXAxgFwwScAlECaQJBAgsCVgHeATID0QKvAWgBywAVANL+SP6D/iv+If70/lT/oABNAjMDpARoBEkCoQA4AND/n/7x/roDnAuADUAC+vMl72nvX+lY3D7XyOQn9gr9BACkCLIVixrLEeMGXQNUAvn+XP7XAmMJlg1kDpMNkwxCCLMA3vpq90b2PfeJ+Qr9vQCzAzwGcAdwBW8COAHDARACvAH2AhkGKghQCD8G0gPrAZf9e/la+ND3rPcF+Zj66fzl/oL+yP83AXgA1f+5/wgAyACIAWoC6wOXBIoD6ALrAbYAZf8Y/hf+O/7R/bv9x/5e/ysA7wC4AFoBHQJYA3QD/gJzAzQEjQR8A+sB1AB/AAIAXf84/gf9Wvzk/Nz89vt5/N7+DAIoBJkE+AVZB5UGWwZzB60GAgQoBGAG+AvLE24ZUxyfDJjbeK2+qcnArcjQt4G37OQ8G7AnIhisGAYsri/wGncLkxHeGVwTig0EGEwhfxSA/U716/qj99zlDtvx5PH2ev/YAGUEKQu0DRQKnwcdB0wFbwL8ARAHCgu4CdkGOQP//yz+ofnn9HPyuPGi9EX5p/si/Sr/2AC8Ar8CZADS/sD9x/3k/6cApwC4ARYDpARhBGMBtf7X/Af6zviR+Ff4PPop/Gr9sP7T/qf+YP1N++P6rftW/H386P3DAUIEkAPWAlACJQHp/4r9FvxT/JL8Uvyx/XoAkQExACoA0AGpAaIAmP9hAAMDEgRnAScBuAI+AoEBLQCA/9n/zQBUArEC8gHxAToCCAK7AEP+Df61AFMCPwEgAPUATALWAo4CzgJhA2UC1ADh/z7/kP5k/bb8nf0w/8b/rQAIAoUCAALjAPL/L/6G/Jj7E/2PALADfAkEFpwa2Afi6ofdwOWd6lDacsxi2qz32QahA3YCag2TFJAOcwcnB2sImAeiCPIQBhkZFYIMgQriC8YIRf+C9gT2n/ln/D/+s/+uACoCtwODA90Bu/+B/qD/CgJ/BCkGkQZxBuwEMAPQAW7+4fk8+CP51vrs+637b/0NAGcAs/9P/k39wPyA/e795v3c/uj/uwECBN4DrwKBAgkBVP4Y/Qn8rvl/+dX67vtn/ar9Jf7P/sf/nwH/AJv/RgASAJUABgKiAhIDKgQtBZgFVAV8A+gCdwSPBFcD1AEMAnECiAIZAloB1ABOAJ8AtQAUAQsC0QLuA+AD0AHRACIAuv9TAOb/vv8HAHr+yP3R/eP9Uv4R/oP+1v/jAagClgOMBGgDBwKl/839vvxj+lL70P8FA0UH6hGaHHEW8vQI0QfOoN0s3cPO4sxn5Or/zwYOB20Q5hcVFPwLZg7LFDIRfQw1E9gejB+yEjoISAgUB/H+w/WD8sv0vPb295n9pwKGAzsDowNpBNED9wGBAaYCSgPhBHoHeggOBrMD9wEK/3L79PeQ9i/35/fQ+Nj60vxw/aj9Ov4X/ygA2AAnAQ8C2AKTA6oDTwOzAwEEhAPeAnwBVwDW/pX8Hvo5+Hb4EPlA+lT65/mu+sn6b/ki+RL76/xf/uL+HgFdBHwFiAaXB3MGSwTkA9sD6wLJAUEBCgI1Avv/Gf18/Dv9Wf0l/U3+1v+HAJQBswLSAiMCaQKpAoECwgEuAKkAiAFIAJP/CP94/mT+KP4p/hn/zv+1/4wAfQEXAvAC0wOtBMgDBgPQAR4AUwCe/0wBvQZtC4UPThXtEmX7ltK6tYK+qNRB1L/JZ9eX/AIX3xK2Cb0Sbxt5FMcKPw23FpoXkBLyFrQemBjIB0D8Wv32/4z5s/FM84D5Z/3Y/yYDmgR0AqYAGQKTBF8ESAM3BbAIpgruCQsIKAUWAgH/+Pt8+YT31/ZY9zH44Pit+bP6DPok+lz7FPx6/VL+UP91AZ4CRALnAikDEQPCAlAASf4K/qf9Bf3D+x770/uz/EL+jv7j/S/+9P0d/QH9UP2h/Zb+Gv+5/1ABXAFHANAA3gB+/7D+RP7r/mEAfABCAA8C3wHHAA4C6AIQA14BTABOAeQBOAAh/tP9TP0N/OX6FPrz+ib8Iv2n/eb9Z/9OAccCgAO+BPAF4QaQBzsHhAbfBdwEzgJvAacA9/7q/Av9Bv+G/37+d/5t/4AAUwCt/hgAJALwATMBwQGTA3UEAQRsAxQDdQL2ABT/8P2D/YX9D/4d/4YAFgIHAwQECgSMA9ID1gKe/7P9g//OAi4HjwsgEV4WrAul603Q48+I3fbeYdFV0/XvfQvaD3EHsglBFJYUEAyACdANFxE+EQsUgxqtGeIOVQU1AwUCH/yf9GPy9PYc/Nn+cwB8AAMAngGaAlADAgMVAeIC2AYICNEI1AgEB7QEQwKPACT+KPke9Y724fmm++b7/vu7/dD/PP+T/Fr7WPwd/jX/Z//L/9QArwIFA38DCwTuAkYBJQDh/03/N/4k/W/99f61/8z9Kf2n/zMBPQHx/mT8p/8ZA+0AZv8SAJQAEgGJALv+SgAzAhECmgK2AgUE9wSaAxECsgA7AJ0A3v8Q/xwANwGJAZYB5gA1AEf/m/2m/JT8xPz1/Ef+OwDqAXgCtQKrA4sDswLKAlsCNgFjAZED7gfRChwLrQrnBDvyxdVwx8bUAuj46uDkp+xgBykaqRTgCLMHCwoVBUf8sfotAJ8CGwPLCDYOdwqQAJ/6Yf38/8L7ifh4/NcD+QmXDB0Ndg0BDB8JBwc4BKMBogBjAEABoQHqABYBzf/e/cP8Ovuj+or6KPuS/ToBDgNEA0EDDQQwBKwCmgC0/3IACAFHAHD/3f6C/sv+pv6s/jwAlQGqAccAEwBJ/43/fP///i8AKgE3ARoAMP50/CP6dPc89Q3zaPJF8//zzPb4+uH+UwHqAsEEWQa+B/4Huwc1CLQHyQbVBVUEqQKSAfUAzAB7ADb/gP4x/sn9Hf22/BL99v3n/6oBkgLnA9YE6wSaBKADfQKeAZYAvv/q/vP98Pyc/Ef9tP15/a/8z/1HARkD2ALcAtADvwW7BRMETASGBP8E/Ac8CXQKWQ6kEF8KovB3yQS4dMa51RXUGdA/4FkBRxP1Dl0LIBJOF90T9w+OEzsZ1RePFAgYKhs0ExUD3Pjt+VT7Qvdn8pTz5/p9ARsEsQNFA9MD2QNCBEAE1gQuB50JmgqhCukIsAX3Ac7+Q/wN+pf3Sfb391H5CfrT++785Py0/BT9ef6Y/8P/jQD7AUsDkQR6BCUEvATQBLoEWgNfACD/P/8B/y3+w/yp+5/8n/3g+5X5C/g4+ZH6Zfly+UH8T/8WATgBUQGhAhMCXAC/AMABUgK7AW0BmAK7AccAjgAhAGsAVwA0/+H+DwCh//z+j//l/h/+hP1w/e/9pv6y/v/+tgDGAbkBcwJuA3MDZgPdAnsCBgK4AQsCwwG1AX8BFQJ2AhsBwACmALAAdwEJAfn/8v+3AHgBLAEHAOv/CwFEAI7+9f14/sr+BP7p/YT/WwHVAP//5v89AGIAPP9p/Ub+0gGyBUEKvg6nEvQMdPXp2dfSDuBP6DThdttO6sUFFhGjCPEDcworDvcHUAGoBIAMng7sD8oVuBgSEt4G7QGgAk3/nPeI9dX6ngDoAoED1QOoA1oCkgB2AMEAiQCJAdUDjQZyB9IGqgWxA30AXf2y+9j5x/cF92v4b/qC+uz4l/gG+t77EfyM+xH9LACpAegB8AGXAYsBDwFU/z7/U//h/ZT9zP0F/rr+uv4K/jT/vgDWAOMAkQAnARAC4gHfAScCowKDA2wE+gP5AwUFOASwAhMB0gBrANX/m/9l/zAA3gAJAZABuQH9AKEBcgJnAlgBlADaADEBxwBjANv/pf/v/ob9Zf1E/QD9P/5OAEQBjgLuAocBDQHfAbUCigKyAWgBpQOXB9UJGgz8D2cLJPbZ2UfLcdNS3vfaq9ZN4h742QR8AgL/tAPiB/kFCAbvDP0TkRZ4F+oaSh2MF/YL0QTgA24CNP5s+mj7IP/HAEoBbgDG/o79o/zD/WkAwAE9BBsHsAiqCdoIlQb/BBYDDgFdAKT+Svzm+0L8HP3W/RT8Dvvx+/X7rvzM/Xb+ewB4AqgCAANTA8YCvwJAAssBgwE/AaUAz/9fAC4B6gCpALQA4QHYAjcBv/4w/jL/jv8L/sT7GPxq/P/6uPgE95v20PXA9Vb3E/nV+iz9RP5m/yQBgQKAA20E+QMUBIgFUgXpBMUE3gQgBT8EwwLRARsBqAAqALP/6v/y/1oALAEqAq0CLQKfAmMDKANbAp4BCQG3AFkATP+q/Tr9Pv0T/RP9FP3G/SAApQKoA3YEXgSvA+ICEAP3AwYDiQE9AtAE/gctCjYNlxJ2C3PtPszQwk3Qo9g90WjPCuPM+wQEIwBvAH4I2QtQCCALkRQjGZYY+hc+GwgddBTpB0oCXwEuAPj8JPqF+x//BwG7ARwBDP9y/TD9Jv7xALoD6gUkCPAJWwr0CNMFkgI0AH7/uv42/FH61vpx/M79C/4L/RT8M/wD/Sz9ZP1q/Yb+cwHfAnACIANMA9oCSwN9Am8BkwHWAA4AhQFYAqEAmf/m/zUA4v6g+/76X/x1/Df7L/pC++P8UPyg+zP9Rv55/iT/gP+TAPQAfACOADIA+P83ACoBVQEjAT8BAAJzApsBJQGiAcQBxAHyAYIB8gBQAOz///+E/4v/4f8nAOIA3AA7AYYB4QCvAY0CjwJnAooCMwNmAwoCZwDYAOUA6P8i//H+wgCuAnMC/wEGAx0DLwLgAHr/uP5A/ef72v3oAZEF5QnCDOsJO/tk44bXWt7v5sbjON0M5VD4TwPIAJz8NP9XAgEBngDrBQgMew4BEBcULhe7EngJ3wOqAyUD/f++/Gf9QgBmAfoATgBJ//T9lf3M/QP/mAD3AVQEVAbDBzIIfAcABlwEPwM4AgQA4v6U/z0AHAG3AOf+r/1r/Rz+4f40/8T/MwEAA6kCYwHqAHwB4QG3ACAABQGSAf8A6wC1ASgCTgE+AOQApAEWAoIBPgAw/+39VP3q/f7+KwGqBuILPAiY90flKeHm50Dps+Fr3+jqj/tNAhP/gP4FA+EDLAGsAJ4DdwhFC1UN7hL1FKUP0AiNBHgDwgIzAPT9Wv9vAhMFDQZGBFwCQALdAi8DgAPqA1oE5AVqB58HMwZ3BHkD0gKTAn4BDwBC/yX/HP8O/+/+mv6T/hb/9P67/uT+Yf5n/kT/sf+PAOQAAf+u/gcB8wGaAdUBiwO3CNgJ5f/N99n4EvyR+l30zvJG+A37Kfgx9dv18fZo9GvyE/W5+dP8c/5+ACADKQSvAnABagHSAWYCYgQJBnEHnwiyCLkIJQfEBAQEjgOzAr0CxgN5BRAGuQQzBO4D5gK9Adb/Rv9m/6z+HP9l/3D/+f+p/0j/1v+l/+T+m/8hAHYA7AAQAFEA9gDMAFEA0gCAAQIC8wE6AZwBNgIjASv/qP74/o3/Pf9K/ur+UwAxAS0A8P6o/a/8eP1w/Aj7Av8WBaYG+wD995TzUfSv8WPrGOhv6/LzFPog/LL9dP+jAIYA3//3/yIBmQIqBnILrw7UDq0NkwsKCroH8APWAQAAkv+pAIIBOwEpAPP/WwD4/w//3f4iANsBPALEAhAEqgQ4BMkCywEOArUBmwBQAOAA4gDYAGUAKf9j/wQA4v8kAD4ARgAzAagBEQC+/98A8wKzBVEJnw/qEoAIre731RLSQdy53cTWZ9nY6v79PwGy+bD4P/87As8BLgUjDJ8S1hWVGGEcahp6EC4HGAO8AgMCXv7M/HH/zAHfAvMBwP7J+w/7nPuF/V//2wAWBAEIMAqYCuIIbAboBAsEmwJZAXkAlf8z/1j/S/8d/q789fo2+rn6Uvuc+378xP6+ADwBeQEyApsCwAIKAtEBmQI/AjcBfgGbAWQBSAHf/0D/JwDF/5v+Bf9r/gT+df+W/3n/rP+AAI8BUgH3/zL/b/80/8X98vzd/cj+nv53/oj+uf7Q/jD+AP54/kb/5P/YAAABJwHIAU0BnABq/4/+LP+R/03/3v9GAScCKwJVAUoBWQHpAOQA5ABuAbgBQgHmAT4CxQHWAXUBngAZAKb/+P7p/nr+Rf6u/kL+S/71/g//3f5P/1z/9f+w/3r+CwDFAgcD7wCI/34AHAMHAkn+i/1X//YA8f46/Xr9Cv7b/sH9vvvu+jj78f1DAdcB6f7y+1H7EvwX+xf44PYS+KH5wfm4+ab6sfrH+sr76vzX/W7/vwAvAwUGYQefB/UHbwfzBh4Hagb/BQAGKwYmBqEFuQRtAwsCfQEZAZYAmwCwAIEBSgKDAmACzgG+AcoBYQHSALQAxAB+AMoAfwA2/63+a/4R/iP+O/6X/gQAkgEKAo4CXAK0ASIB0wHbAt4BwQD7AY0E8gaHCNYKSg9QC9b1hdxc0+LbgOIp3aHZ3+Vr+IYAG/14+Vf94QElAlMF/wwMEhcUUhV1FwEZNxO0CHUD4gNnBIoCCwAiAH4CEwMvAbP+Gfw3+nT6bfzO/+IClQQpBmII5whIB5MEpQLTAcIB9QEfAfn/ZP/y/tj+ff6E/Bf6MvkC+t76Uvt4+y78Zv5DANIA0wFuAtIBsgKbAzMDEQNRAm0BsgKBA0sB0v+x/7L/Fv/V/P/7w/xm/Zb9aP0i/lX/M/8R/wQAiQCHANMAzABQAbgBPwHJAJgAnQB3AIQAGgA5AIAAdwABAeIAwAAvAS8BKwF2AU8BGgH+AMgABwEAARIBSQFOAcQBXgHeAAIBwwAwAZoBmgH3AXgCVwK9AfQA5v/f/07/Mv5S/rv+aP9iAIgARQCxAPH/Iv/b/o/94Pwo/az8MfyO/VIBvgUUA4f51PNO9tz7MPqH8ljwcvVi+jP6M/f79rb43fiT92v4FvvE/eD/8QK6BhAIoQa8BNYEIQYbBh4FkgRhBP0E6gVRBb0DDQLYADgAAQAK/zz/UwDKALcBowKAA88DpgM0BC4FOQWyBJIDlQKKAkACEQILAs4BSgETAVQBUwHeABEA9f9lAMX/Nv/a/u/+l/+4/4L/t//C/1j/Wf+f/63/hP8z/6L/y/8OAKoA6wD+AAUBFgEMAREAtf4C/6gA+gKbBQAJCQ7jC0H5/eAw2AreleO/4HfdS+fe+CcAp/0n/Mf+LAKGAn8ErQyyExAV2BXKGLgZeBSiCsMD0QONBK4C5QCWAMUBSAI+AHP9jPtq+iL6vPtU/g0BHAPIBGoGmgfxB4IGFwS3AsECzgKoAUwAcf/M/kL+Lv0//Mr7sPou+rH6OPvu++X8ov1C/9YAPQEEAnID5gPpA1EETAOgAmIC7AGTAccAUAAuAKj/C/9N/h/9bvwA/P77qvxz/T3+Vf+///r/3v9f/zT/Nf9C/2n/6P/i/3AA8wCcAEsAgf84/9z/DwD2/7MAHQJDA3MDwwLVAsYCWwIoAp8BpQHuAZoB3AG9AUQBfwFfAaEAEgCw/2n/sv95/zf/sf/C/9X/AwDR/5D/BwASAAQAKQDj/5kAmAFZAZwArwC0APkAiwCT//P/QAAYADz/Vv+N/9T9avyu+wT86f0z/mP+uAEZBE8Ajvlf9mj5W/yS+PDzM/X++Yv7ZPgb9mH31PhN+HL4F/sT/08BigK6BHcH5wfHBgkGlgYtCFUI1wcdCIcIQwhEB9oFqQM8AQ4AJQBxAHMA0f+HAAYCwwHQAO3/FAD4AOAAkwAwASECEwLJAYcBhAAGALj/Mv+D/wcAWgDwALwBcAF3AagBggEsAfIAVgHnAKT/YP+AAOIBpQMEBsYJuwtAAqDtndtt2SjhceOL3nvgz+11+0j/E/sb+s3+TAFsAdQFgwwAEU8TOxQmFqsVfg7aBm0E8wRqBagEOgNbA/4D9QLqAE7+BPvP+UT71/10AFUCMAPXBE4G9AUUBEoCjwGGARMCHgJPAbUAewALAFv/W/7N/HL7MPuA+6b7LPy3/JX9AP+e/9P/qQCbAM8AWQKMAiMCOAIAAlYCeAM4AqMA3gD0AI8AL/9P/pH+pP74/V79nP1g/kr+KP4D////FQDr/8f/BACNAE8Aov+Z/y4AZABoALv/jv8PALz/yf/X//r/tgAxAVMBqQHNAYQBewFUAW8BYwFoAdUB8AEoAvgBmAEjAikC7gEVAgQCIgJTAtEBGgH5AHAAGgCE/4T+vv4j//3+7/4k/xD/pv9Y/3H+Cf9y/xj/Hf6v/B/87v3K/8EA8ABLAcwC9QAP+2H1W/XF+fv57fRx8lz2PfxN/d75uveT+ZL7P/wy/U///gHMAyUFeQYoBx4GCARPA8ADiQMGAxAD9AJrA90DOwPkAfEAAAB7AI0BkwETAhgDXwQwBU0FDAWLBOIDjwPfAhQCAALfAQ4C+AFUAaUAVQByAA0AnP+4/1AA6gBOAJj/Df+5/rn+ov6g/hj/df80/2f/zv+9/7D/Vv9U/1X/3/+1AAkB9wDbAAIB5wDf/67+Ev8uAJcB9QIWBZYJBgnw+kfnN95I4YjmFeZC5NvqaPc1/nX+6P3N/p4AjAFEBA0LVBChEagS6hSMFdIRowoNBd4D0AMxA5wCaALgAugCdgEs/+n8dPso+zr8Vv6+AF4CqQNwBLcEywSFA24BVgCkAEABGQFbAKb/J/9y/jH9nPw3/G77c/sC/Db85PyF/Zr9k/5Q/1n/YADeAS4CvwKfA6gClAEnAY0B1gGyACIAZgA3APb/vP7r/D78bPvN+p37Ef1Z/jr/Nf+T/8v/Nf+n/mb+wv5S/wMARAA8AfoByQFKAY0AfgBFAaUBkQEpAngDegRtBLwDowNtAyUDvgIaAjQC+gFiAYsBOwH7AOoAeQAmAA4Apv98/6v/Sf9v/57/X//e//f/p/+//zIAPAC9AI8AQQBOAfYBmgEXAdQAuwDGAAsA8v9TANf/+v7C/dL9q/0b/X/9Ff2X/Br90/2L/+ABVQIQAP78mPo8+kv6K/lS+Lj4oPmu+WT5j/ne+Zr6afsT/JP9AQANAhwEywX0BnwHzgdPBykHWQfKBnUGRgbYBe0EIwRgAxICngDw//b/JQD4/4H/GAAaASkBLABO/3v/NQCtAJMAlQAaARYB9wAAAHH+Mv64/uH+2v6R/gb/7gBAAtYBOAGoAPoA2QDX/3j/uf91ACQBpQFBBDcIkgfP/2jyJOX84InlMerW6ADn/+yz+Jj+Dvyk+cj8UgJVBPMDWgcYDcEOBw5EDo0OswxoByQDPgSIBsQFwAN0AxkFnQWvAkf/cP78/mn//P8bAWwDKAWpBJEDeQMFA+kBpgA9AGkAhAAUAFn/PP9U/7f+0f2T/ZX9NP2n/K78Gf3k/T3+Bv6W/o//BgCtABcBzAB6AQcCmwHuAV8CUwILA2sDKgK0AakBIgFHAM7+y/6i/5v/zf4y/qb+PP9q/kH9c/03/n7+ov6r/jP/6v/y/4r/ef+3/93/aABfAKYAAQEHAVcBUAFUAZgBcgE0AYEBxwHGAZMBdwHwAfEBvQGbAXwBtAFfAeIAEwEMAUYBtQHdAQcCOQL2AXwBIQFEABIA6v8m/yn/MP9N/yMAjgBEAIgACgCN/5j/XP5q/aL9sv17/Rf+AgEKBjsGpf6z9r/0Y/id+cn1bPOE9dz4Zvrw+af59/nI+a/5Hfv5/Fz+3/+LAooFdgZXBeoDZAOFA6sDyAMDBLQDdwNIBMQE+AOOApYBQgFqAS8BmAGPAu8COgOaAzIEUQTDA2kDiQOkA3UDbQKJAXwBXAEcAVsAhv8d//L+JP83/y//gf/X/1kANgCU/9z+hf7H/hn///7r/kr/ov/E/5D/Tv+g/+X/XgCpAEMBvgEsAZMAhwAxAPr+xf38/az/XwFoA2gGngfEAQz0GOmv6UXv++4I62HsfPQd/A392Pp//KL/v/+9AFEE/gcYCggK3Qo2DYIMlAinBREFKwWdBDIDLQOEBMQEsAOcAoYBqADt/6n/fADvAYUCsAIiA8MDhgOAAnMBuACHAGkA5P8//+3+JP8N/5z+Kf5U/dX87Pzy/Br9bv3V/b3+e/83/8f+1P5D//3/CwHVARkCPQIqAaMAywAsAHsA4AJJBSUE/P3G+Nz5FfxR+eTzbvIg9pT5bvnw+IH67vsi+wz6WPtj/Q/+tP41AbEDmgTYA0UDEgQiBFsDawMgBIkE7gSMBVAGGwa4BFUEeQR0BDkEmwO4AxIEeAN0A38D9AL2AvIC6QL6AjcCZwFYAdgAHgDL/2T/eP91//j+x/53/4z/Uv88/xf/5P/DAF4A8P9mAJwAkwBdADgAkwBaAL7/Nf+w/3r/f/7k/jP/XP46/Vf9x/8IA+ADXQH//u3+0v8W/z/8Jfpq+jT7CPp3+H34Bvk9+U75rPnH+nn8cv3+/lMB4AIkA48D5wN+BCMF7gQ6BcMFwgVcBRwF9QQPBNICWgJcAjYCnQECAUMBZwGpAPj/2v9MAIAALABKAMAA4gCSAGIAHQBH/4H+Xf5I/hT+zf3F/ZP+Pv8z/7f/RQCvAEgA3P8UAM//9P7p/vL/PgEeAvEC5wVdCAYEjPcP68ToL+0+7vvqYuuw8Z74mfpC+ZT69v3Q/v/+owHCBOwG5AfUCPwK0wq/B0AFWgS5BDUFCAVMBeEFrgWLBVgFAARhAsABAQLdAjMD/wIrA8MD/AOtA54CAwKWAVgBfwEfASkAcv9o/5H/sv9U/+n+8P7n/mP+Kf7c/dL9eP7t/uL+W//B/5r/9f9cAH8AyQDBAK0AfQFAAnkBhgCiAC8CgQI4AGf/lwBjASUAfP3w/MP+rf57/G77J/xK/ZX8X/oS+kf7yvuP+4v79vzM/ln/x/6V/74A/ADqAMMAjAHiAg8D9gLKA2AETQSbAzkD2APEAzsDsgKzAugCNAK1AR4ChAKsAmUCaQLHAq0C+gHIAe0B0wF4AagAaQCaAEAA4/+w/5L/zP8hAPf/GwBpAMMAGQG7AKL/W/5H/ZT9Lv/M/wsB+wMGBsQDtfu69a/3BPs8+FHyqvBB9Tb62/r2+UH7cPw3+9T55voY/e399v0t/2MBEgLSANj/9f+2/wb/6f6N/90AVgK2A04EUwQSBJoEHQUOBecE6gSOBa4FoQX9BQoGygVnBXIE0gOCA/UCkQIaAnIB5gCOAKEAlACPAIwAaQC9AG8Auf/i/nD+pf4d/zf/LP9l/23/Hf/I/nP+P/5V/rP+K/9VAAcB1wCSAL4AlgBR/+b9Nf7P/4wBEgNABKIE4gAE+UnzlfM29p71BPNM81H3C/tp++L5YPoe/Nz8z/0b/7AAjgJ1A4gE2QWaBV0EjgNJA9ADMwSeA8gDsgR3Bd8FOwU2BC0EZwRaBP8DoAOXAysEbATjA0IDMQNSA9gCrwGWAEYASwDr/4X/Hf9//s/97vyi/IT8Dfz/+zj8a/xy/Dj8f/w6/bD9zv1o/uD/kgBuALEApACCACcAqf9UABACSAP4BAwFCv/b9AfvUvGt9EfyXu7x8Mv3iPsx+gH5tPto/qb+0v6VAd8E5QXFBe4GPghVB+MEYAP7A9oEVgRfA8IDvwRtBTQFQQTGA84D/gNpBGsE4ASOBWEFygRhBDUEMgR9A5ACZgJpArUBBAFYABcADwCC/8j+Lf74/Rj+hP5G/q79u/0l/pr+sv5r/oH+Tv+7/6f/wv/n/zgAEwDB/0z/p/8FAAAArgBxAET/Dv/B/yYANADu/2n/XP9v/7X/RAAbAF3/r/4X/sD8ifuK+zT8mPw+/Cz88Px1/hH/z/4y/08AcwBEAFkAsgBqAUEB8QA/AY8BdgFXAQUCqQK5ArUC3gIKA/YCRgILAkgCtQFZAWUBpwEKAuoB6wFpAlECjwHSAF4AAACo/2T/Kv/r/o/+PP5D/kL+sv11/WH91f2U/gn/Mf/Q/pH+FP+J/8n+Cf6F/gwA4wE6AyEF0waFBJf7nvHd7vvy8fTE8XHwUvSX+fv6Avma+H/7+vy+/Hn+PgGyA1EFBQZsBzQIsAYIBQMFegV0BTUFZAVhBtQGTAYUBowFhQSQAx8DjgOhBLoEkwSjBP8EvASrA8ECOwIiAisC3QEGAS8A1f/F/5f/v/6S/Vb9tf2M/SH9Ev2i/Y/+4/5d/nP+Lf9M/0H/gv/L/yoApgDy/9z/iAAnAXEBhADq/4gA3gCHAEQA9gC2AmACTv5n+p/6Lv1B/VP5nPaR+In7ofsf+ij6nfva+6r6n/vw/aj+0v7H/9IBeAMfA7sCQwS9BeoFoQXFBVMGyAXpBI0E+wPvAqIBiAGNAqACGQIJAnECuwI5An0BnAHJAXUBVAF1AZkBgAHLADcAUwAlAMb//v/h/yAARAAEAHAArwAOAHj/C//d/vj+vP4n/1kAsQB9AYYDvwUlBKf8WfVj9WH5DfpT9/71d/h1++X6Vfk7+on7Dfs1+vb69PwN/vn9e/66/77/If7o/Cr9HP7//r3/wwD1AQ8D2ANNBBUE/QNPBI8E7wTmBDsF5gXXBc8FtwXIBFAEIARyA/YClwI+AjECAgLJAacBkQE9AeIAEQETAcAAQAAMAEUAiAAVAJ//lP+t/+X/rP8u//3+8/4v/yT//P4u/9L/8f/D/4T/U/+Y/8n/8P7p/nIAHAEuAJH+FP5U/8n/MP25+Uf5g/vN/Jb7pPlZ+eT6VPtZ+tL5H/pH+zP8efyK/fP+wv+PAKIBVQL6AvYCuAIyA88DQQTUBM8EpwQOBV0FAAU8BIwDkAPiA6UDLgPsAhQDXwMfA1YC0gHOAcIBSAG0AEgARQDF/7D+Z/71/U39s/wy/GT8s/xb/DH8ivzX/OP8L/31/an+/f7//u3+Yf8w/9X+gf9wAKYALQHqAtMFqATp+7Ly6fDa8+H0j/LH8bX1t/n++T35hfo7/Qj+0P1v/0oCAwShBI0FiQdQCIMGYAQJBLcEygRABPADbATbBCwFMQW4BKsEwAR8BDsE4gMYBNEE3wTFBAQFygQWBP0CDgLqAa8BrABSAH4APADt/13/2/7V/r/+Tv56/nH+OP69/k//ev+L/4//rv////7/KwCHAE4Asv/k/qT/IwDs//7/3/+i/2L/Av8p/+z/3/8M/0L+NP5E//7/Rv9n/iv+jv33+7761vqn+wr8xPuQ+z/8nf0h/oD+ZP8KAPX/SwC4AIcBFQLYATACtAK3AloCaQL9AhkD3wIHAz4DFwOuAk0ChQI2AkIBDQFiAZ0BVwEVAZgBFAKzAfIAwwCtABAAif+R/73/n/8n/+j+Jf/k/iX+Cv5Z/vr+L/9Q/6b/wf+T/6r/w/9C/yv/zP+NAYADJQRHBDQDNf6x9bTv3PBe9Xn10vKx8y/4nPum+nf4qPnB/Kb99P3W/yMCsgMiBHEEfwVoBf0DVgPrA5wE0gSFBLUEuQULBqQFOwV9BC0E/wOcA5oD1APWAxYEFQQRBKoDMQOxAggCggFvASkBcwDw//z/IQDM/9T+Hv6r/hX/s/5X/mj+p/4B/8/+X/7Z/m3/iv/W////4f/7/xwAkf90/4P/2P8AAFT/Mf9+/y3/IP4N/dH9mgCyAT//Ovxb+6n8CP2w+lD5jvoy/Bj8uPqT+rn7+/v9+oH7AP14/WT9l/0U//wAaQE0AcYBqQKFAwMEMQRHBNYD7QP4A3EDlgLNAVMCYwOZA3gDhwP3A1QE/gMMA8ACBwNlA4EDxAJgAsoCqwLWAfIAegCuAMMA8f8aAMEArgBuAJYAkgD7/9X+tf4AAKr/Z/5U/qr+o/7X/bT/IwR/BTEB6Por9zv4h/tH/Ln6CPqU+mX7rPsY+5z6PPrJ+cn5n/rZ+378VvxK/N38h/2T/Yb9r/6XAPsBWQK4AoIDnwQkBQwF5QS1BAcFgAWzBZsFSgU1BfoECwTEA8IDUQMPA/MCGgOCA6sDcQMGA+0CigLAAZoBSAHqAOcA7gDzABwB4QBxADUADgDW/3j/4f46/tT9x/2B/S39I/1h/aj9+f0c/kn+yP5a//f+if7X/tD+GP5q/W/9CP4+/oL9fvxN/eX/owD2/gr9p/vn+xX89PqL+hz7v/sK/HP7FPu2+9n7VPyB/lQATQGMAWUBkwLaA4cDWQOGAxUE/wSkBXsFMQU4BS8F7QRRBIIDWQPgAwoE3wNqA/YCngJ8AsUBNwFHAXsBhAGdAPH/s/+D/8L+x/2A/ZP9TP0b/VP9uv3J/bX9Zf5Q/zb/AP8V/2H/B/80/jH+NP8x/3j+lf4JAG4BIwEmAEn9vvYt8VvyC/e++ED2rPTM95T7uPuQ+cj5Lf1+/37/KQBmAlYEkwTXAzsECQWDBIcD/gOoBa4GIgZLBYMFEgY4BpQFQASWA8ID0wNgA/0CEQOpA7kDNAPUAvsC6AJXAo8BbgHVAcYBLwGqAE0AyP8q/6D+cf61/ij/pf8FAMH/7f6z/uD+g/4i/ur9SP6T/lz++P3i/q7/7/5T/lr+lf63/sf+3v5m/6H/zv7B/aP9af7P/o/9k/u5+qP7OPzk+1/7IvvJ+5r88vxL/eP+uACOAaIBvAGhAckB9gGOAdEBLgKuAlEDUwPAAvoB+QEZApcBUwHAAVICUwJ2ASsB9QEuAgMCJgJeAmkCAwKoAekBDQJxAdwACQFMAdIALAD3/3UA5QAmAEP/V/9v/zf/ZP4j/un+Y/8A/6P+OP+0/3r/kP5r/ij/sf9VAKcA3f86/jf9nP3N/Bv43fO79On4Lvyo+0j6ZPs0/cP80PuB/FP+//+MAFwBYQOtBIMETgR5BKkENwRgAz8DHASKBKgEZwTIA9oDvAMRA5ICVgJXAsMC/QIxA0UDpwPgA5MDOwOZAj8CDQLBAXsBfAFUAfAA1QCfAOz/ff89/4j+B/4P/ir+Jv79/Zz98v1u/gH+u/0v/mr+Ov7L/uj+Cv/t/l/+QP4I/s79rf1B/ST9vf1e/gf/L/+U/pv++v7e/s3+/f5Y/0n/GP/8/3EBxgHwABYBEwJDAIv4gvBI8Sn4Ufwm+0P5w/tjAEsBRP/s/rIAXgI/AiMC9AKlAx4EwgN2A6EDfAMkAxMDbwNvBDcF6wSKBBUF1gWEBcAD4wLYA2IECAOyAdgBtQJzAu4AzAA5AooCFgGc/6j/ZQDl/2f+IP7l/kv/3/50/t7+Z/8o/0T+gP1A/bz9g/4n/7D/DgCM/8b+O/72/Qz+J/52/vT+PP8y/zj/7f5U/rX97vyW/Dv97v1B/v/+Zv90/2//oP/X/1AAaQCFAMEAuwA5AeEBjwLzApwCkwLWAk4C6gHgAdwBMwKTAsIC5AIUA94C8wE3AfEAigBuAD0A1P8VAI0A4AAyAfoAxACkAFcA9v/O/8//pv9l/0n/Nv8D/5z+Mf7X/e/9af75/pT/FwDQ/27/WP/O/iL+D/6y/lf/Mf9c/sX9Vf5V/6n+Cv35+2L7qPts+4T6zvnS+Rz7Vfx9/Jv8a/17/t3/KQHYAbIC5QLmAu8D7gTXBIkEDQQRBOUEKwV6BDAEaQS9BLkEzwMMAzoDwAO+A3gD8gKEAlsCDAIhAZYAaAC1AOEAGgCN/x7/4/5Y/oj9/Pz//Dv9gP29/QT+C/4l/qX+5/7y/hX/6v4E/+D+l/5w/tj9G/0c/az9u/5Y/6v/wAAo/wj5kvQH9gr6K/sP+Gv2Evnq+4D8lPtb/OD+/P+k/x4ATgH0AfcBwwHEAgQEQgRXBDMFwAaWB+EG7AVwBVAFkwWJBZgE6APZAwcErAOuAuQBygGfAToBMQHNAXAClwIYAvUBDQKkAdsAJwB6//H+vv5a/j/+d/7L/oP/1v82/5T+TP7x/W79O/2j/bP+F/9k/jn+DwDEAHP/X/4c/pb+Gf8c/zv/lgBzASIBDAAh/zz/EP+q/RT8ofuG/Bf9DP2k/Gz8y/wi/W39+f16/+kAugEXAiYC1AHZAfwBFQJdAkYCtQJ0A8YDTwN1AjcCJAL1Ae0BzAHEAbQBQAE+AVABKgFkAcgBqAEsAdgACQFRAeEAPAAyAIsAhgDS/zr/J/98/4n/Gf/x/gf/df6o/Qb9kv3A/if/m/5C/rb+Jf9D/63+sv5j/ycA6AD5AK3/9f3k/Yz/wf57+S/1yvV++ZH8vPwl/Af9BP6W/an9vv6o/0QArAChARwDgwP8AjsDzwP8A8QDgAMRBAoFOgVfBVIFEQVpBT4FmgQ4BBwEIQQzBOcDmQMKA4cCGgLVAb8BPQF0AOT/zf+Z/yz/yv6n/jX/sv8u//H+Mf89/zb/JP/5/sz+lP7+/aP9uv1w/W79CP5c/nz+g/8cAE4AsP+g/oT+7/4J/6f+af47/8oAAAGp/+39ffzS+z78KP1s/aL7wflB+kz8Qf1m/Az8SP1Z/p/9Vv1Y/qP+F/7L/Q7/AQFNAbQAswGpA3kE5gNwA4cEnAV7BZIE3QPoA4gDFQMWA/wCoQLdAW0B7AEMAm8B8AAOAakBvwGiAMv/TgDvALoA6/+U/0oAMQGZACgAcQCYAKoArQBWAB8A4//c/zYB3gFAAacAHwAK/uv4RvaK+dv9Ff1J+VT5t/6kA+sCBv8O/Yv9E/7A/e/9DwAcApkC5QF+AKj+Cv1D/Dn8xvwH/mn/0QBrAmgDYwOeAugBzgGPAj0DeANYA2oDGQRLBI0EwQTxA3UDZAOjAlkCHQJ0AUIBbwFSAUsBRgGvAEoAHwDp/6X/df9V/47/nP8//y//bP+d/6//N//q/kT/lP97/yH/zv7o/t7+Lf5R/SX9jf34/ar9vP3D/uz/nf9b/tH9Uv7Q/mj+Xv5e/yIAm//Q/bX81f07/1P/Kf71/Hz9vP6+/hf9/Pu//Lr9HP4j/hH+ef6B/1QA6ABPASoBsAHYAoQDMwS4BFAEIwRdBIoEaATBA+4CTAPOA4wD6AIfAi0CzAKZAt0BagFdATwBhwAPAAkAPAAzAPL/s/8N/6D+Lv7U/b39if2N/RP+af6F/kr+Cv4U/mf+3P4p/8r/owAOAUMB0gB8/7X9O/xF/Aj9ZvxC/Jb+NACG/k/7ovrK/ej/lP3O+kT7w/58AekABwCbAN4A4/9e/xQA5ABMAN7+8P44AD4BXQF/AYcCYwNYA7sC/QFpAgoEOgUjBREEMgNxA6gD6gLUAe4AdgDe/zD/H/+1/zkAcgC8ALkAqgCxAEYAeP/B/mX+Z/7O/tb+W/8pAM7/Gf8j/wT/Ef5S/Lf72/0CAIT/rv26/S0AygAm/4T9iP33/tb/qv82APYB0QKsAm0BtQAUAWUAef5+/I/7OPw3/cT9Zf2C/Pj7L/zx/Fb+KwApAY0BoAF9ATUBEwEXAQcCLwORA+UDFwRiBGwECQSfA0ADHgMVA3IC4gHkAQsCIAKxASkBOAFbAQsBegA8ALMA/AB6ALv/Zv99/53/fP9L/zb/Tf/L/kz+d/5+/hf+Sv1G/Hb8mP0j/t/9uP0Q/gr/mf90/ur9Av/iACgC5QFWABL/af+TADv/cftQ+Zv5OPsW/cX9lv0g/T78KfwX/oz/uv/T/20AzQGhAhQC7QHMAmYDkwOhA+4D4gRTBcAEqwRsBCAENgSxAyYDAgMLAzcDIwOuAn4CPAKdAeoAsgD/AO0AHACD/4P/of9N/9D+wf5O/73/E/+b/nf+a/6Y/uD+/P7G/n3+Pv5Y/oD+Hv4v/uz+Vv9w//T/CgAuAMn/8/6k/rP+v/65/qv+Tv98AI8AEwCU/5/+Jf3S/J3+XQAz/lv6G/oo/jsBNv8Z/PT8AgCRAPr+2/22/ZD9f/xu/AH+L/9s/3AAhAKwA0kDmwIeAwYEZwQaBPEDCAQ2A70CLgNvA9ECTQGNAFIB1wE8AXEAowDAAW0CWQEBAAwAtwDAAPH/g/9pAGMBugDg/+v/SAB7ABwAYP/u/lr+8P1//xkBgwB1/hz9UP1s/Sf9Xv3z/iwArf8d/5sAUgMMBE8Bb/19/Dv/rgGOAL7+qf5pAGEBFQCe/bX7hPqi+ZX6+f3WAJwBrAERAocCjwGZ//H+6QBRAxIEJgM/Aj0DgATwBFoEnALbAXsCXwICApwB4AC1AAwBoABbAKkAOACy/2z/3v56/j3+Bf5t/r3+sP7t/mj/6P/c/0T/Ov+b/+X/dv9T/rT9Fv5s/gz+Vv1H/RD++P7k/sj+yv9iASYBqf/2/jj/wP+f/2z/HAC+AB4AX/44/UP+bf+I/7j+xP17/rT/y//T/i3+7P68/33/Gf/X/sH+rv/PAHQBDQIRAjgC/wI7A5kDUgSxA/YCIQN1A1oDnwKzASECDQMIAyUCFgEWAe0BJAIpAUEAWQCyAFoA0f+t/1oAsgAvANL/P/8J/6n+U/5Z/jP+4P3M/Sb+YP4S/tL9Bv6+/l7/NP81/wEAcAB8APf/Lv9H/ir9+Pz0/Vz+B/7G/uf/If+N/Gv7rf2cAEgAiv1m/OD+xgEgAQL/6P6NABEBTwD5/1cAdwCB/x3/4f/sAFIBQgG9AT4CCQJoAewAbgEWA1sEJgT3AhcCpgJmA70CEgHC/4j/l/9J/wL/Mv/w/yYA+f+9/7L/OgCjANf/vP7E/jL/qf9z/2v/vQAfAb7/6/5l/1z/oP3q+0L9PAB1AOD9tfw5//EAO//K/Lr88/7qABIBwwARAkgDxgMLA8UBVQG4APD+Hf0m/Mb8+/23/mH+j/1Z/fj9tP4q/y8ABQHAAZgCwQK9AdUArQB6Ac0CFgOLA0sEbQTPA9UCSQIJAtUBuAF2ARUB2QDpAIkBzgHtAAIAo/+l/1f/2v4C/3T/NP9G/qT9IP5J/3X/jP5b/T794v03/p3+s/57/hD+Cv2G/Jz9Ff9E/5z+/P0w/iT/C//7/jcAVAHEAEz/wf5R/8T/BADY/9P+Av7Y/VT+xP/BACkAsf8ZAKEAZgEBAQgALAAeASkCZwJ9AeMAqwGnAjADaQN3A0UE+ARhBP4D0QOkA6YDrgJzAS8BaAEsAakALAAzAEQAfv9B/in+V/8HAIr/OP/J/2oA3v+B/jf+O/+7/43+xP1Z/vf+vv7v/WH9Xv2U/Yj9y/1+/tz+9/7W/xkBkgEvAScATQC/AL7/dv4i/tv+N/9i/hz+gf8fADL/0f25/Kv8Rv24/W/+3P5l/7EAGwLSAiUCxQAaALEA/wC4AHwAUwCqAMwAzAAgAWQBVwGHAe4BPAIgAlQBlQDKADsCIgOaAtUBAgGTACgAYf+m/iv+i/47/4H/j/5T/dz90//zAMf/hP6Y/2YBLwEH/4D+7gDFAtkAHP7Z/pYBMQIkAL3+Rv+J/0n+cP52/6j+Pfw0+9v8Uf6g/er7SPxr/ikAawG3An0DTwN5Av8BpAJQAy8DiQJdAnwC9gJmA24D4wLjAf8AmwCVAJEBkwKXAnwCkAI3As8ANP9t/jj/XwCaAI0AfADxADcB1QCQAO3/Mv/x/qL+Vv57/l3+hv6B/7r/Df+k/k3+0P29/aH9IP0Y/WT93P1V/qH+Bf9O/yr/bv4w/ib/pP/6/v/9Rf2E/UT+of7O/t/+ZP7p/U/+GP/Q/xsAiADvACMBcAEpAXwAUADxAIMBXgEMATcBigFTAjMCjwEuAngCfgJNAqUBcwGEAaMBSgFhALr/LQCBAFMA1ABEAX4BOAE+AFgAvAEoAmcBLQDg/2sBzQLsAYkAvwDdARkCDAH4//f/pgARADj/Iv/s/uT+//4R/kz9ZP2P/hoAqv8W/jD9kv37/VT9wPz3/HX9nf2x/S7+3v5F/1T/Yv8k//P+Bv8CAFYBigHbAHsA0gDEAP3/zP9WAa8CQgJcAR8BmQEoAvkBtQGMAWEBcAF4AVcCfQJyAFD/kwAeArsB7/+b/g//hf86/xP/P//t/1cAmgCuAFoAPQCKAPwAUAGGAWUBdACm/1oAjQHjAJH+Cv3y/Xf/9v7H/Sr+2P9VABz/R/4O/xEAw//i/l/+w/79/q/+rf6s/r7+5f7q/mn+tv1Y/Wr9t/2r/cj9kv5N/wf/F/+9/8L/PP8f//H/awHNArcC8QJFBFAFdAR8An8BjAGIAIH+Yv2A/t3/l//M/kH/kAD9AEQAWP/L/x0B8gExAl8CCAI5ARIByQDPACYB6AEkAzgD5QFqAG8AQQHKAH7/5P6C/68A3ABfAFcAy//G/nb+QP8CANL/6v4x/g7+W/7I/iv/bv/I/on9qPzs/C/+tv6I/jr+1v37/Tv+L/6F/qL/PQDD/x//Jv9xAE0BIwFrAQgC5gEFAc8AxgFGArABHgGaAF8AtQDVABQBWgEHAfIAwwHGAV4B3AAtAFIApQCYAGgABwDR/3sAWQGfAXYBBgEeAS0CjwJtAhoCywH3AcUBtQAFAGYAfgAnALf/pv++/2f/Xf7j/Zb+7f6F/ij+Yv7G/mH+Mf23/MD9uv7Q/dj8tP3y/vv+zP3r/Cf9u/2b/ZX9dv4+/3f/TQDIAVECAQJDAa8BQALpAHz/3f+3AWQCrgC9/xgCpQNEAbH9yvyN/u3/9f4l/vr+KgCxAAIBdgFVASUABf/d/y8BfQELAW4ArgDiAJUArgD2ANoA+gBfAaQBsAGEAewBUwJIAtcBIgHiACcAd/+N/9f/lP+M/hH+mf4K/1/+Mf1D/Yb+av93/g395f01ACUBj/8f/vb+0AAlABr+mf46AfYC3AGf/93+Sf8l/1n/S/+U/rr9q/3n/uP/9//G/xkAdQDJAEwBzwFLAlwC7wHNAX0CHQP4AtIB1wCtAE4BnwE9AYsAzP96/8b/ewDYAaYCPgLfAZ8BFwH2/0j/uf/qAHEBRgE8ATcBjgF0AekAmwD+/5j/0P+v/5b/k/8v/xT/af8o/7X+mv49/sX94v1Z/lb+OP5M/or+m/54/sL+i//E/wP/xf69/14A//8b/3n+vv5B/53/6P+y///+nP4o//f/NgDy/zoAZQDh/3b/A//Z/hv/m/86AIEAaAAKAL7/YgCVAEAAWwCSAFoBjAGxAMD/dP85AGkAaf++/kz/7P9sANAA8ABwATsBcADDAOMBiwKNAqcBJwH5AdcCdwKoAWYB0gFSAu0BxwBEAK0A6QA0AdoAwP+m/zUA0v9D/+H+rf8kAQQB0/+H/kD+wf6x/vf9Tv1O/db9c/6L/m/+wf5b/2z/+/6G/pP+gP/d/13/9P7y/qj+tv0b/Xv+fwBuAK//+f95AGEA//+KAMMBaAErAOj/QAEvA6UCngA7ABABDwH7/xr/KP9e/3X+Tv45//v/AQBQ/1P/1P8iAGgApAD9AE4C3AP8A3sC3wA4Ab8CgwJzAAP/lP/UABEBawA4APAAHQF8AHf/AP+a/1wA9f/Y/rf+YP8GAHv/Uv5p/jb/Lf92/uj9yP3o/d/95f1i/m7+sP1q/VL+tf5D/s/9LP4w/xIARABiAGQBMAJZAsgBowHtAVgBCgBL/3D/kP+r/kD+zP78/mH+9/2b/s7/sgB6AJQAogHOAXMAnv/z/wsBxgGyAakCEgRoBHoDQgIUAlUCcwJnAvcBTAEAASYBmAFeAVgA/P8wABMAT/8L/xQA4ADU/4D+YP6d/3oAuv+f/uH9zf37/cP+tf9k/+/95fza/HL9Jf7H/hL/A//U/jT/7P+9/3z/VgBOAf4A/P+R//7/gADyAKUAov/2/mD+Q/5r/4oAsgCtAIQATwAqATcBDgAo/yD/KgCxAJ//p/4U/9D/LgAuABkArQAdAQ8BogEDAmcC+wLkAl8CWQKDApsCpQJdAicC9QGKAdAAmgAWAV0B9gBhAEMAZwAJABD/gv6S/5YA7/9E/07/dP9r//b+iP5C/oz9svwk/S7+Sf4H/s/+JABgAHX/y/7x/4gAXP8k/rv+kwAeAdD/zv/fAXsChAAa/qf92v5+/zD/Tf9k/+b+Pf6S/r//+P/O/gn+DP8mAHYA3/8A//r+C/84/6r/oP+L/yYAsQCSAFsAtAD2AUgCrwFpAQ0CzQL5ARgBegF6AmMC1wAnABMBsgHWAFr/1P6T/ykAUv+A/sb+qv8HABT/U/7h/tT/lP8v/5D/PADHANUAtACtALz/2/7G/5sA9P87/qr9uf71/mP+ff6+/8gAfwC9/ycAiQE5AngBawClANQBXAJ4AYIATQDHAMMA+v/5/kf+Pf5k/uX+LQBFAX0BRAG2AEAAnf9g/9v/7wDuAW4CEQKgARsCWwJcAlwCtwFLASUBowD0ACsBWgCn/5j/Xv86/9j+7v2z/Tj+aP7n/Zb91P1E/v39ff00/oz/3f8I/5P+X/9FAFkAtf85/0X/uP98AAwBxADu/5//UQDpALYAXADKAPUAWQDB/2j/Zf9p/5f/JABpACwAnP9c/+D/7P+y/8z/GgCzALkAKQBc/y7/5P/u/1P/Sf+n/77/EgB5APIAmgElAXwAtgBTAS8CbgJiAdsAbAEKAogBOwCg/68AEALdAZIAzP8FAJkAwAD9/1r/0P8UAGD/7/7Q/o3/hQCbAGoAuP88/yL/F//y/oD+Rv6s/h7/FP/s/gn/dP+c/2D/DP8P/5v/9f8BAML/Hv9i/s/96f3e/hf/VP66/un/8/8r/7n+gv+hAA0AMP/e/5wBzAK4AWkA2wDNATMBIwAxANYAugB6/2H/cwANAXwAa/+O/2MAdAAAAML/SADdAQ8DggIhAa0AtAGTAogBhf+j/kL/vP+M/1j/gf/5/+f/if83/1P/3/9IAPP/V/+1/3kApQC0//D+dv/v/3T/5f64/mf+y/2I/WL+tf+r/z7+mv3J/nn/v/7r/T7+l/+dAHIALgBBAWQC3QI0AoUBlAEjAToAtP+S/6f/j/+e/9T/vv9M/z//uf8iALoADgGRAVECHQLDAPT/AgBsAN8A6QDCAWcCJgKlATYBQQFMAVkBcQEVAVkAawAwAc4BjwGQABMADgC6/wD/zv6a//b/vf6h/Q3+h/9BAHT/cv7G/cf9Bf61/q7/bf8Y/lj9pf0q/pv+i/4w/uz9yv1N/hv/+/6h/o//wwDhACsA2v9eAJkAlgCAAOf/nP/A/+n/kwBaAUwBMAGSAZwB7wHKAdIAZgD7AMoB6AG6AKj/MQDQAGQA4v8UAL4ACwERANn/7gCeAZkB+QBnALUASQFhAZEB+gEnAuEBMAGVAJUADwFHAfQAZAAiAEIADQBe/+z+s/8ZAeAAWv/d/or/EQBt/2r+CP5U/mL+5v23/fz9Mv5+/v7+9f76/pH+fP6k/iX+rP0Y/gj/g/9L/1H/swDcAfcANf/G/tT/wQCQAA4A7P8lAEAAcwCmAGoAxP9h/wgAnABoAKv/t/6D/tb+Iv88/xL/1P44//j/HwAAABUAqAAUATEBPAFrAcoBPAG0AC0BrQGgAcUAHwCEAAEBggCB/1H/+P+oAEYAWv9m/y0AbgC0/y7/lv/3/1//Fv/u/14AhwBAAe4BJgHi/nL9qv+QAS3/Q/uV+jH9QP4b/cH82P7zAKUAuv/XAOgCmwPSAsUBFAJfAyEEkQPZAhkCBgI6AuwB6QDi/7//5P+4/3AAuwFgAgoC7wD0/1T/Af8e/xYACwE5Aa8AEgBzAM8AjABKAND/4f+GAHUAQwBfABwAuf+O/xP/8P5p/0H/2f7J/sX+pf47/pH9gP2c/VL9df02/t/+yv4Y/hz+S/8gAGj/wf3v/Mz9G/8M//j9pf3R/koAJAAx/2r/LQHGAWIAAv8P/08AEwENAScBVgFnAdAA7/82AO8AjwG5ASgBMgEHAnkCnAGYAKQA+gDwAI4A7v9//wUAtwDmAMwAXgCBAOgAsQD0AJMBYAEkATMBiQGXAegAFABXAC0BaQG8AKL/Yv9BAOEAbQCp/4b/kP8r/8T+c/7Q/lf/jv/S/4f/Y/9K/y//If+G/v/9P/7L/ub+kv59/gL/rf/J/4f/tv8KAPT/BwAcAAgAYv+i/i//gwCiAPP/SQArAQUBvv/s/gMAWwH/ABIAEwB5AYgCbQFxAPQAsAEHAS4AYgAFAQIBFAC9/wQAWQBCAOj/4P+c/wT/mP6K/ib/lADIAfEB+ADp/z0ANgEhAQAA/P4c/5n/lv8j/wH/Zf+Z/13/h/5W/k7/LgDO/+z+4v5//9r/Sv9J/xMAz//G/qf+f//Y/7X+kv10/goArf/H/Rf9a/5O/9X+4f0I/oL/8ABWAcMBewKTArYCYgJXApgCCwJWAbEAy/+r/xUAnQB+AKP/9f4e/6X/WADSAHsAiQAyAUwBdQCn/1//OABbAbUBOwJzAmQCGAJsARQBKQGMAaABAAEPABIA8wCyAZwBwgAuAN3/g/+x/k7+HP/X/5j/u/42/o/+Iv89/8D+Dv7M/cD9R/7//ur+Ov63/XD9j/02/sL+8f4d/0D/1f9mABoA6f+aADMBBgHeADABbQFAAWkBfQEXAYoAIQA5ACIB1QFGAcEAogDrAKkBOwERAHf/1f/UAOoA1/9T/wQApQCpAGUApQClAf8BPQEgAaYBKgIlAk4B2QBSAY4B+ABUABUAMQApAHr/fP5O/uz+Sv/v/ov+sP4I/3r+L/2n/Kb9xv41/jz9Mf3b/Un+zP0S/ST9rv3A/bv9Jf6n/hP/yf/TAHcBNgFaAKEAcAFjAdsAsQBpAQgCggHIAEoB4wGeAWoAGv/a/nX/9P8eABQAewA1AaUBSwFKAFz/Pf8pAMMAqwBPAAoAUgCSAHkAVgBNAHwA7AD6AOUADwHxAK8ApwBxAS8CJQL3AZIBWAElAZYAwP/4/tb+Tf+N/5P+Qv1r/aT+Xv+P/sX9nv72/+L/a/4U/nj/bgBU/yr+9/5OAE0AQf8x/1IAfwBV/xP/vv+k/4H+8v23/qX/w/9N/3L/NwD5APABHgNVA0QCLwHcALEBUwLOAfAAzgDNANoA0ACVAFQA9f+g/7H/AADXAIIBUwFDAaAB0wESAfv/V/8AAEABsAGkAYIB0gEJApUBCwGeABkAxv+c/1v/Tf/7/rX+T/9T/2r+xv2I/Wr9oP2O/Sz9X/3Z/Ur+Uf49/rf+VP9L/7T+tP77//AAegCI/+P+EP+z/+7/AwBQAA8AqP/4/2QAnABbACEAXQCkAMQAXQCm/2z/8v9vAFgABADx/wAAjAChACIAZgC/AAwBCwGwAKkAAAF7AUwBfwABAHIAuQBwAK4AEAFlAXIB0AB9AAIBJwF0AGT/QP+pABcCogE6ABoAIwGlARIBGwDR/1QAKAC9/+//DQD6/wgAgv8K/yD/r/+fAKUA4v9V/4T/zP+P/1z/cP+q/6b/d/9R/0D/V/90/3z/Gf+v/pb+Rf/0/7j/Hf8D/4r/lv/K/nr+pP8LARIBRwD1/1IAvgCOADgAJABWAJ8AkADjAOcAd/9p/iT/dQByAGH/hv7V/kP/Iv8L/xz/hv/P/wQA8f+b/6//NwDvAEQBRQFtAWQB/AAlAeIB3QG6AJT/1v/7APQAIQANAPIAVQF9AIn/2f/TAN4AHQBt/5T/2/+u/5b/bP9H/zP/Of8y/+L+lv56/qH+mv5l/nz+6/6g/jn+eP6+/sn+0/4m//X/IQEVAbIAFgHXAboBbgCM/9H/wv/F/tr9If7i/tT+W/6K/lT/qv9p/97+HP8VAL0A6QAVAe8AegCYAKAAuwDyAIUBsQIhA10CRgFDAfMBqgF/ANH/WACSAfIBaAEXAbUAOAAUAJEAEQEFAWwA3v/M/zsAywD+AM8AAwAr/7T+t/4p/2v/XP8i/73+v/4t/0r/LP90/9P/4/+X/2X/5v92AGYAXwCQAGoA9//e/1UAfAARAMP/Uf8H/zX/Rv9N/2D/Yv+n/24AWwDh/4D/A//7/g3//f7N/p3+k/4z/wUAUgBIACUAWQAhAXgBkgGuAbgB8gEZAqUBPAFwAX4BdwFnAWUBXAFAAbQAQgCPAOUAywBiAB8AOwA0AJD/+f5T/xIAv/8Q/0f/1P/J/+f+A/7e/SP+I/46/sX+Of90/xEACwE0AcoAUADCACIBGQAo/6r/OAGlATEAVP8WATYC+v/G/P77kf3V/tv9pvzh/OL9j/6n/pn+T/7c/bH9s/7u/2gAUgACADgAtwDeAOcA7QD2AH4B+QHcAbkB+AGeArUCJQK2AbIBHwLUAUABVgHSAdEB6QAvAIsAJQHEAIb//P6k/4cAGwDs/tz+5P+MAMX/0P7r/u7/+P8x/0n/QgAzAREBIQCg/4v/Uv8+/wn/u/5n/kr+j/7a/gP/C/83/13/hv+S/6P/JwCjAD4Ak/8AAAwBOAHr/87+A//m/w4AdP/c/nb+Yv6b/kX/aADxALoAuQDMAJAA+v/g/2gAPQG6AQsCRwIpAkICMgL7AbMBCgGtAPcA/wDTAKcAXAA1ADEA3f/G/9D/Yv///m7/FAAFALv/yv8LAOn/lP/c/40AmgDz/9X/nAAKAaUA9/+H/63/+f9IAJgAXwCt/0H/pP8tAA8AbP9V/7L/xf9o/5/+If5B/qb+Ff9I/yX/1f60/hr/QP8E/wD/ef80ABsAVf+p/tP+sP+Y/6v+Vf7g/ln/jf/B/w8ApQCgAPT/5f/HAKgBuAHYAGwARAE3AtkBvwB3AHABjQJeAjsBrwAEAU0BdgExAbUA4AA7Aa8ASwBLAMwAmQGfARQBdwAuABYACQDr/4L/Lv81/5X/6f/z/8j/2//o/6H/Of/5/m//0f+W/yX/u/5e/vb9yP1t/gP/p/6f/nT/8f/f/77/BwCwAHkA5v8XAOYAhQHcAM//4f+FACEAKv/a/gb/AP9D/kL+Mv/A/23/qv7U/pf/4P/K/+T/bgCOAXoCSgJZAeUAqwGMAuoBYgC7/3kAQAEeAcQA7wCVAZ0BBQFsAGEAzgAlAcUAGgAsAK8A5QApADT/UP/1/+v/Pf+j/nj+hv56/p/+Kv8l/0D+lf0U/ob+Q/67/dX9wf6c/6r/nP9nABcBSwHLAGkAmwA2AFD/6v4J//j+dP6A/iP/UP+x/i/+df4l/8L/sf/Y/5EAsgDB/x7/K/+p/0AAcAA2AQQCQQIHApsBiwGeAcMBywGAARoBTwHuAU4C8AEuAeAA5QDIAHMAewAOATsBcgD7/1AAIAGCAf8AUACo/1b/XP/b/30AQABE/5v+qP4B/0P/K//I/pD+r/4V/2D/Kv8j/wwA0gCkAB0AAABEAE4AUgAjAJH/Tv9s/3z/p//x//T/DgBNADgAcwA8AAD/JP6U/of/p/+R/qT9Q/4X/+P+af6Z/kv/o/8Z/07/dQAxAU8BFgH5AG4B5QHjASUC4gJVAyUDjwLfAZ0BxQHoAbMBTQEmAWoBTQGWAP//lwDJAY8BNgDQ/5cAGwEmAMb+a/7t/v3+YP4R/m/+2P4V/4n/r/+U///+1f4t/xn/v/7b/on/DADn/6//ngCPAZkAvP4V/ub+w/9m/63+p/42/3D/N//y/pH+J/72/W7+2f6o/h/+n/2z/Sr+dv5//mX+cv4l/w0AHADc//X/0wB0AVcBRgGpAV4CEgKCAfYBmQJQAkgBxQCLAS0ChQFWACsAqgD8AHMAsv+1/z4AbQDF/zL/Xf8OAAcAVv9U/yAAHQE3AXkADQAPANX/uv+z/1X/pf5M/r7+L/9T/1v/v/9cAJMAfAC8AD8BZgEMAUwAVAAyAVwBLwA0/xv/gP9Q/2H+2f3Y/fj9u/1v/Sj+bP8dAEsADgC8/3L/e/+7/3UAUgH2AXECgwLFAv8CzQJ5AusBhwHbAfcBpQFmATQB+QDzAGIAyv/R/7D/Wf9q/67/nP9b/zH/TP9V/xf/bv8cAOn/9v6w/uv/MgHtAHb/hv71/gcAlQBcAAMA+/8yAIAAYgD8/8r/QgByALX/FP/+/jT/Hf/U/uX+a//H/1f/s/7S/uj+sv6a/pb+Kv+i/1T/h/4y/r/+Df+a/jr+e/7H/jT/3v+FACQBDgGYANoAaQG8AcMBPAEcAd8BcgLoAfEAfwAkARoCDgIgAYAAuwA0ATsBhAAFAIUAMgG7AOf/gv/7/8IA4QC0AIMAgQBYABIA6v+d/0j/Q/+p/xgAQABLAJkAzgCOAOj/sP8/AHAA9/9X/wH/E/8E/9L+6P7A/h/+F/69/gb/rf5M/pb+Uf80/53+3/73/7sA4//J/gb/8/+g/6z+9/4QAHgApP9o/zcAywCMAP3/XQA7ASoBkwCfAGgBTgKSAvMBVAF0AR4CQwJLAREAwP9mALoAUwAwAIUA8wDQAGsARwB1AKgAuQCRAEsAOwBaAGsA/f89/xL/PP9K/1H/FP+z/lr+RP6N/gb/zf75/XD9G/7G/lT+kf26/Qj/UwBwAMr/RQAwAW4BtgDN/wMAWACD/3b+Uv7y/kX/Mf83/5j/CgDW/0b//v53/yEAqQD3AOwAJAB0/57/DACYAM0AJgGJAW0BFQH6AGYBogEkAXsAXACcABYBlwECAhICjAHuAMwAGQERAb8AoADWAMMAoQDwAGoBfQGnAL3/Of9G/5v/hP9S/y3//f41/6T/Wf+u/l/+Tv6F/tv+Lv+c/6n/O/+c/6AA4gBDAJv/yf8vAAAAgv8I//7+cP/N/8f/0P8BACoApQCrACsAk/8N/wv/ff+0/2T/9/60/iL/vP/L/47/wv8OAF4ASgAyABAB+AEbArUBVwGfAUkCaAIbAlIC4gLiAk8CmgFRAXYBgAElAf8AHQEQAZgA8/+y/wEAjQBoAIP/Hv+V/9j/8/6//YX9QP7K/j3+rP0v/i3/av80/wf/hv/r/5r/WP9e/6X/1v/G/9b/QABsAGUATACO/3f+I/7H/p//w/8n/8H+Zv9LAEYAS/9c/mn+8P5E/yj/7f7//ur+xv7Q/t7+1P66/uX+u/+sALYAYABRAOgAfQGMAXcBegHbAfEBwQH1ASsCFQLKAXEBbQF+ASEBXgBBAKEA/gC3AN3/mP8bAGcAt/8L/zH/4f+w/8v+7/7p/7QAnwAOAOz/2v9n/27/vf80/xj+4P3i/lj/s/4Q/oH+ZP9z/zL/2P/3AA4BZwAAALkA4QHeAaQAzv+y/+r/y/9U//b+uf7H/tP+wf5Z/zQApgC3AFUA8v+W/5//+v+9AH0B7gE8AnQC9wItA84CXAIkAkMCsAKZAhgC1gGGAdUAYQDK/37/u/96/wT/Ev9G/03/4/5F/jL+Pv4t/pn+SP+a/0X/5P5u/2EAeABi/xj+5f3Y/rn/s/85/0P/2/8yAKX/E/9y/4YAlQBs/8P+J//n//T/gP+M/xAALABD/0H+gf5D/7D/pP9b/9X/0QAsAXgAuf/N/yIATAAfALf/a//t/7EACQH8AK8A0gBLATkBJQFeAVcBUAFyAZcBoAFsAeAAmgDbACkBEwF9AAcARgCgAGoA9P/T/+X/uP9b/wD/N//G/y8AXAAXAAcAJAAmANr/Hf+3/hH/nv+I/yH/Gf+K//f/5v+g/8j//P/L/9T/4//i/4D/2f4B/8b/4/+K/7r/UgBIAFP/qf5Q/1IAUwC0/5//dgAFAVIAxf9SABgBqQAPAGIA7QD5AFsAJwBtAKUAhAA4ABoA+P+8/4f/af+m/2wAMgFbAccAJgBiAAAB+ABlAAgATABqABUAw//u/3AAlABFAKD/cv8OAMQAqgD2/3L/Yv+i/6L/xv8jAMn/Ff/z/lb/fP/D/uv9Mv4X//X+uf0G/a39O/7p/RH9Df0c/kT/ff+h/0MAvQADAbgAtAA0AS8BxwBJAM3/wf/9/2AAaADx/1v/Vf/N/2UAoQA4ABMAXABRAM3/af84/43/GgCXAG8BtQGEAUkBBgEBAQ4BUwGIATQBgQB4AAkBmQGgASgB7wDjAMUAYABFANQAPQH7AHkAOwBfAJYAnwBkAPf/rP+X/9H/AACP/7z+Hv6m/ZX9F/6J/pH+jP60/jj/dv/n/nn+Dv/d/wIA4f8HAFoAiwDeAMEAPQDe/4v/bP/Q/0kAQgAsABgANQDBAKAAxv8F/xz/0/8GAEP/of4b/9P/BAC7/7X/ZgDyAJEAZQDIAG0B/QHbAbQBOgLBAqACMALwAQoCJQLLAQ8B4gBcAc0BmQEFAakAvwBtAIH/4P56/4AAZQCy/2j/pf/E/wn///2z/Q3+Hf7W/ab9pv3T/VX++P4r/+3+dP7X/nz/gv9I/2f/NADnAJwANADGAE4B4ADC/+/+Kf/v/woArP9a/5L/+v8RAMb/Nv+0/qX+XP/9/yAAxP8k/zz/r//q/8H/Yv+X/28A3gCeAHgAhgDdAAcBEQEiAWcB1gG1AY8BzwFCAlQCtQE6AX8B5AFbARAAa//S/5YAZACo/3L/2//4/0b/0v4L/13/Ev/O/vv+Rv+f/9v/EwAcAGr/D//X/0cAYv8t/jj+EP8m/47+cP5R//3/y/+c/28AgAFqAW8AzP+FAKEByAEJAV0AGAAhAOv/d//8/sH+0P6p/sb+lP81AFIANgAAANn/ef8p/zr///8QAfEBPAI6AoUCbQJCAmUCaQJVAnMCZwJsAmgCrgHtANcAcAACAKz/HP8T/3n/Y//5/rb+rf7I/mr+KP7E/q3/FACa/yT/vf+XALoA2v+h/l/+Ev+x/7b/R/8H/1P/yP+7/4P/ff/i/9j/YP9P/2z/b/9b/1f/of/8/9H/I/+p/vn+L/8S/wz/TP8HAGoAHgCv/87/WQBDAJr/WP+g/7f/1v8qAJUAKwE5AaQAeADQAEUBZwG6AEsA/gDtAdwBIAGSALAARAGFARIBkgB6AKQAyQBSAL//9/9tAP3/NP/V/oL/dwBtAPH/zP8dACEAwv+P/5P/pP96/2n/e/+F/3P/ev+k/77/j/9a/63/5v/T/53/iv+n/3//Pf9V/6n/wv+z/9b/9f+l/1//n/9JAIgAKQDy/5IAfQEIAav/PP8jAOsArgBcAG4AsgBaAPb/EwBUAFgAIAA5AGQAAgBt/43/XAD8AAkBtwCWAOMAXwFmAdcASwAYADQAGwDA/woAnwDIAEgA5f8NAFsAWAAoABYA5v+W/1n/l//p/6j/W/9u/8z/6P+H/xb/1f6j/n3+o/64/k/+nv3U/Xz+Xf68/ab9if7a/0wAtf/q/8IAUAEBATUAKACmACcAQv8t/7P/4f96/xz/Wv/p/wwAwP9o/5X/6v9GALAA6QByAOX/4/8EAHIAwwA0Ab0BsQFOAQ0BLAE8AQYBuQCYAK8AEgGUAdgBuQEsAcQAqADkACIBBwHjALYAcABlALUADwECAVEAeP++/pr+Df9M/yP/pv4n/jb+S/7N/Zf9Hv6M/pz+U/5X/v7+WP8m/2D/CwBYABwA5v9RALkAwAB8AAEA2P8KACkAJQA1ABsALgCsAN0A0wAzAG//VP/J/yoA3/8v/+T+m/9xAIkAMwARAJQAWAFWAQ4BJAGJAQsCDAKsAcwBOwIVApEBXAGJAaMBSQGbAGwA7ABSARQBwgDIABIB0gDX/yj/gf85AN3/5f67/jz/W/9p/kX9Mf3p/S/+p/1g/er90P6J/+n/0v/A/5f/xf8yAB4A7v/w/3gA/wDAABMAKACTADUASv99/oP+FP9N/13/tf9UAM0AwgBCAJn/Cv/o/nv/4P+t/4r/nf8OAFoAMQDr/9X/EwCnAAYBAAEAAegA0QDtAGQBxgHXAfIBzgGlAZIBWwH9AHgAUgCdAMQAGwAF/+/+wv9BAI7/pv73/hEAMwDv/iT+z/6Y/xn/RP6d/qz/LwDN/3//0v/O/zP/Iv9R/8T+4f3o/eD+Zv8G/4/+B//R/xkAYgAvAc4BYAGtAKIAjgFDAsEBzQCNAK0A2ADMALEAugCsAHQAQABiAAwBbQECAZwArQDBAEQAiv9C//3/CgGFAbABvgETAjYC0gF/AVYBNAEuAQMBtgC4AJ4AVgBuACgAbP/l/qz+nP7C/q/+Tf5X/qz+2v6Z/kz+of48/y3/hf5q/nP/VADe/4z+hv2x/ZH+6P7I/sD+Cv+J/+n/5v/C/6L/yP/8//f/EAATAOr/7/8sAFYARAD5/7v/r/8PAEYAFQBBAJkA/AAcAccAhwCfAAkB8gBWAO3/RACdAGwAiwDpADwBKQGcAHEACwE7AY4Axf/Z//oA3QEyARIAMQAgAUsBeADF/9T/XQA+AMX/y//+/wUAvP/R/hv+R/4Q/8z/sv9E/0r/s/+7/y///v4z/zj/8f7U/hD/UP9e/2v/tf/Q/7//o//q/08AGwCw/73/NgBdAPD/m/8xAPkA0AAnAPv/ZQDvAAABxwCyAAoBjgGPAUsB4QAeAK7/GwDHAOwAswBLAE8AdAA9APb/pv+j/w8AXQDm/yn/Hf/e/6UAlgArAE0AogBcAAQAVACVAAQAIv8e/+n/FQC7/67/EwAjAIb/L//A/1wAEQBr/zb/k//P/5j/h/9//3j/af+H/9r/tP9G/y//R/8m//3+5v7i/o3+WP6y/vb+1P7N/kX/EADJAJsAcwDhAGoBnwEpAZUAjABuANP/Xf+P/7v/V/8J/2L/HABrAAoAV/9f/+7/JQD1/+f/5//H//7/FABRAMEAYQElAkECjAG+ANsAUQEhAUUA0f9+AIkBtQE6AfYAzgCUAEsAeQAIATAB1ABbAEUAnAD+AEYBIwGAALn/KP8e/5D/zv+Q/y3/0f7A/qf+QP4a/rD+Of8x/8T+s/5r/8P/gv9m/7//FADW/5n/6v92AKgAeAAPAMX/3//v/+v/BgAZADEAXgBbAG0ABwBd/yT/Uv+q/4f/7f6y/mr/QgBoAOv/hv8IAPcAQQEZAQsBaQEJAhICfQFUAZQBlwFAAcsAvgAKAR0BqABaAI0A8ADiAIMAUQCFAHEAy/9Q/7H/TQD+/07/Hf9I/0j/uv4R/t392/2P/XT95f2A/v7+fv/z/xEAx/9c/5v//P/8/7j/n/9WAOkApgA7AFkAdQAZAGL/2v4E/17/kf/X/wAAAAAHACcAEwCG/8v+yv6t/zUAOAAvACcAOgAtADIAcACaAMEAOgFwAVQBNQEtAUMBJgEnAWkB2QEKAqMBbQHDAf0BjwH1ABsBqgGPAX4Aof/1/4sAbwCk/yD/cv8CAOb/G/+u/u3+Mf/0/q3+qv7L/iT/b/+L/3j/Bv/i/lD/T/++/l7+kf7r/sn+eP59/t7+6/7s/mn/QwC0AFQA3//l/3AA4gDUAHQAGwDU/9H/9/8mACoA5v+m/7X/MQD0ADMB1wB4AEEAMwDe/3z/ef8UANUAWgGmAdIBEQLpAZsBugEVAikCzQEsAfsAYwFVAecA4ACxAEMAw/8+/yD/S/8Z/6f+sf4N/zT/vP5p/uv+lf+N/xT/Mf8TAHQABQB1/wj/Dv9B/2P/xv8aAOj/o//O/zUAcgAZALH/uP///0kACQCF/3H/tv/g/8z/i/92/5P/2v/K/4X/mf/5/20AUADj/8z/EwBvADMAkP9E/8D/OABPAHsAxAABAdUAQgAMAIkA3QBiAKH/nv+CAD8B+wBJAFIABQFSAfYAhgB/ANAAvwCTAIYAOAABAP3/mv9A/zj/of9TAG0A9v+e/9z/PQBqAIkAgABcADUAPQBBABwADABFAHoAKAC9/7r/LgBSAMv/U/9y/7H/dP/e/sf+ev/m/3T/+/4E/0D/Vv9H/2r/lP+U/4n/mv8TAEEAoP8r/5b/UwCBAAgAhf+y/9T/sP+m/5n/q/+4/4f/C/+4/t3+S/++/wAAUACpAHgA7v8OAOEAGwFUAK3/IQD5AOsAYgBRAOMACgFpAPX/VQDqAAIBtQBqAJcA3wD1AAUB9gDrANUA2ADLAIQAZQCEAIUALQDh/9f/2/96/yL/B/8J/wH/7f7Z/in/qv+u/7n/AgB0ALQAhABqAIgAWADg/5z/sP+Z/zj/A/8I/yz/Tf9t/3H/nv+y/53/lf+C//P+h/6b/pz+pP7Q/qX/xAAKAUUAhv/W/30AiwAaAPj/SwCTAF0AOQB7AKIAgQBWAJ0AHwFgAW4BbQE/AR8BQgHOATcC5gEuAagAtgAuAWkBLAGcAAkAwf97/yH/Lv+5/xUA3/9O/x7/gP+f/1b/U/+7/9//k/9j/5b/DwBmADoAiv8J//X+JP+D/87/2v/Z/+7//f9EAOj/E/+s/tf+T/82/4f+Ff5c/s7+1v5q/hP+ZP7z/lX/qf+x/9b/TQCZAH0AkwDjAD8BXgEJAdMADwFnAVYBMAFXAacBrAFkASwBWgFeAfoAqwANAYsBeAFEATEBKwEGAY0ACgCb/wv/jP60/hH/K/8z/7H/WgBEAJH/Tv8IAIIAMQCg/8z/zQAsAZAARgDXADABqACr/07/1/9BAB0A8//F/4X/Ef/B/tH+zP57/lL+sP4T/0z/LP+v/mv+Xf57/rL+tf7z/oj/qf9M/yP/mf9XAGQAKQBIANcAMwHgAKkAHwHMAbUBFAEdAccBKAKpAeIA3QBzAdwBbQG0AGoAxQABAWUAnP9e/6v/z/+j/4X/qf8gAG4ATQD7/4n/f//R/9v/oP9V/0f/WP8Z/+P+/P5W/2f/Fv/Y/jj/4/8QAK3/Wf+t/0wAiABHAO7/nf9l/03/RP8c/6T+Q/5h/iD/7v8nAP3/uf9l/yj/3v7y/kX/uP8lAHgAlwDJACkBSAFyAdEBNAJoAjcCyQHgASACvwE9ATkBSgEsAZ8AGAAjAGoAJwCO/4D/3f/g/zP/1f55/00ATQDW/+3/kADQAKwAfgA7APf/xf8FAJoAmgAZAN//NgCrAM4AtwC7AKAAZQBMAA0Ayv+V/4T/tf+j/yX/pv6S/gT/Sf8H/9b+Nv/T/9b/XP/i/u/+Zf9h//b+0v4L/xz/E/8p/3b/5v/g/2X/I/9x/wYAOADJ/2n/nP8tAHQAQAALAEgAvwD4AMcAdgBcAJsAJAEaAWUAGgBDAEYAFACr/+v/wQAZAc4AUQBRAMoAOwFEAfIAxgDhAAgBxwB2AJEA8gAJAb4AgAC0ABwBAwGfAIkAkgA6AIT/E/+W/zQA+P9//2z/W/8K/8T+9v6G/53/QP8D/1j/CAAdALv/kP/R/wYA8P+4/8L/5f+b/4D/tv/q/8z/LP+Z/mX+c/5x/lj+hP4t/+7/AABX/9j+Yf88AC4AkP9Y/8T/QwBgAEEAYACzAJoAWgAsACwAawDCAKwARwAtAHkA/gAOAbAApQD3ADMBEwHZANYA/ADoAOcAJwEXAXcA/f/6/+z/rv89/w7/Pf97/1v/V//T/08AjQBnAIYACgEaAcQAiACQAGYA6P/M/wQA6f9g/yD/eP8XAFoAAADD/87/gP/N/l7+L/5P/n/+l/4b/4r/kv9d/y//TP+B/8H///8CAMr/xf/s/yAAGQAEABYAMgAjAAAAOADJAAgBuQBhAEEAnAAeAXMBfAEcAdYA/wBzAbcBaAHXAGYADwDk/wwAZwCBAEAA4f/K/9T/mP98//D/dABpABwACAA2AIoA0gDHAHEABgCK/17/zv9lAJEAUAD7/zMA1gCbAK7//f4w/9n/vv/b/k7+cv6s/o/+Ov44/o3+nv6O/qf+ov7Q/jv/gf+A/5X/2f9HAJwAjAB4ALgA9QDDAHsAoAAOATcB/gDSABIBEAGFACoAwACGAY4BSAE/AYABgQHmADUAsv84/9b+9f4f/xT/Ev+l/28AgwDz/6//OQCSAF4AHgBkAAwBGgGTAJkATAGLAQMBNwDd/wsAMAAkADMACACo/0D/MP9g/yP/gf5I/tL+O/8T/5L+Jv5A/lf+KP4C/vz9S/6+/qj+Mv4f/pv+O/8s//j+Q//0/04A/P/3/6oAZwFNAbMAzgCaAQECfgG0AKQAIQFmAfYAegCFAAABJwGHAPT/DQB3AHIADAD7/1gA5QAXAR4BQgEtAe8A8QAIAf0AmQA5ACsAQQA/ACcAPQBeAFsAWwCpABYBGQF6APD/RgDmAOAAOwDc/+T/xv9P//z+7v6l/ij+4f1I/g7/Uf8W/+T+uP6C/iL+9f0S/o7+JP+o/9z/1/8VAGAArADiAN0A2gDaAKAAmAC3AG0AAADn/wAAGQDU/2b/Tf+Q/6f/Wf9I/4j/lv8v/wD/mP9PAEAA0P8EAM8AKAH/AOIA4ADvAOYACgF7AaYBPgHMAPMAhQHPAYUBLQEkAUQBTAHPADkAEQBHAHsAVADc/3n/ZP+Q/3L/Kv8y/5j/CgDk/0//4/7k/jf/Kv+i/k7+b/6N/qr+7f5O/7v/qv8x/y//sf8XAO//VP8o/7P/NQAJAHr/Y////5kAiwAPANj/6v/n//L/8P+//8j/8P/H/7L/u/8SAM0APAE5AQEB6AD6AC4BUwEvAQ8BJgFoAWUBIwEJAV0BlAFYAQQBBgFwAaEBXwEQAcUAZgDp/4D/lv/H/2P/6P77/iX/+v60/sD+K/84//H+DP+c/ycA6/9J/zn/uf/n/4//Nv89/2v/C/+0/t/+HP8P/5r+Uv5e/mf+PP4Z/m7+Hv+h/3r/2v62/nz/MQDZ/xL/+f6m/zEAJQD2/yIAjgCTAEwAMwBvALsA8gDkAMQA/QBiAZ0BbwELAQ0BYwGYAWkBEwHsAA4BKAEkAUMBRQHEABUA5f/t/9L/bv8l/1T/yP/V/5f/3/92AOYAxAB+ALsA6gCzAGcATgAtANb/vP/k/+D/iP9M/4f/2v8JAAQAHQBMAAIAJ/+c/o3+oP6y/rv+R//s/xIAw/9s/33/nf+v/7H/mv9+/5z/0P8JAPv/uv+U/5X/of+t/+v/XQCWAEcAKABxAA0BlQGOATQBqwBhAJ4AJAFoARUBggAiABkAGQAkADoAIgDm/7T/n/+g/5X/p/8tAKEAjwBKAE0AjADAANgAuwBhABAA6v/l/wsAPgAsAA8ANQB6AOkArAC6/yr/h/8cAAAAGv9s/qn+7P6B/vT92P0f/hz+sf3R/V7+qf6l/pv+qv4A/0j/bP/Z/3IAwgDKAKoAdgBuAK8ACwEkAfYA0gAOARkBvwCOAC8BFgISAnABYgH+AUoCggGAACAAOQD5/5T/e/+9/wEATAC4APMA2QCDAJEAqgBmACAAMQCbANkAfgBNAOQAVgHcAAMA1f9nAP8A3QB2AC4AFwAOAAMA6/+v/0n/Af8i/1n/W/8K/3D+I/4x/jb+Av6X/W/9xP0C/q39YP2P/TT+g/5q/oP+EP+X/4v/kf8hAMMA9wCcAIcAIQGnAYQB+ADIAA4BYAEnAa8AiADVAAQBkgABAAkAjwCkADMAAABqADUBdAEcAeIA2gDGANMAzACmAFgAEgAGABkAGwACACUAbQBqAB4AJACvABIBpADz/yEACAFKAXIA1P/t/xQAmP/D/lb+L/71/Y/9dP3z/XL+jP5X/uj9ff0m/Qv9Qv3i/Zv+Pf94/4b/7v9/APUALwEQAR0BcAF8AYUBlwFsAR4B+ADpAP4A6gCoAKMA5ADrAJEAYACHAIoAEQCi/xAAxwCpAOz/xP+CACcB8wBaAAgAMAB6ALcA2wDQAK0AmAC4AOgAAQEUATgBIgHPAK4AnQB2AEAASwCfAMwAfwAHAPP/PwAxAMv/o//3/2MAPwCf/wH/1P4N/+f+c/5I/lD+Lf4T/lD+5P5f/wX/e/6u/kb/n/98/x7/Of/F/w4Atv83/zT/5P+TAJMAFADU/xkAagBfAAkA5/8yAFcA5f+G/4n/6v9nAJ0AtADDAM8A2gDqAOQAqgCLAKsA6ADxAM8A0QApAVYBOgEQARMBaAGgAZIBbAEPAaMAWAA8AFgAGQBc/xn/av9//zX/6v78/j///v6u/gX/pf/g/1f/y/7v/l7/Lv+1/rL+/f4T/6b+gv7f/iL/+P6I/pr+/P7e/m7+Wv70/tb/MgDF/1v/sP9bAHMA1f9V/3z/6//5/9v/FgBvAIMAOAAJACoAYwCHAKgAxQD4AEQBggGjAYgBSQFJAV0BXgFXAR4BswB0AI4A7ABAAf0ANQCp/+n/CgCK//X+CP+q/xcA4v+w/1wAHAFBAdEAhwDhAOUAMQCT/4f/tv+Z/4L/pv/W/7P/WP9g/63/8/8WAEYAYwAcAFb/vf6x/tP+6v7v/mL/yf+8/3//dP+2/77/f/9P/0j/Pv9b/6//IwBAAPv/rP+1//j/GgAyAHoAyACrAJUA7wCsATUC9AFQAdkA7QBWAZ0BogFUAfAAsgCjAIQAdgBeAAMArv+c/8X/9//c/6f/AAB9AIoAPwASACgAMQAjAA0AyP96/33/tv/S/8T/qP+t//v/FgD6/7v/Qv8D/2L/2v+8/xj/h/6e/tP+d/7x/fT9Pf5H/sf9q/2L/lH/P//Q/rr+RP/T/+j/AgCqAFMBVgEKAd0ACwFFAUUBHAEoAUoBXgErAeMA7gB/AS4CPwLBAZwBEgJaAqwBrwBoAM8A4wA9AKv/6v93AIkAPgAmAIkAqQA0AML/pP/R/+z/y//w/1cAhQCQAKIAcAD+/9D/JADAANcAOQCe/7b/JQAyAKj/EP/2/iH/OP8e//7+3v5x/vr93/0K/hr+wf1w/bb9P/4s/sL9lP0T/p/+rv6k/u/+ev+y/7n/BwBKAGAAZQCaAAMBNAEYAeUAAgEuAVcBWAEdAc4AtQDNALsAdwBNAIsApwBiADQAZQAIAWwBLgHHAJgAlwDDAM0AkwBPADAAHgAEAPb/7f/4//j/5P/o/0MAvwDgAKkAVwCPAE0BpQESAWYAGwAFAMH/Nv/G/nL+Q/7//dD9Ef58/q7+gf77/X39LP0h/VH91/1o/s/+5/4F/5j/RQCjANcABQF9ARQCBwLKAc8BwAFIAcgAfwC8ABkBCwHqAAkBHwH9ALQAjwCOAFUABQBPAPMALQHQAGkAkQAYAScBmgDM/3H/2/9qAHAAFQAKAHQAzAB7ABsAeQAwARcBJACY/+H/ZgBaAA0AKgCFAG0Ao/8A/0z/2//6/6H/Q/97/wsAHgCJ//P+4/4N/yD/9P6R/k/+jf74/ib/Df/B/s7+Df/7/vP+J/9l/5v/rv/K//z/DADZ/8P/BwCFALYAdgBVAKgA/QD4ANgA5gDpAJYAIQDK/+z/UQCiALQAoADDABABOwEWAaAAcQCxAPsA6ACxAJcAqwC0AKQAnAC6ALoAnQC1AMcAkAAxAAgAVgCXADIAx/8DAGcAOgCK/x//dv/D/2z/A/8X/3X/aP+v/l7+2P5Q/wX/yv4o/6j/wP93/4D/t/+//4X/U/9f/0X/5v58/lD+r/5p/+r/6/+v/7H/DwBOACQA//8gAG8AZAAdACEAegC4AJwAfgBhAF4AhADDAOEA0gCYAHwArgAGAWgBjQERAaAAwQAoAUABzQBZAIgA9ACtAL//O/+O/6v/JP91/o7+Vf/X/6P/j/8SAIoAowA/ACwAnQCqAEUA4P+e/6X/tP/V/+r/v/9Q/xn/Vf+o/77/h/9c/0n/Gv+j/kX+Hv4z/nP+6P6Z/83/mf93/5H/1v/7/xkAJwDp/3P/ev8cANgADwHIAIEAfQCTAIUAnQAOAXkBewFKATYBfwHaAfIBuAFOASEBNAFRAUMB5QB7ACEAuv9r/4v/uP+W/1D/Kv9p/63/ev8o/2P/zP/z/+b/5v///wcALwA7AOT/eP9n/67//v/v/4L/PP9a/4v/t/95//n+u/7m/i7/D/+a/jz+WP5z/k7+OP58/vz+Of/4/gf/nv8JABAA7v8ZALUAEgHjAM8AOwGmAZEBPQEdAXABtwGiAXcBrgHvAeEBSwGiAIYA9wBIAQABogC9ABQBBQFrAO//AAA5APb/Yf8k/1P/kf+9/wAAOgBRABcA8P8OACIANABZAJwA5wDSAJIAvQDkAHYAtf8+/1L/oP+G/zL/Hf9S/4r/d/8J/4z+P/4u/nn+tv6Z/kz+GP5D/oT+gv5s/oD+1f49/13/Qv9A/z7/Vf9z/8j/SgCjANMA2AD8ADYBJgHtANMAFAF9AZkBEQFUAEcAsAD4ALcAWQB+AOoA0AAxAAIAlwATAa0ABgAjAL8A/QCnAIMA0gDvAH8ATgCZAKYAIACq/7z/AwDv/5H/h/+7/+j/KgCaAOEAsgBgAF0A3QA6AfUAXQAiABwAzf9C/wD/Fv/o/n3+U/6z/lb/lv9p/17/WP8h/6j+bP6c/iT/oP/5/2QAqwDkABMBRgFpAUsBEgEfAT0BEgHUAJAAYAB5AEoA2v+i/4v/cf9z/1D/Lv8//0f/Rv8k/xz/eP/j/9T/g/+f/1IAzQCSABkA0f/r/z0AdgCnANAAywCyAM8ADwFPAU4BIAH8AOEA5wC+AGIALwBJAHMAUQDm/5T/hv++/7H/Xf9U/4v/x/+3/2T/MP9B/2//S//W/pP+tv7O/tn+Mv+6/xUA1P9B/1P/7f8TAJL/8/4N/+j/dgAdAI3/nv8YAEkACADD//L/LgAMAOH/5v8AAB0AJgDO/3T/e//o/3UAhQA2ADQArQAMAQsB/QAHATMBNQEjARoBLgFrAbYBuQFoARMBEwFoAWsBAwGxAKkAvQBrAM7/pv8gAHgAKwC1/6j/v/+y/5X/rf/g/8z/jf9r/5X/j/8k/+T+R//X//z/0P+j/7X/qv97/1v/H//3/vL+Dv8I/7z+kP7W/nH/xP+0/43/VP8z/17/jv9t/y3/Gv9i/6f/e/9s/7z//f+6/zr/Lv+3/zkATwAwAEkAoAC1AKcA1QASASYB/gDrACYBOQHqALkA7wAxARsBwgCaAIYAXgAdAMb/oP/N//f/CABFAFAAdQDWAA4B8gCaAHUArwCwAEcA/f/+/+T/kv9g/4b/5f/n/63/n//x/00AWAAdAOD/lv9C/xv/8v7p/hn/j/8YACoAyP9w/5X/zf97/+r+yP4V/3P/Wf84/1v/aP8b/8j+Bv+v/xoA+v/O/+f/YwAUAX8BjQEvAbYAbwB2ANcANwE2AdMAfgCHAMEApABDABkAGAAAAL7/if+o/+f/5f/r/zAAYAA8AA0AIQBIAEkAHADW/7D/z//x/+f/zf/X/xsAsQDyANoAiwAWAPX/LABNAA8AoP9f/4j/v/9+//X+hf52/rr+yf7I/vP+Jf84/zH//v7v/iT/T/9z/7L/5v/y//3//v8NADcAXgBvAGsAagCkANQAuQCfAP4ApAHfAaEBlAHgAQACbgGnAEoAWQBAAAAA6v8JACcAOABTAFoAYgBjAI0AlQA9AAwAUwDqADgBxgA/AIwAFgHXAAoA1f+PAGEBIAE6AMH/3/8BAMr/c/9g/2X/Ov8g/0v/ov+z/xT/dP5i/pD+gf4Y/tX9J/6J/k3+1P25/Sv+Z/4n/vP9OP6w/sf+wv4d/6//IAAMAPL/QwDGAAsB8wD+AF4B1QHIAUcB8gAuAXsBKgGEAEwAqwDkAKwAjQDcAHsBogEuAbcAfgBvAJIAgwBOACQANABgAGwATgAfACwASAAZAL3/z/9yAOUAkwAGADYA/AA6AaMAPgBLAFQA/v9+/y7/+v7E/or+iP7C/uP+y/6P/jb+4/2P/X39sf0Z/nP+sP62/uj+bv/m/z0AigDNACYBXQFXAYwBuwF/ARgBBgE4AVEBAwG1ANIAFgH4AIkAYwCcAI8AAgCs/zwA+QDyAFcAGwB+AMoAfwABAK3/j/+3/xYAUgA6ABcAMwCDAI4AdQC2ACUBFgGWAFgAdgCYAFEABwAwAHEAOwCy/4v/CgBmADsAAQAiAG0AYgDb/yP/wP66/p3+hv5z/jf+2/2z/fj9dv6//ov+ZP6l/iD/hf+m/5D/kP+6/+X/2v+w/7D/BgBsAIoAXwAsAC4AYQCOAHYASgBAADMA8f+w/4z/vv81AHQAcQBfAIIA0ADiAKEASQA4AGQAewBsAFwAaACYAMsADwE+AUkBTgFvAb4B6wGcASABxwDBAOsAtgBGADgAIwDG/3z/cv+1/8P/Nv/m/j3/rP+l/w3/vv70/g//lv5L/rj+Uf9Z/+3+AP98/7T/Y//6/jL/ov+B//v+wf5P/1IA1QByAOz/8P9vAJoAFgCh/9H/SwBhACAADgBRAH0AHwCs/4v/vf8OADYAGAAQAEoAoQDRAMsAzQDnAN8A6AARASgBJQERAfwALQFnAT4ByACAAIsAcwAYAKv/pP/s//z/uP+k//L/NgBJACAAIQBVACIAx/+i/5P/Sf/w/vf+Kv8N/7b+qv4c/6T/5f/t/xsAPgDs/1H/+f7s/gr/Kv9V/9f/FwD6/7f/pf/G/9n/0v+s/2T/Gf80/6z/EwAiAAcA5//C/4n/Zv+n/y8AbgA/ACIASACmAPQAGwEiARoBKQFpAe4BUwI5AtgBewFKAVABdAFeAfYAcwAnAEEAZQALAKH/pP/l/wUABwAGAAIA6//h/9f/uv+Z/3v/ev+k/+T/6/+6/4v/pP/3/9n/MP++/hH/sv/D/yb/2P5T/7P/Q/+N/nf+Bf82/37+//1e/ur+C/+8/n3+tv4V/1X/mv8HAFUAUAA9AGIAugDmAN0AzADRAPQAJAELAd4A4gBoASoCegIIApYBxwE6AiACjAETASMBMgHZAF8ASwCPALsAjQBMAFUAawBfACsA4P+z/6r/qf+x/6H/j//F/ygAFACR/13/z/92AIoAAQCf/9X/LAAxAPj/2f/r//L/7v8SAE0AIwB5//z+/P4d/+7+fv5Z/ov+nv5S/hD+Av4U/gD+9P0o/m7+k/6h/hH/vv/n/8X/9v+WABQB9QCiAJsA6gD0AOQAAAEfAQcB1AC5ALcAlgBTAEcAagB2AEUA/v9BANUABAGuAFAAQQB8AJEAagBKAFUAQwD3/77/z/8LAA8A0f+s/wsAnAC2AH4ARAB2APsAKAHEAIUAiwBqAAwA4P8NADkAFQC6/6D/8f8fANr/Yf8I/+H+o/5K/hv+Wf6W/nf+HP77/XH+7/4L/yP/nf93ACMB8wB1AHYAwgCcAAwAtP8TAMIA/gDEAK4A2gAHAc4AbAAzACgALwByANYAHAEjAfkAywDhAPIA2QBtAAEAHQCbANsAqQB4AKwABgHcAGgAewD0ABQBjAAGAO3/IgAxABoAIQAoAAIAl/8+/2z/1f8bABoA0/+s/+L/FwAOAMf/gf9Z/2P/Wf/4/pr+tf4r/1H/2v47/kz+7P4d/8P+bv6q/j7/hP9k/0P/f//O/8z/ov/O/zMAZgBTAC4ANgBsAI0AdQA2AOX/yP/K/93///82AHUAnACiAKAAogClAH8AbwBrAFcARABYAG8AcwBcAGgAqADTAK0AigC2AO8AvAA4AP//ZADIAJ0AbwDIADsBNwGtAFgAngDdAIkAHQD1/zYARADV/3//ff+g/7L/sP+L/1r/Wv+O/8b/l/9g/4v/1/+2/yL/ov6F/oH+Vf5R/pn+1P6n/n/+5v6R/9P/rP+x/xIAXgB7AGsAVABUAGkApgDHAKYAcACfAOYA5wCmAGkAbgCxAK0AOgDk/wsANABDAE8AQQBUAH8AhgB/AEkA8f+y/7f/3P/w/w0AGQAqAFIApQDwAP0AvQBdAEkAUgCAAMIAzgCCAPL/fv+L/8P/yv+T/1f/bv+9/+X/7//X/37/Av99/kf+M/47/kH+cP6v/uX+E//5/vf+UP/D/wgA+v/U//H/JAAKABoAiQDMAK8AdQCMANEAyABCAOj/MQCOAD8AgP9A/8j/RQAwANP/5/86ABsA1//7/0MAMADI/77/XADsALsAQABGAMcAKwERAcYAxAAdAX0BXQEJAfQAJQE0AQUBuACnAMoA+ADPAIEATwBRAHEAXwAKAL//mv+k/47/Ff+T/lj+SP4x/jT+Zv7C/uj+oP6N/gb/cv9l/w3/8f5y/wAABADD/9z/SgCBAE4AEwA0AHYAYAAgAPH/5f/y/wYA3v+l/5L/wv8DAAQA5P/l/xgAJgAFAAkAMQBgAHMAfwCAAHUAagCxACIBRAEkAREBOwF6AWIBIgEUASkB/wCYAFUAewCMAF8AMAAWAPX/6f/u/yQALwDT/6z/CQB7ADsATP+G/o/+D/8j/7X+a/6g/vb++/7V/rX+v/7Z/u3+4P7O/sT+C/98/7D/qP+h/9v/OQCcAKcAXwAPAAAAHgD//3//OP95/7f/jf9E/3v/AwAdALr/qv83AJcAagATACoAtgAUAfwA9wAuAU8BFgHfAPUAIAEGAbAAZABVAIIAngBaAOz/w/8/APcARQHeAH4AmADMAIsA5/+f//H/BAB7/xz/iv8QAPD/eP9s/+L/AwB+/xv/e/8fAFAA///B/9T/v/+L/2f/a/9r/0T/UP+5/0oAagAMALT/pf+q/4f/S/9M/4n/rf+I/0H/Q/+D/8D/s/92/1n/k//v/x4AYwCjAN0A8wDOALAApQCrALUAtQCaAH8AmQDzABIBxwCDAJYAtACMADEA9f8QADIACAAMAEwAVAAjAPf/3P/V/8X/zf/z/xAAAADZ/+L/PQCHAFoA8P+u/9H/GgAvAAsA/v8CAP3/zv+s/6n/pP+V/27/Sv9J/1n/Qv8V/wf/Df8V//P+1v4M/2P/jf9T/yj/bP+m/6H/bP80/0f/qv8iAHsAngCWAKMA3QACAdYAkQCkADkBfAHsAEIAUwDrACoBhgD0/3EAXwF8AdYAQwBsALAAigA0ADEAYwA/AL3/fP/A/xoA9/9s/zf/xf9fAGYAGgArAJcA3ADOAL4A2wATAQgBwgCLAHEARgAOANr/u//E/7T/c/8m/+j+9/4p/+D+Wv40/oj+AP8I/63+mf74/mj/of/H/8f/uP/A/+T/HQAYAN7/zv/6/yYACADw/zIAnAC+AH8AQQBMAG4ARQAsACsAHQDx//L/PgB9AH8AXwBBADQAJgD9/8X/n/+s/9H/2P/b/97/5v/c/73/wP8DACkADQANAE4AwwD+ALMAVgBYAHIAcwBnAE4ARwBwAJYAfwBXAGQAeQBMAMH/NP8n/4H/f//t/nv+af6u/vj+Kf+N/9//3P+a/5//1P/G/1X/J/+Q////1f9x/3H/2P87ADkAKgBMAH8AmQC1ALMAnAB1AHYAlACRAE4AFQATAFYAkwCCAEIAFgALAPv/8v8fAI4AuABgAAIAHQCXALMATQD4/ykAagBwAGgAiQDRAOcApQBoAGoAoADGANUA0gDHAKkApQDNAOsAiwDy/4v/i/+g/07/zv6L/qv+6v7g/nr+If41/pX+CP82/xH/Df9a/6n/r/9r/zH/Xf+k/5//Yv9s/9X/HgACAMb/5f8xAEIA+v/C/7n/vf+0/8//HwB8ALEApwB4AHEAgwCAAC0Axv+c/8v/7//z/xYAcwCqAHUAJwA6AI8AmQBNABkATwC7AM8AsgDPAAkB/QDdAN8AFAEmAfkA5gATAfkAjgAhACUATAD//1z/Lf+M/9b/yP+b/4P/iv9f/xn/+/4N/0j/bf8q/9P+wv71/g7/2P6z/un+VP9w/1n/nP8zAJIAUAD9/0AA0ADbAD8Ar//g/2oAogBPAAEAIgCWALIASgDq//v/NQBLABoA4v/F/9v/5v/r/+7/1v/Q//X/BQADABUASQBnAGIAWwCEAMYAzgCmAK0A9wBGATQBzwBkAF4AigCiAIcAQgDd/5P/kf/R/+j/o/9X/2b/w/8MAAIAxf+V/2b/Lv/z/sv+tP6+/tv+Fv9R/2H/eP+F/6H/zf/1/xEAEADd/8P/0//L/77/4/8IAP7/xf+q/9D//v/k/6f/wP8MAPz/i/9S/7X/JgAKAKf/tf8zAG4ASgBFAF4AXgAwADkArwAgAfAAiQCdADABjAFbAfYA+ABKAXQBEAGZAIIAtAC0AHIAKAApAEYAWgAvAPz/+/81AHIAYAAJAM7/x//b/73/V/8C/wT/Jv9D/3P/r//c/8b/b/9c/7X/5/+c/yD/B/9p/7f/l/9J/0z/n//W/8P/nv+q/83/zf/D/7f/gv9T/2P/cv9t/2z/pP8kAHEARAD8/xEAWABsAF0AQgBXAH8AlgB/AHMAlADuABoB4wCiAL0AEwE1AewAtgDDAMMAegAZABAAawBxAAIAsv+6/9L/1//K//r/GwD1/9T/DgB9AH4ACQC6/+T/OAAyAN7/pv/A/7H/dP9q/4r/nv9q/xT/5v7r/un+3f75/i7/Uf82//D+4v5W/9X/x/9f/0X/qv8QAAAAw/+4/9//yv93/1b/nv/5/xsA+v/n/xoAcACZAIMAYwB1AKsA4ADaALYArQDxACwBFQHdAN8A6QCtAFcAJQAvADsABADM/9//CgD///L/7f8EAAsA+P8SAE8AZwBfAFsAXwBJAEoAXABjAEoAKgBGAIgAugDAALMAqABjANP/bf9l/1//MP/z/jL/y/8aAN3/gf+M/8T/uf91/2T/jv+k/3H/TP9N/2X/W/87/0L/cP+d/7n/zf+0/7f/4/82AH8AegBMACkAMQBlAJcAlgBgADIAKAA/AD8AMQAzAEcAVgBKABUA6f/c//b/KQBAAA4A2f/f/xcASgBhAFwAPwAhACUARgCCAKcAmACEALUAAwFHAQwBiABTAIsAtAB1AOz/nf+o/7D/aP8X//r+Ef8K/+z+/v4b/xf/EP8m/yj/Bv/O/s3+LP+H/2z/JP8i/0j/W/9j/5j/8f8EAM3/zv8VAFMAVABrANUAMwEYAeEA/ABMAS4BnwAXABoAWwBqACIAAAAwAIEAmQB/AHIAhQCpAIgAJQDw/w8AWgBkAAMAuP8CAHoAjABCADcAoAAdARABuwCSAKgApQBzAEwAZwB7AFYAMQBKAIMAdQD1/5T/kP+W/1P/7/7M/vr+Dv/F/oD+iP7E/sb+kP55/qH+wv62/tb+N/+f/93/1v/g/xoAUgB4AHwAegB9AIsAgABvAGMAfQCIAE4A+f/i/wsANgAkAPb/9P9CAHsAaQAwAAcA9v/+//b/9P/7/wwAHQArADUARQCAAMsAzQCLAFwAiADFALwAcABoAKkAxACNAHMAjQC5AKQAVAAYABsAPgBMACAA+//2//j/zP9o/wD/uP6c/pT+rf7Q/u3+5f7W/uD+8P4c/1j/jP+x/7P/rv/k/xcABgDZ/93/BQAgABIAJwB/ALsAfgAWAAMAQgA6AND/e//B/zAAMQDj/9T/GQBeAEsADgDh/97/BgBCAE0ANAAzAF0AiQCSAJoA0wACAe8ArQCeAKUAkgBUAEMAgQC/AJ4AVQBVALcA+wDuAL0AywABARwB4wCFAD0AMgAYAPL/wf+K/07/Lv8v/0b/Qv8K/+/+D/8w/z3/O/9A/1n/bf9q/0v/If8Y/1z/sP/M/6X/df+E/8n/AADs/8L/t/+z/47/bv9v/53/0//V/8n/6P8qAGQAWgAhAOz/+/8tAEUAKgADAPb/GwBAAGcAfgCPAKAAtgDUAPYA4wCwAIMAgQCWAG0AIAAsAFMARgANAO3/BAAqAPT/zf8TAHUAeQAmAPz/LABIAOv/gf+b//H/9v+S/2b/kf+2/5r/Zv99/6T/av/z/sn+Kf+3/9r/gf9H/4v/AwAZAML/fv+s//j//v/b/93/8v/m/53/ev+d/8b/1P/a/9L/1v/k//z/CgALAAcADgAOABcAPQBmAHEAdgB1AJsAzgDFAHoAUQByAI8AaAAeACAAdQCTAF0ANwB7AMMAuABZADQAdgCbAGcALAAUABwAIgA/AGEAagA+ACUASgCCAJoAmwChAKEAXADj/5r/lf+Y/5H/if+7/97/0v+q/5n/q/+t/5b/cv9U/0H/W/+N/7n/wv+5/5j/a/8+/x//Gv85/2f/ff+W/6v/2P8YAEEASgAtACYASQCAAJ8AgQBYAEMARQA/ADsAJwASABoAKwAoACkAGwARACIAMQAmACUAMQA9ADoALQAQAO//3v8DAEcAZwBaAE8AXACPALcAvACUAF8ASQBnAIQAfQBYAEIAPgAdAN3/w//i/+X/pP88/xP/Vf+D/1P/Cf/2/hX/Iv8e/zH/ff+1/3r/Kv8x/3z/l/9n/1H/o/8AAAQAyP/O/0EAugDBAKEAvQD/AA4B3gCJAGYAaQBqAGUAZwBYAE4AWQBoAGkAbwCVALMAfgArAAgAGAAnAAIA3f///zMAPgAuACsALgA9AE8AZgB3AI4AogDLAO8A8QDMALUAtQDDALYAiABZADQABADh/8b/pf9x/y7/Dv8h/zr/Cv+4/n/+iv6q/p/+k/67/g7/Rf9J/2T/hP+g/7P/yv/r//H/5v/M/9T/3//f/+T/9P/5//r/8P/e/9P/2f/u/+j/uf+T/5b/0v8UACsAHgAiACcAHgAWACEALQAeAAEA9/8YAD0AQwBCAEwAbQCPAK4ArAC0AMAA2QD4AAMB3QDJAMYAqAB2AHIAjQCSAGQAMQAkADgAPAAlAAEAwP9m/xL/6v7b/uT+7f7//iH/Jv8g/y3/Rf9r/4X/iP+c/7v/yP/Y/+f/yP+L/3T/pP///y8AIAAdAD8AbwBdABYA2f/d//T/FwA/AEQALQAdABgAMwArAOn/nf+a/+3/SwBtAGsAjwC3AJ8AXQBXAKgA0wCXADEAOgCKALMAkACAAL0ABAH2AKcAfwDEAA4B/AClAH4AoQDWAKkAMgDc/+L/4/+w/2X/PP9K/1n/Mv8C/wb/Mf9p/37/R/8b/y7/Zv+T/5r/h/9x/2r/Zv9o/3H/j/+s/6r/qv/G/+j/6//c/87/0v/A/6r/nP+m/8b/4//z/wMAGgAzACgA/v/J/8P/2P/l/9r/3P8CAEQAZgB3AHgAfwCNAJMAnQC1AMAAvACkAKQAqwCBAEYAYACYALAAfwBOAFsAhgBiADAAOQBZADAAz/+i/9L/9P+k/2D/h//J/8n/hf9m/3P/Zf89/yn/S/9g/zP/6v7j/i7/hv+j/6T/xf8RAFwAXQArAAkAKwBTAE8AIQAMABYAKQAMAO//6f/5/xQAKwAXAPT/1v/L/8f/1//3/wMA4P/N/+r/GQA8ADcALgBfAI4AfgBTAGAAqADeAMEAfgCJANkA/QDwAPUAIgEdAc0AVAA2AFwAVwAUAOL/0//W/9H/2P/r/+T/qv+G/5P/rP+o/4L/Z/9j/1r/MP8W/wD/AP8v/3L/wv/Z/9L/3P/4/wwADAACAPX/0v+z/8n/AAAQAP3/3v/P/8f/wv+p/4n/hP+b/8r/BAAoACsAHwAUAAsA8v/g//H/FwBBAEEAQQBXAHsAmQCrAJYAdABzAJ8A0QDiAK8AhQCeANUAzgCwAKgAtwCtAHkAMQACAOv/8//7/+7/3//h/+n/6f/D/5z/jf+T/5P/i/+R/53/g/9L/0H/b/+o/6T/bv9l/57/0f+5/5D/jf+x/7f/k/+C/57/zP/g/8T/wP/W//X/AgDz/8L/qP/Q/x8AMQD3/8H/3f8TABgA6f/r/z4AiQBlADEAPwCFALEAmQBuAJEA1ADUAKIAlwDAAO0AygCYAKkA5wDpAKYAaQBvAHYAVgAvADcAUAA6AAQABwBIAGUAKwD2/xAATgBFAPv/yf+//6H/Xf8o/yv/L/8U/wn/Iv9I/0n/MP8y/0H/Gv/k/tn+Av89/1L/Tf9Q/2n/mP/e/xcAEQDj/9X/3P/d/8H/t//S/+X/zv+1/77/7/8dADUAMAAoABsAEwAOACMAPwBOAD4ASgCKAMkA3QDMALIArACyALMAnwCEAGQATgBCAFMAXgBZAD4ANQBGAGgAYQA8ACgANwBQAEwAFgDy//X/5P+9/63/t//E/8L/rP+c/6H/sf+r/4D/Q/8q/zv/Sv8v/wL/Af8T/xz/IP9P/7v/DQAUAPn/AwAcAAAAuf+6/xcAUwAbANz/AABbAHoAOwAeAFAAiQB7AFwATQBaAFcATABaAGEAPQAVAAcAKABSAF8AVABLAEIANgBFAIUAxAC+AHwAWgBzAJIAegBNADYAPAAdAPz/IgBrAIQAXgAnABgAGQAOAPL/6//p/9L/rv+r/8P/vf9u/xX/CP8f/xf/1v6o/tD+Lf9q/17/N/9H/67/AAD9/9X/2P8VAEoAKgDz/+j////6/+T/4P/7/xgAHAD8//z/GgBFAEYALAAZAC8AOQAmACIAQgByAIQAbgBlAGsAbwBUADwANABBAEEAQgBPAHIAmgC6ALAAjABzAHEAfwB0AEgAMwBEAGsAYAAuAB0AOwAqAPT/1v/0/xMAAwDS/8r/1v+9/5L/b/9c/z//Fv8R/07/ev+C/5D/nv+s/5X/dv90/5P/tv/F/8X/zP/Y/8r/o/+G/5f/wf/d/+b/6/8gAE0ASgArACkAWwB/AFsAFwAEAD8AaABgAD4ASQCDALcAkQBBABgANgBPADcAGAAbACMALAAtADkAUQBVADMAKgAkABMA//8CABEAHAAXAAUAAQABAP7/EQA6AFcAMQDy/8r/2//t/8r/n/+f/57/gP9z/6P/5f/j/6f/lv/Q/woABwDk/8z/uf+V/27/ZP9y/47/p//H//7/GAAkACUAKAAqADEAOAA0ABAA9P8JADMANQAsADAAQwBFADkALwA8AD8ALgApAEcAUwA1ABUAMwBoAGkAOAAvAGsAkQBXAAcA4P/j/+7/6v/5/yQANAAkACUARABHACQA+f8AABwAJgD3/87/3v8BAO7/rv+S/8X/8v/a/5//lf/M//X/4P+3/6L/rv+w/5//j/+P/3r/YP9f/3z/tf/X/8//uP+r/7j/0f/k/9v/1f/d//T/7//b/+T/FwBHAC8A4v/b/ygAbQBMABMAJQBgAFYAFADq/wYAOABCACQAKwBMAFYAPwArABIAEgAcABwAFQAVAAcA8//j/+n/AwASAAgABQAFAAcABAASADIAMwAIAO7///8rADIAEQD5/xQANAAvABcALgBXAGoAUAA8AEAAPwAbAP///v/6/9z/xv/B/8z/xP+p/6T/tv++/77/uv+j/5b/lP+d/63/qf+m/77/6f/+/wMAGQAzADMAIgAaADMALgALAOf/6P/2//D/3P/b//T/BADv/8P/rf/C/+H/4P/C/8L/2f/4/w8AHAAhACgAKgAdABUALgBQAEgAIAAVADEAVABBABcAFQBFAFcASgAzAEQAZwBsAFQAVwBdAEwALgAUAAUAFgArACMA+v/R/97/CQAXAPj/2P/T/87/p/+H/4b/hP95/2z/l//e//v/5v/W//T/EwD+/9X/5P8QABgA8f/Q/9X/9f8MABQAIgAbAAsADQAfABIA8f/S/9z/9f/w/+T/7/8FABIABADx//H/9//g/8H/0v8XAFoAaQBhAGMAaABYAD0ATAB1AH8APQAUADQAZgB9AHcAaQBmAFQAQQBPAIwAtQCeAF4ASwBhAGEAEwDE/63/wP+//47/Yf9Y/2//kv+Q/2r/UP9v/6f/1P/R/7j/xP/0/wkA9f/T/9b//P8KAOP/wv/h/xkAEQDU/7L/2P/4/9j/oP+Y/6n/sP+v/8b/9/8RAAoABAAJABEA/P/g/8r/0//l//f///8XAEEAbAB4AG0AXABZAGwAegB8AH8AggCHAHEAVQBeAG8AYABcAF8AcABwAGoAdwCUAHUAOgAZAB4AEADW/5r/q//i/+D/sf+n/77/0P+q/4T/iv+4/+b/8//T/7T/rf+n/5H/f/+X/8X/2v++/6H/zv8LABgA7P/S//z/KgAbAOT/xf/g//P/8P/l/+v/AAAUAAEA2f/C/83/2//g/9b/wP+y/8v/6/8AABQAIwAsADUAJgAeACwAPwA+ADgAPgBVAGYAYQBXAG0AkACmAIsAXwAyACgAJgAjAB8AGwD6/87/uv/Q//H/7//U/8n/3v/8/woABwDz/8v/oP+I/4r/kP+i/7//2v/2//n/CQARABQAEgAfACsAKAAAAOj/+f8FAPf/7//q/+X/1v/P/87/0P+//6z/vP/Y/87/ov+O/73/+P/+/+X/8v8eACsACwD8//v/+f/s//L/JQBeAF4ASgBgAJMAowCKAGYAfQCfAJ4AXQA0AEQAZABGAAMA6f8TACcACwDa/9H/7v/6/+3/6f/3//z/4v/D/8P/0f+5/47/fv+k/+j/AgDx/+H/6v8AAAoA/P/i/+H/6//v/9r/x//R//T/CADj/6X/o//U//P/0P+k/67/zP/F/6z/pP+7/9v/4v/X/9z/5P/i/+b/7f/m//X/DgAoADMAOQA0ADYAPgBMAF8AbgBtAHYAegB6AGsAbAB7AH4AWgAuAB0AOQBMAEEAIAAeACUAHQAFAAcAHQAvACUAIgAsACkACQDr/+//AAAAAPP/6P/x//P/5f/i//X/AAD3/9z/vP+2/8H/x//M/8j/x//I/9P/3v/p/+//4P/D/7f/xP/X/8T/pf+c/6T/nv+I/4X/n/+8/7f/o/+h/7r/1//f/+H/4f/z//3/BwAoAFAAYABTAEwAWgBvAH8AdwBWADEANABEAEsANAAkACkAOAAmABgAJgBBAEQALgAhAD8AUAAvAAcACgAlADoANQAsACwAKwAqADkAQAA2ACMAGAAMAPv/2//H/7X/sP+2/9X/+f///+j/0P/O/8r/sf+Q/5j/uP/B/6H/lP+w/9v/6P/X/9r/8/8AAPT/7//v//v/AAACABAAEAAJAA8AHwAxADEAIwAVABcAFAAEAP//IwBSAGMAUwBIAEsASAAxACEAHQAYAOn/vv/a/xkAOwAyAB0AGwAdABwAIQBGAGAATgAlACQAQQBGAA8A0f/N/+P/1/+n/4r/pf/T/+X/x/+g/5v/yP/w/+v/zv/C/9L/6P/c/8f/xP/T/9j/1f/c/+///f/3/9T/xv/X//n/AADu/9b/2//i/+X/+/8fADQAKwATABwAMAAtAAAA4v/k//n//f/4/wAAIgBDAFQATgA+ADgAPQBJAEAAHwAYADUAYABkAEAAMQBcAGgATAAyAFAAdgB4AFUAUgBgAEsAGwD5//P/8P/K/7D/zP/u/+z/4f/Y/93/x/+c/4X/pP/S/9r/v/+q/7f/xv+1/5X/nf+//8r/s/+U/7X/7v///+n/1P/z/ysAOgAYAPH//f8YABsAAAD0/wgAIwAJAND/vv/q/woA/v/Z/87/3v/z//3/BwAYABoA///3/wAAEgAeACYAJwAqAC8APgBUAFsASQBFAFoAdwBnADwAHgAwAD4AJQD9//r/AAD4/+T/4//y/+z/0v/M/+T//P/7/+j/2P/F/6z/kP+H/43/p//J/+D/7//p//D//v8OAA8AEQASABcACwADAAsADgAAAPn/9P/5//v///8BAAAA6v/W/97/9P/p/8b/tf/Z/wUABgDt//j/HgAoAAYA8f/0/wAAAAD9/xkAQgBLAEEASwBtAIEAfQBkAG4AfAB3AEQAHgAhAD4ANwAUAPr/BQARABIAAQD7/wEACgANAAwAAADu/9n/zf/F/7j/nv+O/5L/qP/L/+D/5f/b/8//3P/4/wEA7f/Z/9v/8//0/9r/zf/o/w8ACADd/87/6P///+j/y//H/9L/zP/C/8L/0//s//f/9f/x/+v/7v/6//n/5//o//j/DwAbACIAJQAyADsARgBPAFUAVgBgAGEAXQBRAFEAWABYAD8AJQAdADIAPwA/ADAAKgAZAAwACAAWAB0AEwACAAoAFwAQAPX/6P/1/wEA9//g/9v/6//u/+T/4P/p//T/8f/g/9T/1f/S/9H/2f/k/+r/5P/f/+j///8GAPH/1//W/+r/9P/c/8//2f/f/8P/oP+j/8X/1f++/6b/s//Y/+v/4P/V/97/9f/7/wAAEgAtADgANQA2AD4ASwBUAE0AOwAmACoAMQAyACkALgA3ADQAGQATACYAOgAvABYAEAApACkACgDz//7/DQASAAUABAANAAkAAQALABcAFwAJAAAA+//w/9r/0P/M/9D/0v/i//v/CAAAAPH/6//l/9j/w//F/9f/3P/N/8b/1v/y//r/6f/k//T/BAD8/+7/5f/0/wcAFAAaABQAEQAdACwAOgA9ADYAKAAiABwAFAAQACYAQQBSAFEATABGAD4AMQAwAC4AHwD3/9j/5v8LACAAHgAWABYAEAAKAAkAIAAtABwA//8DAB0AHwDx/8D/w//f/9n/sP+W/67/1//j/8X/q/+1/93/8P/d/8f/z//m//D/4v/Z/+H/6P/f/9n/6/8CAPz/4f/G/8n/3P/u//X/+P/w/+z/7f/5/xIAJwAkABkAEQAhADAAKAABAO//+f8MAAwAAAAEACgASgBUAEgAPgBCAEUAOwAtABcAFAAjADcAOwAsAB4ANgBCAC0AEAAaADUAPQAkABYAJgArABUA/P/r/+j/2f/H/8z/4P/n/+L/2P/Y/9H/vf+p/7T/0f/d/9X/z//Z/+L/1P+7/8H/3v/l/8//tP/N//z/AADp/97/AQAwADYAFwD8/wYAFAALAPj/9f8FABAA+f/a/97/BQAYAAgA7//u/wEAFQAYAB0AJgAsABkADQATACIAJQAgABsAIwAuADYAPQBCADsANAA2AD8ANAAfAA8AGgAhAA4A7v/x/wAAAADw/+j/8f/y/+D/2f/p//f/8f/g/9r/1v/I/63/ov+s/8X/3P/k/+3/8//9/wMABwAAAPj/9f/9//7/+//8////+P/z/+3/7//y//f/8//r/+H/3f/j/+r/5f/a/9r/7f8CAAMA/f8NACcAKwARAAIABAAQABQAEAAfADkARgBEAEUAVgBjAGUAUQBOAFAATgAxABUAFQAqACsAFgAAAAkAGgAgABEAAgABAAgACgAFAPf/6P/c/9X/zv/C/7D/p/+u/8L/2//p/+3/6//m/+j/8P/v/+H/1v/Y/+j/6v/c/9f/6f8AAPz/4f/a/+n/8//e/8f/xf/T/9T/zP/L/93/+f8EAP//+v/6/wIACQACAPH/7//6/w4AGQAgACQAMQA7AEQASABJAEYARQA+ADsAOAA8AEAAPQAwACQAIgAvADkAPQA3ADAAHwAUABAAGAAbABAAAAACAAgABgD6//T//P8AAPb/5P/i/+z/6v/d/9f/2v/i/9//1//V/9v/2v/a/+D/5//s/+n/5f/r//X/9v/m/9v/3P/n/+z/4P/e/+X/5v/T/8D/w//Z/+H/1P/L/9j/9f8AAPv/9////wwADQAMABcAJwAtACoAKgAuADYAPwA/ADYAJgAjACUAKQAqADAAMAAoABgAGAAlAC0AIAAPAA0AGwAYAAUA+f8BAAoACQD8//r//v/4//D/9f/8//z/9P/v/+//7P/e/9X/0//W/9j/5P/2/wIAAQD1/+7/6v/i/9X/0//a/9n/zv/L/9f/6v/x/+n/6P/w//v/+P/1//L//P8IABAAEwANAA4AHQAqADIAMQArACIAHwAeAB0AHgArADgAQgBHAEsATABHADwANQAsAB8ABgD1//z/DgAZABoAHQAiAB0AFwATABoAGgAIAPL/9f8DAAIA5//K/9D/3//Z/8H/tv/H/97/4f/R/8X/zP/g/+n/4v/c/+L/6//t/+j/5f/m/+T/3f/b/+T/7v/l/9b/yf/M/9b/4v/v//b/7//p/+//AAAVABsAEAALAA0AHAAlACAABwD7/wEAFQAgAB4AHAAxAEsAVABFADUAOQBDADYAGwABAAkAJQA2ADAAIwAhADcAOAAiAAwAFgAmAB8ABQD//xIAGgAIAPX/7v/2/+//3P/Y/+r/9f/t/9v/1v/Z/9X/xf/F/9n/5//k/93/5f/s/9//x//D/9b/3v/R/7r/x//q//T/6//o/wEAIQAnABgABgAIAAsAAwD6//n//v8BAPj/7//4/xIAIAAZAAoACAAUACQAIwAaABQAGQARAAkACQAUAB0AHAAWABsAJgAwADMAMgAoAB4AGAAVAA4ABwAGAA8AEwAJAPv/AQAOAA4AAQD2//T/8//p/+T/6P/t/+v/5//p/+j/4f/O/8b/yv/Y/+L/4f/i/+j/8P/z//L/7f/t//P/+//8//j/+v/+//3/+f/z//P/9//9/////f/5//f/+f/6//b/8//2//7/BQAEAAQAEwAgABsACAABAAUACgALAAYAEQAhACoAJwAmAC0ANAA2AC4ALgAtACsAGwANABEAHwAeABQACQAQABoAHgAVAAoABwAIAAcAAgD5/+7/6f/m/+H/1//O/8z/0//b/+T/6P/q/+v/6P/p/+7/7f/p/+f/6//0//L/6f/q//T/AAD9//T/9P/6//j/6//j/+X/7f/s/+f/6f/x/wEACAAGAAAA/v8FAA0ACQD9//z/BAAPABEAEgAVACEAJAAlACcAKQApACYAHgAeACEAJAAmACMAHwAbABYAGAAcACEAHgAXAAsABQAFAAYAAwD8//j/+//6//j/9v/2//n/9//w/+r/6//s/+b/4f/j/+X/6P/o/+r/8v/2//P/8v/2//z//P/2//L/9//8//j/7v/p/+7/8//x/+v/8f/7//j/6P/d/+P/8P/u/+X/5f/0/wQACgAHAAkAEAAUAA8AEAAVABsAFgAUABkAHgAiACYAKgAqACMAIAAcABsAGgAdABsAFAAKAA0AFAATAAYA/v8AAAkAAADw/+3/9//6//T/6//t//L/7f/p/+7/9v/4//T/8//5//z/9P/v/+3/8f/y//j/AQAKAAkA///3//X/9P/t/+r/7f/t/+v/6f/u//j/+//0//H/9f/+//z/+//6/wQADwATABUAEgAWABsAHAAcABwAGwAXABQAEwAWABgAIAAoADAANAAzACwAJAAdABkAFAANAAEA+P/7/wAABAAEAAYACQACAPz/+f/6//X/6f/g/+f/8v/w/+T/3P/n//H/6f/e/97/6//z//L/7f/y//v/AQD+//j/+P///wAA+//3//j/9f/s/+f/7P/2//n/6v/e/93/5P/n/+j/9P8BAAIA/f8DABEAHgAbAAoACgAVACEAHwAaABEAEQAYAB4AIAAfABwAKgA4ADYAKQAfACMAJQARAPz/9f8AAAsABQAAAAIABAAEAP7/9v/z//H/8v/x//L/9P/+/wUABQAAAPj/+f/6//b/7//w//T/9f/w/+7/7v/y/+v/4//r//n////7//b/8//w/+X/3f/l/+r/5v/c/+H/9/8AAPr/9v8FABoAGgAMAAEABQAMAAYA/f8AAAcADAAIAA4AHQArACcAGwAUABkAGwAbABQADwAMAA4ACwAFAAcADAANAAMA+//9/wQABwAGAAQAAwD///j/9//4//3/AAACAAQAAwD+/wMABwABAPj/8f/0//v/9//w/+//9P/5//r/+v/4//f/8P/t/+v/7f/w/+7/8f/8/wYABQD+//f/9//6//r/+P/5/wAABQABAP7//v8AAAEAAQD///7/AQAHAAoACQAGAAkADgAMAAgABAAFAA8AEwAOAAMAAAABAAIAAgD//wQADQASAA4ACgAKAA8AEgAKAAcABwALAAkAAQADAAsACQABAP3/BQALAAkAAAD5//3/AQD///j/8v/u//L/8//y/+7/7P/r/+//9P/6//7///8BAP//AAD///v/9v/4//v/AAD8//X/+f8AAAQAAAD6//3/AAD9//X/9P/7////+v/2//3/BAAMAAgAAgACAAQACAAIAAUAAAACAAkAEQAQAA0ACQAOABMAFQAWABMAEQAOAAgABgAHAAgACAAHAAUABAAAAP//AAACAAAA/f/4//b/+f/6//j/8//y//f/+P/5//n/+//9//3/+//5//r/+//1//L/9P/0//f/9//5//7/AAAAAAAAAAD+//z/+P/4//z//f/8//j/+P/6//n/+f/3//z/AAAAAPz//v8EAAoABAAAAAIADgAUABMADwAPAA0ACgAFAAgADAALAAQAAQAJAAwACgAIAAoADgAHAAQAAgAFAAYABQAAAAAAAQADAAIA+//z//X/+P/6//X/7//1/wAAAAD7//v/AAAHAAMA+//8/wAA/v/5//f//P8FAAAA+f/1//n//f/+//7/AAADAAAA+//5//v//f/6//n//f8CAAUABwAIAAoABwAIAAgADgALAAoACwASABwAGwAVABAADgAOAAcAAQABAAIAAgABAAMABwAGAAYACQALAAkABAD///7//v/7//n/+P/3//T/9P/4//r/+f/3//r/+v/6//j/9v/0//P/8v/2//n/9v/y//H/9//+//j/8v/1////AgAAAP7/AgAHAAcA///5//v/AgAFAAIAAAAAAAAA/v/6////AgAFAP7/9//7/wQACAADAAQADgAUABIAEwAZABoAEgAAAP//DQAVAA0AAgAFABAAGAATAAoADAAOABEADwAIAAYACgAMAAkA/f/0//X/+f/5//X/9f/9/////P/6//n//P/4//b/+P/7//3//v8AAAAAAAD+//3/+f/2/+//7f/w//X/9//4//f/+P/2//D/8v/8/wEAAAD6//j/+//9//X/8//z//X/9//5/wIACwANAAoADQAUABIACgADAAUADAALAAMABAAIAAwACgAOABUAGgASAAYAAgAHAAYAAQD8//z//f/9//3/+v8AAAQABAD8//X/+f/9//3/+v/7/wAAAQD9//z//v8CAAAA/v///wMAAwACAAAA/f/7//r/+v/9//3//P/8//3//v/9//3/+//+//7///////z/+//7//7/BAALAAgAAQD9//7//v/8//n/+/8BAAYAAwABAAUACQAIAAMA//8AAAUACAAIAAgACQANAA4ABwAAAP//AAADAAMAAAD9/wAAAwD//////f8AAAQABQADAAIAAgACAAQAAAD+//3/AAABAP7///8DAAMAAAD+/wQABwADAP3/+v8AAAUAAAD4//X/9//+/////f/9//7////+/wAAAQAEAAIAAwACAAEA///8//r//f/9//7//P/7/wAABgAGAAIA/v8AAAEA///5//n/AAAEAAAA/P8DAAsADAAEAP7/BAAIAAYAAAD//wAABQAIAAkACAAFAAAAAgAGAAUABAABAAAAAQD9//v//P///wAA///+/wAAAAAAAAAAAQAAAPz/+//8////AAD9//v//P8BAAIAAQD//wAAAAD+//v/+v/7//3/+f/4//r/+f/7//v//P///wAAAAAAAAEAAAD+//z//P///wAAAAABAAMABQADAAQAAQACAAQABAAEAAcACQALAAcABAAGAAsADAAIAAQAAwACAAEA/v/+/wEAAAAAAP7/BQAIAAMAAgADAAcAAwAAAAAAAwADAAAA/f///wIAAgAAAPr/9//7//3//P/8//z/AAAGAAUAAAAAAAMABQACAPz/+//8//r/9v/4//3/BQAAAPv/+////wIAAAD//wAABAAEAAAAAAADAAYAAwAAAAIACAALAAsACAAKAAoADAAKAAoABgAFAAQABgALAAkABAAAAAAAAAD9//f/+f/8//////8AAAMABQAEAAQAAwABAP//+//7//3//f/8//z//v//////AAAAAAAA/v8AAAAA/v/9//r/+f/6//j/+P/4//X/9P/3//r//v/7//j/+v8AAAEA///8////AQAAAPz/+////wQABgAEAAMABAAFAAMA//8BAAMABQADAAEABgANAA4ABwAEAAcADAALAAgACgAIAAIA+//7/wcACwACAPz/AgANABEACgACAAgACgAHAAIA//8CAAkACAADAP3/+////wAA/v/6//v/AAABAP7//f/+/wAA/f/5//r/+v/6//j/+f/6//3//P/6//b/9v/y//H/8f/0//j/+//8//v//v/8//z/AAABAAAA/P/7/wAAAwD///7///8AAAQAAwAIAA4AEAAMAAoACwAJAAUAAAAAAAUABQAAAAEABAAHAAYACAAKAAoABAD9//v/AQAAAPz/+v/8/wAAAAABAAEABAAGAAUAAAD+/wAAAAD///z//f8BAAMAAAAAAAIAAwAAAP7//v8CAAIA///9//z/+//8//r//P/+//7/AAAAAAAA//////7/AAABAAIAAAD+//3///8BAAQABQADAAAAAAAAAP///P/8////AQACAAAAAQAGAAkABgABAAAAAQADAAMAAgADAAUABwAHAAIA//8AAAAAAQABAAAAAQADAAcAAgACAAIAAwAFAAMAAQABAAEAAAABAAAAAAAAAP//AQAAAAAAAAABAAAA/f8AAAAA/P/5//j//f8AAPv/9v/4//v/AAAAAP7//v///////f//////AAD9//7//v/9//z//P/8//////////////8CAAUABAACAAAAAAAAAP///f/+/wIAAwABAAAABgAJAAgAAwAAAAQABwAEAAAAAAADAAUABwAGAAUAAwAAAAAAAwABAAIAAAAAAAEAAAD//wAAAgACAAAAAAAAAAAAAAAAAP/////8//3///8AAAAA/v/9//7/AAAAAAAA/v/+//3/+//5//n/+//9//z/+/////7///8AAAAAAAABAAAAAAABAAAAAAD+//7/AAAAAAIAAgAEAAYABQAEAAEAAQACAAMAAwAFAAcACQAHAAUABwAJAAgABAACAAEAAAAAAP///v8BAAEABAADAAkACwAGAAUABAAHAAMAAQAAAAEAAAD+//3/AAADAAMAAQAAAP//AQABAAAAAAAAAAEABAACAAAAAAAAAAIAAAD+//z//P/6//f/+//+/wIAAAD8////AAACAAEAAAABAAMAAwABAAEAAwADAAEAAAAAAAMABQAEAAIABAAFAAUABAADAAAA//8AAAAAAgAAAP3//v/+/////v/6//7/AAADAAIAAwAFAAYABQAFAAMAAAD+//v//P/+//7////+/wAAAAAAAAEAAAD///3//f/9//v/+//6//n/+//7//v//P/7//z//v///wAA/v/8//7/AQACAAAAAAABAAEAAAD+////AQACAAMAAQACAAMAAQAAAP//AAABAAEAAgACAAYACQAJAAQAAgADAAUABAADAAUAAwAAAP7/AAAJAAkAAwAAAAUACgALAAYAAgAGAAYAAgAAAP//AQAFAAQAAgD///7/AAAAAP3/+//7///////9//7//v8BAP///f/+//3//P/5//v//P/+//3//P/5//r/+f/6//r//P///wAAAAAAAAEA/////wAAAAAAAP3//P8AAAMAAQACAAMAAgAEAAMABwAKAAkABAAEAAQABAABAAAAAAADAAQAAAADAAQABgAFAAUABgAFAAAA/f/9/wEAAQD/////AQAEAAMABQAEAAUABgADAAAA//8AAAAA///+////AwADAAIAAwAEAAMAAAD/////AgABAP///v/9//z//v/9////AAAAAAEAAgABAAAA///+/wAAAAAAAAAA/f/9////AAABAAEAAAD+////AAD+//z//P///wEAAgAAAAIABQAIAAQAAAAAAAEAAAAAAP//AAACAAMABQABAAAAAgACAAIAAgACAAMABAAHAAEAAgACAAIAAwACAAAAAAABAAIAAgACAAIAAQAAAAEAAAAAAAAAAAAAAP3/AAAAAP3//f/9/wAAAQD+//v//v///wAAAAD+//////////3//////////f/9//7//v/9//7//v8AAP///v/+/wAAAAADAAAAAQAAAAAAAAD/////AAABAAAAAAAAAAQABgADAAEA//8CAAQAAQD//wAAAQADAAMAAgABAAEAAAAAAAIAAAABAAEAAQADAAEAAAABAAMAAQAAAAAAAQABAAEAAQAAAAEA//8BAAIAAgABAP///////wAAAAAAAP7///////7//f/+////AAAAAAAAAgABAAAAAQAAAAAAAAAAAAAAAgABAAEAAAAAAAAAAAABAAEAAQACAAIAAgAAAAAAAQACAAEAAwADAAQAAwABAAEAAwABAP////8AAAAAAQAAAAAAAwADAAYABAAFAAcAAQAAAAAAAQAAAAAAAAABAAAAAAAAAAIABAACAAEAAQAAAAIAAQAAAAAAAQABAAIAAQAAAAAAAAAAAAAAAAD//////v/8/wAAAAAEAAEAAAACAAQABAACAAAAAAACAAIAAAAAAAIAAgABAAAAAAACAAIAAQD//wAAAgACAAAAAAD9//3//v///wAAAAD//wAAAQACAAEAAAABAAIAAwABAAEAAgACAAEAAQAAAP7//f/8//3/AAD//wAAAAABAAEAAAAAAP7//v/7//3//v/9//7//////wAAAAD//wAA/v///wAAAAAAAP////8AAAEAAQAAAAAAAgAAAAAA/v8AAAAAAAAAAAAAAQACAAEAAAAAAAAAAAAAAAIAAgAEAAUABAABAAAAAAABAAIAAQADAAIAAQACAAMACAAGAAAAAAADAAUAAwABAAAAAwADAP////8AAAEAAwAAAP//AAD//wAAAAD+//7//v8AAAAA//8AAP//AQAAAP//AAD+//3/+//8//3////+/////f8AAAAAAAD//wAAAQACAAIAAAABAAEAAAABAAAAAAD///7/AQADAAMAAwADAAIAAwACAAMAAwACAAAAAAABAAAAAAAAAAAAAgADAAAAAQACAAMAAgABAAEAAQAAAP////8DAAMAAAABAAIABgADAAMAAgAAAAEAAAAAAP//AQABAAAAAAAAAAMABAACAAIAAgABAP7//v/+/wAAAAD//wAAAAAAAAAA//8AAAIAAQABAAEAAAD///7//v8AAAEAAAAAAP////8AAAEAAAAAAAAA//8AAAAAAAD//wAAAgACAAIAAQADAAQABQABAAAAAAABAAAA/////wEABAADAAMAAwACAAMAAgAAAAAAAQACAAEABAAAAAEAAgACAAIAAAD/////AAAAAAEAAQABAAEA//8AAAAA//8AAP//AAD+////AAD+////AAABAAEA///9/wAAAAAAAAAA/v//////AAD+////AAAAAP3//v8AAAAAAAAAAAAAAgABAAAAAAAAAAAAAgAAAAAAAAAAAAEAAAAAAAAAAgABAAAAAgAEAAUAAQAAAP//AQADAAAA/v///wIAAgACAAEAAQACAAEAAAACAAAAAAABAAAAAQABAAAAAAACAAAAAAAAAAEAAQAAAAEA//8BAAAAAQACAAEAAAD+/wAA//8AAAAAAAAAAAAAAAAAAP//AAAAAAAAAQAAAAIAAwABAAEAAAAAAAAAAAAAAAIAAQABAAEAAAABAAEAAAAAAAEAAQABAAIAAQABAAIAAwABAAMAAgACAAEAAAAAAAAAAAD+/wAAAQACAAEAAgAAAAMAAgADAAIAAQAEAAAA///+/wAAAAAAAAAAAgAAAAAAAAABAAMAAQAAAAAAAAAAAAAAAAAAAAEAAAAAAAAAAAAAAAAAAAAAAAAAAAAAAAAA//8CAAIABAACAAAAAwADAAMAAAAAAAAAAQABAAAAAAABAAIAAQABAAAAAgABAAAA/v8AAAEAAQAAAAAA/////wAAAAABAAAAAAABAAMAAgADAAAAAgABAAIAAAD//wEAAAAAAAAAAAD+//7//v/+/wAAAAAAAAAAAQABAP//AAD9//7//P/+/wAA/v8AAAAAAAAAAAAA//8AAP////8AAAAAAAAAAAAAAAABAAAAAAAAAAEAAAD/////AAAAAAAAAAAAAAIAAwABAAEAAAAAAAAAAAACAAIAAwAEAAIAAQAAAAAAAAACAAEAAQABAAEAAwADAAUAAwAAAP//AQACAAAAAAAAAAIAAwD/////AQABAAEAAAD+/wAAAAAAAAAA//8AAAAAAAAAAAAAAAD//wAAAAAAAAAA///+//3//v///wAAAAAAAAAAAQACAAEAAAAAAAEAAQACAAAAAAACAAAAAQAAAAAAAAAAAAEAAwADAAIAAgABAAEAAQAAAAAAAAAAAAAAAQAAAAAAAAABAAIAAgAAAAAAAgACAAEAAAAAAAEAAAAAAAAAAwAEAAAAAQACAAQAAQAAAAEA//8AAP//AAAAAAEAAgAAAAAAAAABAAIAAQABAAEAAAD+//////8AAAEAAAAAAAIAAQABAAAAAAACAAEAAAABAAAA////////AAACAAAAAAAAAAAAAQABAAAA//8AAAAAAAABAAEAAQACAAMAAgACAAEAAgACAAIAAAAAAAAAAwAAAAAAAAACAAQAAgABAAMAAgACAAEAAAAAAAAAAgAAAAIAAQAAAAMAAQABAAAA/////wAAAAAAAAEAAAABAAAAAAAAAP//AAD//wAA/////wEA//8AAAAAAAABAP///v8AAAAAAAAAAP7/AAAAAAAA//8AAAAAAAD/////AAABAAAAAQAAAAEAAQAAAAAAAAAAAAEAAAAAAAEAAAABAAEAAQABAAEAAAAAAAEAAgACAAAAAAAAAAAAAgAAAP//AAACAAIAAQAAAAEAAgACAAAAAQAAAAAAAQAAAAAAAAAAAAEAAgAAAAAAAAACAAEAAAABAAAAAQAAAAAAAQAAAAAA/v8AAP//AAAAAAAAAAAAAAAAAAAAAAEAAQAAAAEAAAABAAIAAAABAAAAAAAAAAAAAAABAAEAAAAAAAAAAQABAAAAAAAAAAEAAQABAAAAAAABAAIAAAACAAEAAQABAAAAAAAAAAAA//8AAAIAAgABAAIAAAACAAEAAgABAAAAAwD//wAA//8AAAAAAAABAAIAAAAAAAAAAAACAAAAAAABAAAAAAAAAAAAAAABAAAAAAAAAAAAAAAAAAAAAAAAAAAAAAABAAAAAgABAAIAAAAAAAEAAgABAAAAAAAAAAEAAQAAAAAAAQABAAAAAQAAAAEAAAAAAP3/AAAAAAAAAAAAAAAAAAAAAAAAAAAAAAAAAAACAAEAAgAAAAEAAQABAAAA//8AAAAAAAAAAAAAAAD//wAA//8BAAAAAAAAAAAAAQD//wAA/v////7///8AAP//AAABAAAAAAAAAAAAAAAAAP//AAAAAAAAAAAAAAAAAQAAAAAAAAABAAAAAAAAAAEAAAAAAAAAAQABAAIAAQABAAAAAAAAAAAAAgABAAIAAgABAAAAAAAAAAAAAgAAAAAAAAABAAIAAgADAAIAAAAAAAEAAQAAAAAAAAACAAMA//8AAAEAAAAAAP////8AAAAAAAAAAAAAAAAAAAAAAAAAAAAA//8AAAAAAAAAAAAA///+////AAAAAAAAAAAAAAEAAgACAAAAAQABAAAAAQAAAAAAAgAAAAAAAAAAAAAAAAAAAAIAAQAAAAEAAAABAAEAAAAAAAAAAAAAAAEAAAAAAAAAAQABAAIAAAAAAAEAAQAAAAAAAAABAAEAAQAAAAEAAwD//wAAAQADAAEAAAABAP//AAD//wAAAAABAAEAAAAAAAAAAQACAAEAAAABAAAA/////wAAAAABAAAAAAACAAEAAAAAAAAAAgABAAAAAQAAAAAA//8AAAAAAgAAAAAAAAAAAAEAAQAAAAAAAAAAAAAAAQACAAEAAgACAAEAAQABAAEAAQABAAAAAAABAAMAAAAAAAEAAgADAAAAAAACAAEAAQABAP//AAAAAAIAAAACAAEAAAACAAEAAAAAAP////8AAAEAAAABAAAAAQAAAAAAAQD//wAA//8BAAAAAAACAAAAAAAAAAAAAAAAAP//AAABAAAAAAD//wAAAAAAAAAAAAAAAAEAAAAAAAEAAQAAAAEAAAABAAEAAAAAAAAAAAAAAAAAAAABAAAAAQABAAEAAAAAAAAAAAABAAEAAgAAAAAAAAAAAAIAAAD//wAAAgABAAEAAAABAAEAAQAAAAEAAAAAAAEAAAAAAAAAAAAAAAIAAAAAAAAAAgABAAAAAQAAAAEAAAAAAAEAAAD///7//////wAAAAAAAAAAAAAAAAAAAAAAAAEAAAABAAAAAQACAAAAAQAAAAAAAAAAAAAAAQAAAAAAAAAAAAAAAAAAAAAAAAAAAAAAAQAAAAAAAQABAAAAAQAAAAEAAAAAAAAAAAAAAAAAAQACAAEAAQACAP//AgABAAEAAQAAAAMA//8AAAAAAQAAAAEAAQACAAAAAAAAAAAAAQAAAAAAAQAAAAAAAAAAAAEAAQAAAAAAAAAAAAAAAAAAAAEAAAAAAAAAAQAAAAIAAQACAAAA//8BAAEAAQAAAAAAAAABAAAAAAAAAAEAAAAAAAAAAAABAAAAAAD+/wAAAAABAAAAAAAAAAAAAAAAAAAAAAD//wAAAQAAAAIAAAABAAAAAAAAAP//AQAAAAAAAAAAAAAAAAAAAAAAAgAAAAAAAAABAAEAAAABAP//AAD//wAAAQD//wAAAQAAAAAAAAAAAAAAAAAAAAEAAAAAAAAAAAAAAAAAAAAAAAAAAQAAAAAAAAABAAAAAAAAAAEAAQACAAAAAQAAAAAAAAAAAAIAAQABAAEAAAAAAAAAAAAAAAIAAAAAAAAAAAACAAIAAgABAAAAAAABAAEAAAAAAAEAAQACAP//AAABAAAAAAD/////AAAAAAAAAAAAAAAAAQAAAAEAAAAAAP//AAAAAAAAAAAAAP///v8AAAAAAAAAAAAAAAABAAEAAQABAAAAAQAAAAEAAAAAAAEAAAAAAAAAAAAAAAAAAAABAAEAAAAAAAAAAAAAAAAAAAAAAAAAAAAAAAAAAAAAAAEAAAABAAAAAAABAAAAAAAAAAAAAQABAAEAAAAAAAIA//8AAAEAAgABAP//AQD//wAA//8AAAEAAQABAAEAAAAAAAAAAQABAAAAAQABAAAAAAAAAAAAAQAAAAAAAgABAAAAAAAAAAEAAQAAAAAAAAAAAAAAAAAAAAIAAAAAAAAAAAABAAEAAAAAAAEAAAAAAAEAAgABAAEAAgAAAAEAAAABAAAAAAAAAAAAAQACAAAAAAAAAAEAAgAAAP//AQABAAEAAQD//wEAAAABAAAAAAACAAAAAQAAAAAAAAAAAP//AAABAAAAAgAAAAEAAAAAAAEA//8AAP//AQAAAP//AgAAAAAAAQAAAAAAAAD//wAAAQAAAAAA//8AAAAAAAAAAAAAAAABAAAAAAABAAEAAAAAAAAAAAAAAAAAAAAAAAAAAAAAAAAAAQAAAAEAAQAAAAAAAAAAAAAAAQAAAAEAAAAAAAAAAAACAAAAAAAAAAIAAQAAAAAAAQABAAEAAAAAAAAAAAABAAAAAAAAAAAAAAABAAAAAAAAAAIAAQAAAAEAAAABAAAAAAABAAAA///+/wAA//8AAAAAAAAAAAAAAQAAAAAAAAABAAAAAQAAAAEAAgAAAAEAAAAAAAAAAAAAAAEAAQAAAAAAAAAAAAEAAAAAAAAAAAAAAAEAAAAAAAEAAQAAAAEAAAAAAAEAAAAAAAAAAAAAAAEAAgABAAAAAgD+/wEAAQABAAEAAAACAP//AAAAAAAAAAABAAAAAQAAAAAAAAAAAAEAAAABAAEAAAAAAAAAAAABAAAAAAABAAEAAAAAAAAAAQABAAAAAAAAAAEAAAABAAAAAgAAAP//AAABAAEAAQAAAAAAAQAAAAAAAQABAAEAAAABAAAAAQAAAAAA/v8AAAAAAQAAAAEAAAAAAAAAAAAAAAAA//8BAAEAAAABAAAAAQAAAAEAAAD//wEAAAAAAAAAAAAAAAAA//8AAAIAAAABAAAAAQABAAAAAQD//wAA//8AAAEA//8BAAIAAAABAAAAAAAAAAAAAAABAAAAAAAAAAAAAAABAAAAAAAAAAEAAAAAAAAAAQABAAAAAAABAAEAAQAAAAAAAAABAAAAAAACAAEAAQABAAAAAAAAAAAAAAACAAAAAQAAAAAAAgABAAIAAQAAAAAAAQAAAAAAAAAAAAEAAgD//wAAAQAAAAAAAAD//wAAAAAAAAEAAAAAAAAAAQABAAAAAAAAAAEAAAAAAAEAAAD///7///8AAAAAAAAAAAAAAAABAAEAAAAAAAEAAAABAP//AAABAAAAAQABAAAAAAAAAAAAAgAAAAAAAAAAAAAAAAAAAAEAAAAAAAAAAQAAAAAAAQABAAAAAQAAAAAAAQAAAAAAAQAAAAAAAQABAAAAAQABAP//AQABAAIAAAAAAAEA/v8AAAAAAQAAAAEAAQAAAAAAAAABAAEAAAAAAAIAAQAAAAAAAAAAAAEAAAAAAAIAAQAAAAAAAAABAAAAAAABAAAAAAAAAAAAAAACAAAAAAAAAAAAAQABAAAAAAABAAAAAAABAAIAAQABAAEAAAAAAAAAAAAAAAAAAAAAAAEAAgAAAP//AAABAAEAAAAAAAEAAAAAAAEAAAAAAAAAAQAAAAEAAQAAAAEAAQAAAAAAAAD//wAAAQAAAAEAAAABAAAAAAACAAAAAAD//wEAAAD//wIAAAAAAAEAAAAAAAAAAAAAAAEAAAAAAAAAAAAAAAAAAAAAAAAAAAAAAAAAAQABAAAAAAAAAAAAAAAAAAAAAAAAAAAAAAAAAAEAAAAAAAEAAAAAAAAAAAAAAAEAAAAAAAAAAAABAAAAAQAAAAAAAAABAAAAAAAAAAEAAQACAAAAAAABAAAAAAAAAAAAAAAAAAAAAQAAAAAAAAABAAEAAAABAP//AAAAAAAAAQAAAAAA//8AAAAAAAAAAAAAAAABAAAAAQABAAAAAQAAAAEAAAAAAAIAAAAAAAAAAAAAAAAAAAABAAEAAAAAAAAAAAABAAAAAAAAAAAAAAAAAAAAAAAAAAEAAAABAAAAAAABAAAAAAAAAAAAAAABAAEAAQAAAAEA//8AAAEAAQABAP//AgAAAAAAAAAAAAEAAQAAAAEAAAAAAAAAAAABAAAAAAABAAAAAAABAAAAAAABAAAAAAABAAAAAAAAAAAAAQAAAAAAAAABAAAAAQABAAAAAAD//wEAAQABAAAAAAAAAAAAAQAAAAAAAQABAAAAAQAAAAEAAAAAAP7/AAAAAAEAAAAAAAAAAAABAAAAAAAAAAAAAAABAAAAAgAAAAAAAAAAAAAA//8BAAAAAAAAAAAAAAAAAAAAAAACAAAAAAAAAAAAAQD//wEA//8AAP//AAABAP//AAABAAAAAAAAAAAAAAAAAAAAAQAAAAAAAAAAAAAAAAAAAAAAAAABAAAAAAAAAAEAAQAAAAAAAQABAAEAAAAAAAAAAAAAAAAAAgABAAEAAQAAAAAAAAAAAAAAAQAAAAAAAAAAAAIAAQABAAEAAAAAAAEAAAAAAAAAAAABAAEA//8AAAEAAAAAAAAAAAAAAAAAAAABAAAAAAAAAAAAAQAAAAAAAAABAAAAAAABAAAAAAD+/wAAAAAAAAAAAAAAAAAAAQABAAAAAAABAAAAAQD//wAAAQAAAAEAAAAAAAAAAAAAAAEAAAAAAAAAAAAAAAAAAAAAAAAAAAAAAAEAAAAAAAAAAQAAAAIAAAAAAAEAAAAAAAAAAAAAAAEAAQAAAAEAAgD//wEAAQACAAAAAAABAP//AAAAAAEAAAABAAEAAAAAAAAAAQABAAEAAQACAAAAAAAAAAAAAAABAAAAAAACAAEAAAAAAAAAAQAAAAAAAQAAAAAAAAAAAAAAAgAAAAAAAQAAAAEAAQAAAAAAAAAAAAAAAQACAAEAAQABAAAAAAAAAAAAAAAAAAAAAAAAAAIAAAD//wAAAQABAAAAAAABAAAAAAAAAP//AAAAAAEAAAABAAEAAAABAAAAAAAAAP////8AAAEAAAABAAAAAQAAAAAAAQAAAAAAAAABAAAAAAACAAAAAAABAAAAAAAAAAAAAQABAAAAAAAAAAAAAAAAAAAAAAAAAAAAAAAAAAEAAQAAAAAAAAAAAAAAAAAAAAAAAAAAAAAAAAABAAAAAAABAAAAAAAAAAAAAAABAAAAAAAAAAAAAAAAAAEAAAAAAAAAAQAAAAAAAAABAAAAAQD//wAAAAAAAAAAAAAAAAAAAAAAAAEAAAAAAAAAAQABAAAAAQD//wAAAAAAAAEAAAAAAP//AAAAAAAAAAAAAAAAAQAAAAEAAAAAAAEAAAABAAAAAAABAAAAAAAAAAAAAAAAAAAAAQABAAAAAAAAAAAAAQAAAAAAAAAAAAAAAAAAAAAAAAABAAAAAQAAAAAAAQAAAAAAAAAAAAAAAQACAAEAAAABAP//AQAAAAEAAQAAAAIA/////wAAAAABAAEAAAABAAAAAAAAAAAAAQAAAAAAAQAAAAAAAAAAAAAAAQAAAAAAAQAAAAAAAAAAAAEAAAAAAAAAAQAAAAEAAAAAAAAA//8BAAEAAQAAAAAAAAAAAAEAAAAAAAEAAAAAAAEAAAABAAAAAAD+/wAAAAAAAAAAAAAAAAAAAQAAAAAAAAAAAAAAAQAAAAIAAAAAAAAAAAAAAP//AQAAAAAAAAAAAAAAAAAAAAAAAgAAAAAAAAAAAAEA//8BAP//AAAAAAAAAQD//wAAAQAAAAAAAAAAAAAAAAAAAAEAAAAAAAAAAAAAAAAAAAAAAAAAAQAAAAAAAQABAAAAAAAAAAEAAQABAAAAAAAAAAAAAAAAAAEAAQABAAEAAAAAAAAAAAAAAAEAAAAAAAAAAAABAAEAAQABAAAAAAAAAAAAAAAAAAAAAAABAP//AAABAAAAAAAAAAAAAAAAAAAAAAAAAAAAAAAAAAEAAAAAAAAAAAABAAAAAQAAAAAA//8AAAAAAQAAAAAAAAAAAAEAAQAAAAAAAQAAAAEA//8AAAIAAAABAAAAAAAAAAAAAAABAAAAAAAAAAAAAAAAAAAAAAAAAAAAAAAAAAAAAAAAAAEAAAABAAAAAAABAAAAAAAAAAAAAAAAAAEAAAAAAAIA/v8BAAEAAgABAAAAAgD//wAAAAABAAAAAQABAAAAAAAAAAEAAQABAAEAAgAAAAAAAAAAAAAAAQAAAAAAAgABAAAAAAAAAAEAAAAAAAEAAAAAAAAAAAAAAAIAAAAAAAEAAAABAAEAAAAAAAEAAAAAAAEAAgABAAEAAQAAAAAAAAAAAAAAAAAAAAAAAAABAAAAAAAAAAEAAAAAAAAAAQAAAAAAAAD//wAAAAABAAAAAAABAAAAAQAAAAAAAAAAAP//AAABAAAAAQAAAAEAAAAAAAEAAAAAAAAAAQAAAP//AgAAAAAAAQAAAAAAAAAAAAEAAQAAAAAAAAAAAAAAAAAAAAAAAAAAAAAAAAABAAEAAAAAAAAAAAAAAAAAAAAAAAAAAAAAAAAAAQAAAAAAAQAAAAAAAAAAAAAAAQAAAAAAAAAAAAAAAAABAAAAAAAAAAEAAAAAAAAAAQAAAAEA//8AAAAAAAAAAAAAAAAAAAAAAAABAAAAAAAAAAEAAQAAAAEA//8AAAAAAAABAAAAAAD//wAAAAAAAAAAAAAAAAEAAAABAAAAAAABAAAAAQAAAAAAAQAAAAAAAAAAAAAAAAAAAAEAAAAAAAAAAAAAAAAAAAAAAAAAAAAAAAAAAAAAAAAAAQAAAAEAAAAAAAAAAAAAAAAAAAAAAAEAAQABAAAAAQD//wEAAAABAAEAAAACAP//AAAAAAAAAQABAAAAAQAAAAAAAAAAAAEAAAAAAAEAAAAAAAAAAAAAAAEAAAAAAAEAAAAAAAAAAAABAAAAAAAAAAEAAAABAAAAAQAAAP//AQABAAEAAAAAAAAAAAAAAAAAAAABAAAAAAABAAAAAQAAAAAA/v8AAAAAAAAAAAAAAAAAAAEAAAAAAAAAAAAAAAEAAAACAAAAAAAAAAAAAAD//wEAAAAAAAAAAAAAAAAAAAAAAAIAAAAAAAAAAAABAP//AQAAAAAAAAAAAAEA//8AAAEAAAAAAAAAAAAAAAAAAAABAAAAAAAAAAAAAAAAAAAAAAAAAAEAAAAAAAEAAQAAAAAAAAABAAEAAQAAAAAAAAAAAAAAAAABAAEAAAABAAAAAAAAAAAAAAABAAAAAAAAAAAAAQAAAAEAAQAAAAAAAAAAAAAAAAAAAAAAAQD//wAAAQAAAAAAAAAAAAAAAAAAAAAAAAAAAAAAAAABAAAAAAAAAAEAAQAAAAEAAAAAAP//AAAAAAEAAAAAAAAAAAABAAEAAAAAAAEAAAABAP//AAACAAAAAAAAAAAAAAAAAAAAAQAAAAAAAAAAAAAAAAAAAAAAAAAAAAAAAAAAAAAAAAABAAAAAQAAAAAAAQAAAAAAAAAAAAAAAQABAAAAAAACAP7/AQABAAIAAQAAAAIA//8AAAAAAQAAAAEAAQAAAAAAAAAAAAEAAQAAAAIAAQAAAAAAAAAAAAEAAAAAAAIAAQAAAAAAAAABAAAAAAABAAAAAAAAAAAAAAACAAAAAAABAAAAAQABAAAAAAABAAAAAAABAAIAAQABAAEAAAAAAAAAAAAAAAAAAAAAAAAAAQAAAAAAAAAAAAAA/////wEAAAAAAAAA//8AAAAAAQAAAAAAAgAAAAEAAAAAAAAAAAD//wAAAgAAAAEAAAABAAAAAAABAAAAAAAAAAEAAAD//wIAAAAAAAEAAAAAAAAAAAAAAAEAAAAAAAAAAAAAAAAAAAAAAAAAAAAAAAAAAQABAAAAAAAAAAAAAAAAAAAAAAAAAAAAAAAAAAEAAAAAAAAAAAAAAAAAAAAAAAEAAAAAAAAAAAAAAAAAAQAAAAAAAAABAAAAAAAAAAEAAAABAP//AAAAAAAAAAAAAAAAAAAAAAAAAQAAAAAAAAABAAEAAAABAP//AAAAAAAAAQAAAAAA//8AAAAAAAAAAAAAAAABAAAAAQAAAAAAAQAAAAEAAAAAAAEAAAAAAAAAAAAAAAAAAAABAAEAAAAAAAAAAAAAAAAAAAAAAAAAAAAAAAAAAAAAAAEAAAABAAAAAAABAAAAAAAAAAAAAAABAAEAAQAAAAEA//8AAAEAAQABAP//AgD//wAAAAAAAAEAAQAAAAEAAAAAAAAAAAABAAAAAAABAAAAAAAAAAAAAAABAAAAAQABAAAAAAAAAAAAAQAAAAAAAAABAAAAAQAAAAEAAAD//wEAAQABAAAAAAAAAAEAAAAAAAEAAQABAAAAAQAAAAEAAAAAAP7/AAAAAAEAAAAAAAAAAAABAAAAAAAAAAAAAQABAAAAAgAAAAAAAAAAAAAA//8CAAAAAAAAAAAAAAAAAAAAAAACAAAAAQAAAAEAAQAAAAEAAAAAAP//AAABAP//AAABAAAAAQAAAAAAAAAAAAAAAQAAAAAAAAAAAAAAAAAAAAAAAAABAAAAAAABAAEAAQAAAAAAAQABAAEAAAAAAAAAAAAAAAAAAgAAAAEAAQAAAAAAAAAAAAAAAgAAAAAAAAAAAAEAAAABAAEAAAAAAAAAAAAAAAAAAAAAAAEA//8AAAAAAAAAAAAAAAAAAAAAAAABAAAAAAAAAAAAAQAAAAAA//8BAAAAAAABAAAA///+/wAAAAAAAAAAAAAAAAAAAQABAAAAAAABAAAAAQD//wAAAgAAAAEAAAAAAAAAAAAAAAEAAAAAAAAAAAAAAAAAAAAAAAAAAAAAAAEAAAAAAAAAAQAAAAEAAAAAAAEAAAAAAAAAAAAAAAEAAQAAAAAAAgD+/wEAAQACAAAAAAACAP//AAAAAAEAAAABAAEAAAAAAAAAAAABAAAAAAABAAAAAAAAAAAAAAABAAAAAAACAAEAAAAAAAAAAQAAAAAAAQAAAAAAAAAAAAAAAgAAAAAAAQAAAAEAAQAAAAAAAQAAAAAAAQABAAEAAQABAAAAAAAAAAAAAAAAAAAAAAAAAAEAAAAAAAAAAAAAAP//AAABAAAAAAABAAAAAQAAAAEAAAAAAAIAAAABAAEAAAAAAAAA//8AAAEAAAABAAAAAQAAAAAAAgAAAAAAAAABAAAA//8CAAAAAAABAAAAAAAAAAAAAAABAAAAAAAAAAAAAAAAAAAAAAAAAAAAAAAAAAEAAQAAAAAAAAAAAAAAAAAAAAAAAAAAAAAAAAABAAAAAAABAAAAAAAAAAAAAAACAAAAAAAAAAAAAQAAAAAAAAAAAAAAAQAAAAAAAAABAAAAAQD//wAAAAAAAAAAAAAAAAAAAAAAAAAAAAAAAAAAAAABAAAAAAD//wAAAQAAAAAAAAAAAP//AAAAAAAAAAAAAAAAAQAAAAEAAQAAAAEAAAABAAAAAAABAAAAAAAAAAAAAAAAAAAAAQABAAAAAAAAAAAAAQAAAAAAAAAAAAAAAAAAAAAAAAABAAAAAQAAAAAAAQAAAAAAAAAAAAAAAQABAAIAAAABAP//AAABAAAAAQD//wIAAAD//wAAAAABAAEAAAABAAAAAAAAAAAAAQAAAAAAAQAAAAAAAAAAAAAAAQAAAAAAAQAAAAAAAAAAAAEAAAAAAAAAAQAAAAEAAQAAAAEA//8AAAEAAQAAAAAAAAAAAAEAAAAAAAEAAQAAAAEAAAABAAAAAAD+/wAAAQABAAAAAAAAAAAAAQAAAAAAAAAAAAAAAQAAAAIAAAAAAAAAAAAAAP//AgAAAAAAAAAAAAAAAAAAAAAAAgAAAAAAAAABAAEAAAABAAAAAAAAAAAAAQD//wAAAQAAAAAAAAAAAAAAAAAAAAEAAAAAAAAAAAAAAAAAAAAAAAAAAQAAAAAAAQABAAEAAAAAAAEAAQABAAAAAAAAAAAAAQAAAAIAAQABAAEAAAAAAAAAAAAAAAIAAAAAAAAAAAABAAAAAQABAAAAAAABAAAAAAAAAAAAAAABAP//AAAAAAAAAAAAAAAAAAAAAAAAAQAAAAAAAAAAAAEAAAAAAAAAAQAAAAAAAQAAAP///v8AAAAAAAAAAAAAAAAAAAEAAQAAAAAAAQAAAAEA//8AAAEAAAABAAAAAAAAAAAAAAABAAAAAAAAAAAAAAAAAAAAAAAAAAAAAAABAAAAAAABAAEAAAACAAAAAAABAAAAAAAAAAAAAAABAAEAAAABAAIA//8BAAEAAgAAAAAAAQD//wAAAAABAAAAAQABAAAAAAAAAAEAAQAAAAAAAgAAAAAAAAAAAAAAAQAAAAAAAQAAAAAAAAAAAAEAAAAAAAEAAAAAAAAAAAAAAAIAAAAAAAEAAAABAAEAAAAAAAEAAAAAAAEAAQABAAEAAQAAAAAAAAAAAAAAAAAAAAAAAAABAAAAAAAAAAEAAAAAAAAAAQAAAAAAAAAAAAAAAAABAAAAAQABAAAAAQABAAAAAAAAAP//AAABAAAAAQAAAAEAAAAAAAIAAAAAAAAAAQAAAP//AgAAAAAAAQAAAAAAAAAAAAAAAQAAAAAAAAAAAAAAAAAAAAAAAAAAAAAAAAABAAEAAAAAAAAAAAAAAAAAAAAAAAAAAAAAAAAAAQAAAAAAAQAAAAAAAAAAAAAAAQAAAAAAAAAAAAAAAAAAAAAAAAAAAAEAAAAAAAAAAQAAAAEA//8AAAAAAAAAAAAAAAAAAAAAAAAAAAAAAAAAAAAAAQAAAAEA//8AAAEAAAABAAAAAAD//wAAAAAAAAAAAAAAAAEAAAABAAEAAAABAAAAAQAAAAAAAQAAAAAAAAAAAAAAAAAAAAEAAAAAAAAAAAAAAAAAAAAAAAAAAAAAAAAAAAAAAAAAAQAAAAEAAAAAAAEAAAAAAAAAAAAAAAEAAQACAAAAAQD//wAAAQAAAAEA//8CAAAA//8AAAAAAQABAAAAAQAAAAAAAAAAAAEAAAAAAAAAAAAAAAAAAAAAAAEAAAAAAAEAAAAAAAAAAAABAAAAAAAAAAEAAAAAAAEAAAABAP//AQABAAEAAAAAAAAAAAABAAAAAAABAAEAAAABAAAAAQAAAAAA/v8AAAEAAQAAAAAAAAAAAAEAAAAAAAAAAAAAAAEAAAACAAAAAAAAAAAAAAD//wEAAAAAAAAAAAAAAAAAAAAAAAIAAAAAAAAAAAABAP//AQAAAAAAAAAAAAEA//8AAAEAAAAAAAAAAAAAAAAAAAABAAAAAAAAAAAAAAAAAAAAAAAAAAEAAAAAAAEAAQABAAAAAAABAAEAAQAAAAAAAAAAAAEAAAABAAEAAQABAAAAAAAAAAAAAAABAAAAAAAAAAAAAQAAAAEAAQAAAAAAAQAAAAAAAAABAAAAAQD//wAAAQAAAAAAAAAAAAAAAAAAAAEAAAAAAAAAAAABAAAAAAAAAAEAAQAAAAEAAAAAAP//AAAAAAAAAAAAAAAAAAABAAEAAAAAAAEAAAABAP//AAACAAAAAQAAAAAAAAAAAAAAAQAAAAAAAAAAAAAAAAAAAAAAAAAAAAAAAQAAAAAAAAABAAAAAgAAAAAAAQAAAAAAAAAAAAAAAQABAAAAAAACAP//AQABAAIAAAAAAAEA//8AAAAAAQAAAAEAAQAAAAAAAAABAAEAAQABAAEAAAAAAAAAAAAAAAEAAAAAAAEAAQAAAAAAAAABAAAAAAABAAAAAAAAAAAAAAACAAAAAAABAAAAAQABAAAAAAABAAAAAAABAAEAAQABAAEAAAAAAAAAAAAAAAAAAAAAAAAAAQAAAAAAAAABAAAAAAAAAAEAAAAAAAAAAAAAAAAAAQAAAAEAAQAAAAEAAAAAAAAAAAAAAAAAAQAAAAEAAAABAAAAAAABAAAAAAAAAAEAAAAAAAIAAAAAAAEAAAAAAAAAAAABAAEAAAABAAAAAAAAAAAAAAAAAAAAAAAAAAAAAQABAAAAAAAAAAAAAAAAAAAAAAAAAAAAAAAAAAEAAAAAAAEAAAAAAAAAAAAAAAEAAAAAAAAAAAAAAAAAAAAAAAAAAAABAAAAAAAAAAEAAAABAP//AAAAAAAAAAAAAAAAAAAAAAAAAQAAAAAAAAABAAEAAAABAP//AAAAAAAAAQAAAAAA//8AAAAAAAAAAAAAAAABAAAAAQAAAAAAAQAAAAEAAAAAAAEAAAAAAAAAAAAAAAAAAAABAAAAAAAAAAAAAAAAAAAAAAAAAAAAAAAAAAAAAAAAAAEAAAABAAAAAAAAAAAAAAAAAAAAAAAAAAEAAQAAAAEA//8AAAAAAAABAP//AgD/////AAAAAAEAAAAAAAEAAAAAAAAAAAABAAAAAAABAAAAAAAAAAAAAAABAAAAAAABAAAAAAAAAAAAAQAAAAAAAAABAAAAAQAAAAAAAAD//wEAAQABAAAAAAAAAAAAAQAAAAAAAQAAAAAAAQAAAAEAAAAAAP7/AAAAAAAAAAAAAAAAAAABAAAAAAAAAAAAAAABAAAAAgAAAAAAAAAAAAAA//8BAAAAAAAAAAAAAAAAAAAAAAACAAAAAAAAAAAAAQD//wEAAAAAAAAAAAABAP//AAABAAAAAAAAAAAAAAAAAAAAAQAAAAAAAAAAAAAAAAAAAAAAAAABAAAAAAABAAEAAQAAAAAAAQABAAEAAAAAAAAAAAABAAAAAQABAAAAAQAAAAAAAAAAAAAAAQAAAAAAAAAAAAEAAAABAAEAAAAAAAEAAAAAAAAAAQAAAAEA//8AAAEAAAAAAAAAAAAAAAAAAAAAAAAAAAABAAAAAQAAAAAAAAAAAAEAAAABAAAAAAD//wAAAAAAAAAAAAAAAAAAAAABAAAAAAABAAAAAQD//wAAAgAAAAAAAAAAAAAAAAAAAAEAAAAAAAAAAAAAAAAAAAAAAAAAAAAAAAAAAAAAAAAAAQAAAAIAAAAAAAEAAAAAAAEAAAAAAAEAAQAAAAAAAgD+/wEAAQACAAEAAAACAP//AAAAAAEAAQABAAEAAAAAAAAAAAABAAAAAAABAAAAAAAAAAAAAAABAAAAAAABAAEAAAAAAAAAAQAAAAAAAQAAAAAAAAAAAAAAAgAAAAAAAQAAAAEAAQAAAAAAAQAAAAAAAQACAAEAAQABAAAAAAAAAAAAAAAAAAAAAAAAAAEAAAAAAAAAAAAAAAAAAAABAAAAAAAAAAAAAAAAAAEAAAABAAIAAAABAAAAAAAAAAAA//8AAAEAAAABAAAAAQAAAAAAAQAAAAAAAAABAAAA//8CAAAAAAABAAAAAAAAAAAAAAABAAAAAQAAAAAAAAAAAAAAAAAAAAAAAAAAAAEAAQAAAAAAAAAAAAAAAAAAAAAAAAAAAAAAAAABAAAAAAAAAAAAAAAAAAAAAAABAAAAAAAAAAAAAAAAAAEAAAAAAAAAAQAAAAAAAAABAAAAAQD//wAAAAAAAAAAAAAAAAAAAAAAAAEAAAAAAAAAAQABAAAAAQD//wAAAAAAAAEAAAAAAP//AAAAAAAAAAAAAAAAAQAAAAEAAAAAAAEAAAABAAAAAAABAAAAAAAAAAAAAAAAAAAAAQAAAAAAAAAAAAAAAAAAAAAAAAAAAAAAAAAAAAAAAAABAAAAAQAAAAAAAAAAAAAAAAAAAAAAAAABAAEAAAABAP//AAAAAAAAAQD//wIA//8AAAAAAAABAAAAAAABAAAAAAAAAAAAAQAAAAAAAQAAAAAAAAAAAAAAAQAAAAAAAQAAAAAAAAAAAAEAAAAAAAAAAQAAAAEAAAAAAAAA//8BAAEAAQAAAAAAAAAAAAAAAAAAAAEAAAAAAAEAAAABAAAAAAD+/wAAAAABAAAAAAAAAAAAAQAAAAAAAAAAAAAAAQAAAAIAAAAAAAAAAAAAAP//AQAAAAAAAAAAAAAAAAAAAAAAAgAAAAEAAAABAAEAAAABAAAAAAAAAAAAAQD//wAAAQAAAAAAAAAAAAAAAAAAAAEAAAAAAAAAAAAAAAAAAAAAAAAAAQAAAAAAAQABAAEAAAAAAAEAAQABAAAAAAAAAAAAAQAAAAEAAQABAAEAAAAAAAAAAAAAAAEAAAAAAAAAAAABAAAAAQABAAAAAAABAAAAAAAAAAEAAAABAP//AAABAAAAAAAAAAAAAAAAAAAAAQAAAAAAAAAAAAEAAAAAAAAAAQAAAAAAAQAAAAAA//8AAAAAAAAAAAAAAAAAAAEAAQAAAAAAAQAAAAEA//8AAAEAAAABAAAAAAAAAAAAAAABAAAAAAAAAAAAAAAAAAAAAAAAAAAAAAAAAAAAAAAAAAEAAAABAAAAAAABAAAAAAAAAAAAAAAAAAEAAAAAAAIA/v8BAAEAAgABAAAAAQD//wAAAAABAAAAAQABAAAAAAAAAAAAAQAAAAAAAQAAAAAAAAAAAAAAAQAAAAAAAQABAAAAAAAAAAEAAAAAAAEAAAAAAAAAAAAAAAIAAAAAAAEAAAABAAEAAAAAAAEAAAAAAAEAAQABAAEAAQAAAAAAAAAAAAAAAAAAAAAAAAABAAAAAAAAAAEAAAAAAAAAAQAAAAAAAAAAAAAAAAABAAAAAQACAAAAAQABAAAAAAAAAP//AAABAAAAAQAAAAEAAAAAAAEAAAAAAAAAAQAAAAAAAgAAAAAAAQAAAAAAAAAAAAAAAQAAAAEAAAAAAAAAAAAAAAAAAAAAAAAAAAABAAEAAAAAAAAAAAAAAAAAAAAAAAAAAAAAAAAAAQAAAAAAAQAAAAAAAAAAAAAAAQAAAAAAAAAAAAAAAAAAAAAAAAAAAAEAAAAAAAAAAQAAAAEA//8AAAAAAAAAAAAAAAAAAAAAAAABAAAAAAAAAAEAAQAAAAEAAAAAAAAAAAABAAAAAAD//wAAAAAAAAAAAAAAAAEAAAABAAAAAAABAAAAAQAAAAAAAQAAAAAAAAAAAAAAAAAAAAEAAAAAAAAAAAAAAAAAAAAAAAAAAAAAAAAAAAAAAAAAAQAAAAEAAAAAAAAAAAAAAAAAAAAAAAAAAQABAAAAAQD//wAAAAAAAAEA//8CAP////8AAAAAAQABAAAAAQAAAAAAAAAAAAEAAAAAAAEAAAAAAAAAAAAAAAEAAAAAAAEAAAAAAAAAAAABAAAAAAAAAAEA//8BAAAAAAAAAP//AQABAAEAAAAAAAAAAAAAAAAAAAABAAAAAAABAAAAAQAAAAAA/v8AAAAAAAAAAAAAAAAAAAEAAAAAAAAAAAAAAAEAAAACAAAAAAAAAAAAAAD//wEAAAAAAAAAAAAAAAAAAAAAAAIAAAABAAAAAQABAP//AQAAAAAAAAAAAAEA//8AAAEAAAAAAAAAAAAAAAAAAAABAAAAAAAAAAAAAAAAAAAAAAAAAAEAAAAAAAEAAQABAAAAAAABAAEAAQAAAAAAAAAAAAAAAAABAAEAAQABAAAAAAAAAAAAAAABAAAAAAAAAAAAAQAAAAEAAQAAAAAAAAAAAAAAAAAAAAAAAQD//wAAAQAAAAAAAAAAAAAAAAAAAAEAAAAAAAAAAAABAAAAAAAAAAEAAQAAAAEAAAAAAP//AAAAAAAAAAABAAAAAAABAAEAAAAAAAEAAAABAP//AAABAAAAAQAAAAAAAAAAAAAAAQAAAAAAAAAAAAAAAAAAAAAAAAAAAAAAAAAAAAAAAAABAAAAAQAAAAAAAAAAAAAAAAAAAAAAAAABAAAAAAACAP7/AQABAAEAAAAAAAEA//8AAAAAAQAAAAEAAQAAAAAAAAAAAAEAAAAAAAEAAAAAAAAAAAAAAAEAAAAAAAIAAQAAAAAAAAABAAAAAAABAAAAAAAAAAAAAAACAAAAAAAAAAAAAQABAAAAAAAAAAAAAAABAAEAAQABAAEAAAAAAAAAAAAAAAAAAAAAAAAAAQAAAAAAAAABAAAA//8AAAEAAAAAAAAAAAAAAAAAAQAAAAAAAQAAAAEAAQAAAAAAAAD//wAAAQAAAAEAAAABAAAAAAABAAAAAAAAAAEAAAD//wIAAAAAAAEAAAAAAAAAAAAAAAEAAAABAAAAAAAAAAAAAAAAAAAAAAAAAAAAAQABAAAAAAAAAAAAAAAAAAAAAAAAAAAAAAAAAAEAAAAAAAEAAAAAAAAAAAAAAAEAAAAAAAAAAAAAAAAAAQAAAAAAAAABAAAAAAAAAAEAAAABAP//AAAAAAAAAAAAAAAAAAAAAAAAAQAAAAAAAAABAAEAAAABAP//AAAAAAAAAQAAAAAA//8AAAAAAAAAAAAAAAABAAAAAQAAAAAAAQAAAAEAAAAAAAEAAAAAAAAAAAAAAAAAAAABAAAAAAAAAAAAAAAAAAAAAAAAAAAAAAAAAAAAAAAAAAEAAAABAAAAAAAAAAAAAAAAAAAAAAAAAAEAAQAAAAEA//8AAAAAAAABAP//AgD//wAAAAAAAAEAAAAAAAEAAAAAAAAAAAABAAAAAAAAAAAAAAAAAAAAAAABAAAAAAAAAAAAAAAAAAAAAAAAAAAAAAABAAAAAQAAAAAAAAD//wEAAAABAAAAAAAAAAAAAAAAAAAAAQAAAAAAAAAAAAEAAAAAAP7/AAABAAAAAAAAAAAAAAABAAAAAAAAAAAAAAABAAAAAgAAAAAAAAAAAAAA//8BAAAAAAAAAAAAAAAAAAAAAAACAAAAAAAAAAAAAQD//wEAAAAAAAAAAAABAAAAAAABAAAAAAAAAAAAAAAAAAAAAQAAAAAAAAAAAAAAAAABAAAAAAABAAAAAAABAAEAAAAAAAAAAQABAAEAAAAAAAAAAAABAAAAAQABAAAAAQAAAAAAAAAAAAAAAQAAAAAAAAAAAAEAAAAAAAEAAAAAAAAAAAAAAAAAAQAAAAEAAAAAAAEAAAAAAAAAAAAAAAAAAAAAAAAAAAABAAAAAQAAAAAAAAAAAAEAAAABAAAAAAD//wAAAAAAAAAAAAAAAAAAAAABAAAAAAABAAAAAQAAAAAAAgAAAAAAAAAAAAAAAAAAAAEAAAAAAAAAAAAAAAAAAAAAAAAAAAAAAAAAAAAAAAAAAQAAAAEAAAAAAAEAAAAAAAAAAAAAAAEAAQAAAAAAAgD+/wEAAQABAAEA//8BAP//AAAAAAEAAAABAAEAAAAAAAAAAAABAAAAAAABAAAAAAAAAAAAAAABAAAAAAACAAEAAAAAAAAAAQAAAAAAAQAAAAAAAAAAAAAAAgAAAAAAAQAAAAEAAQAAAAAAAAAAAAAAAQABAAEAAQABAAAAAAAAAAAAAAAAAAAAAAAAAAEAAAAAAAAAAAAAAP////8BAAAAAAAAAP//AAAAAAEAAAAAAAIAAAABAAAAAAAAAAAA//8AAAEAAAACAAAAAQAAAAAAAQAAAAAAAAABAAAA//8CAAAAAAABAAAAAAAAAAAAAQABAAAAAQAAAAAAAAAAAAAAAAAAAAAAAAAAAAEAAQAAAAAAAAAAAAAAAAAAAAAAAAAAAAAAAAABAAAAAAAAAAAAAAAAAAAAAAABAAAAAAAAAAAAAAAAAAEAAAAAAAAAAQAAAAAAAAABAAAAAQD//wAAAAAAAAAAAAAAAAAAAAAAAAEAAAAAAAAAAQABAAAAAQAAAAEAAAAAAAEAAAAAAP//AAAAAAAAAAAAAAAAAQAAAAEAAAAAAAEAAAABAAAAAAABAAAAAAAAAAAAAAAAAAAAAQABAAAAAAAAAAAAAAAAAAAAAAAAAAAAAAAAAAAAAAABAAAAAQAAAAAAAAAAAAAAAAAAAAAAAQABAAAAAAABAP7/AAAAAAAAAAD//wIA//8AAAAAAAAAAAAAAAABAAAAAAAAAAAAAQAAAAAAAAAAAAAAAAAAAAAAAQAAAAAAAQAAAAAAAAAAAAAAAAAAAAAAAQAAAAEAAAAAAAAA//8BAAEAAQAAAAAAAAABAAEAAAAAAAEAAAAAAAEAAAABAAAAAAD+/wAAAQABAAAAAAAAAAAAAQAAAAAAAAAAAAAAAQAAAAIAAAAAAAAAAAAAAP//AQAAAAAAAAAAAAAAAAAAAAAAAgAAAAAAAAABAAEA//8BAP//AAAAAAAAAQD//wAAAQAAAAAAAAAAAAAAAAAAAAEAAAAAAAAAAAAAAAAAAAAAAAAAAQAAAAAAAQABAAEAAAAAAAEAAQABAAAAAAAAAAAAAQAAAAIAAQAAAAEAAAAAAAAAAAAAAAEAAAAAAAAAAAABAAAAAAABAAAAAAABAAAAAAAAAAEAAAACAAAAAAABAAAAAAAAAAAAAAAAAAAAAAAAAAAAAQAAAAIAAAABAAAAAAABAAAAAQAAAAAA//8AAAAAAAAAAAEAAAABAAEAAQAAAAAAAQAAAAEAAAAAAAEAAAAAAAAAAAAAAAAAAAABAAAAAAAAAAAAAAAAAAAAAAAAAAAAAAAAAAAAAAAAAAEAAAACAAAAAAABAAAAAAAAAAAAAQABAAEAAAAAAAIA//8BAAEAAgABAAAAAQD//wAAAAABAAEAAQABAAAAAAAAAAAAAQABAAAAAQAAAAAAAAAAAAAAAQAAAAAAAgABAAAAAAAAAAEAAAAAAAEAAAAAAAAAAAAAAAEAAAAAAAEAAAABAAEAAAAAAAAAAAAAAAEAAQABAAEAAQAAAAAAAAAAAAAAAAAAAAAAAAABAAAAAAAAAAAAAAD//wAAAQAAAAAAAAD//wAAAAABAAAAAQABAAAAAQAAAAAAAAAAAP//AAABAAAAAQAAAAEAAAAAAAEAAAAAAAAAAQAAAP//AgAAAAAAAAAAAAAAAAAAAAEAAQAAAAEAAAAAAAAAAAAAAAAAAAAAAAAAAAABAAEAAAAAAAAAAAAAAAAAAAAAAAAAAAAAAAAAAQAAAAEAAAAAAAAAAAAAAAAAAQAAAAAAAAAAAAAAAAABAAAAAAAAAAEAAQAAAAAAAQABAAEAAAABAAAAAAABAAAAAAAAAAAAAAABAAAAAAAAAAEAAAAAAAEAAAABAAAAAAABAAAAAAD//wAAAAAAAAAAAAAAAAAAAAAAAAAAAAABAAAAAQAAAAEAAAAAAAAAAAAAAAAAAAAAAAEAAAAAAAAAAAAAAAAAAAAAAAAAAAAAAAEAAAAAAAEAAQAAAAEAAAAAAAAAAAAAAAAAAAAAAAEAAQAAAAAAAQD+/wEAAAABAAAAAAACAP//AAAAAAAAAAAAAAAAAQAAAAAAAAAAAAAAAAABAAAAAAAAAAAAAAAAAAEAAAAAAAEAAAAAAAAAAAAAAAAAAAAAAAAA//8BAAAAAQAAAP//AQAAAAAAAAAAAAAAAAAAAAAAAAABAAAAAAAAAAAAAQAAAAAA/v8AAAAAAAAAAAAAAAAAAAAAAAAAAAAAAAABAAEAAAACAAAAAQAAAAAAAAD//wEAAAAAAAAAAAAAAAAAAAAAAAIAAAAAAAAAAQABAAAAAQAAAAAAAAAAAAEA//8AAAEAAAAAAAAAAAAAAAAA//8BAAAAAAAAAAAAAAAAAAAAAAAAAAAAAAAAAAEAAQAAAAAAAAAAAAAAAQAAAAAAAAAAAAAAAAABAAEAAAABAAAAAAAAAAAAAAABAAAAAAAAAAAAAQAAAAEAAQAAAAAAAAAAAAAAAAABAAAAAgAAAAAAAQAAAAAAAAAAAAAAAQAAAAAAAAAAAAEAAAACAAAAAQAAAAAAAQAAAAEAAAAAAP//AAAAAAAAAAABAAAAAQABAAEAAQAAAAEAAAABAAAAAAABAAAAAAAAAAAAAAAAAAAAAAAAAAAAAAAAAAAAAAAAAAAAAAAAAAAAAAAAAAAAAAABAAAAAQAAAAAAAQAAAAAAAQAAAAEAAQABAAEAAAACAP//AAABAAEAAQD//wEAAAAAAAAAAQABAAEAAQABAAAAAAAAAAAAAQAAAAEAAQAAAAAAAQAAAAEAAAAAAAIAAQAAAAAAAAAAAAEAAAAAAAAAAQAAAAAAAAABAAAA//8BAAEAAQABAAAA//8AAAAAAAAAAAEAAQAAAAAAAAAAAAAAAAD//wAAAAAAAAAAAQAAAAAAAAAAAAAAAAD//wEAAAAAAAEAAAAAAAAAAQD//wAAAgAAAAEAAAAAAAAAAAAAAAAAAwAAAAIAAAABAAAAAAABAP//AAD//wEAAAAAAAIAAQAAAAEAAAAAAAAAAAAAAAEAAAAAAAAAAAAAAAAAAAAAAAAAAQAAAAAAAQABAAEAAAAAAAAAAQABAAAAAAAAAAAAAQAAAAEAAAAAAAAAAAAAAAAAAAAAAAEAAAAAAAAAAAAAAAAAAQAAAAAAAAABAAAAAAAAAAEAAQABAP//AAAAAAAAAQAAAAAAAAAAAAAAAQAAAAAAAAABAAEAAAABAAAAAQAAAAAAAQAAAAAA//8AAAAAAAAAAAAAAAAAAAEAAAAAAAEAAQABAAEAAAABAAAAAAABAAAAAAAAAAAAAAAAAAAAAAAAAAAAAAAAAAAAAAAAAAAAAAAAAAAAAAABAAAAAAAAAAAAAAAAAAAAAAAAAAAAAAAAAAAAAAABAAEA//8BAAEAAQAAAAAAAQD//wAAAAABAAAAAQAAAAAAAAAAAAAAAQABAAEAAQAAAAAAAAABAAAAAQAAAAAAAgAAAAAAAAAAAAEAAAAAAAIAAAAAAAAAAAAAAAIAAAAAAAEAAAABAAAAAAAAAAEAAAAAAAEAAgABAAEAAAAAAAAAAAAAAAAAAAAAAAAAAAABAAAA//8AAAEAAAAAAAAAAQAAAAEAAQD//wAAAAAAAP//AAABAAAAAQAAAAAAAAAAAP//AAACAAAAAQAAAAEAAAAAAAIAAAAAAAAAAAAAAP//AQAAAAAAAQAAAAAAAAAAAAAAAQAAAAAAAAAAAAAAAAAAAAAAAAAAAAAAAAABAAEAAAAAAAAAAAAAAAAAAAAAAAAAAAAAAAAAAgAAAAAAAQAAAAAAAAAAAAAAAgAAAAAAAAAAAAEAAAAAAAEAAAAAAAAAAAAAAAAAAAAAAAEAAAAAAAEAAAAAAP//AAAAAAAAAAABAAAAAAAAAAAAAgAAAAEAAAABAAEAAAABAAAAAAD//wAAAAAAAAAAAAAAAAEAAAABAAEAAAABAAAAAgAAAAAAAgAAAAAAAQAAAAAAAAAAAAEAAAAAAAAAAAABAAEAAAAAAAAAAAAAAAAAAAAAAAAAAQAAAAEAAAAAAAEAAAAAAAAAAAAAAAAAAQAAAAAAAgD+/wEAAAABAAAAAAABAAAAAAAAAAEAAQABAAEAAQAAAAAAAAAAAAEAAAABAAEAAAAAAAAAAAABAAAAAAACAAEAAAAAAAAAAAABAAAAAAAAAAAA//8AAAAAAQAAAAAAAQAAAAIAAQABAAAAAQAAAAAAAQABAAAAAQAAAAAAAAAAAAAA/////wAAAAAAAAEA/v8AAAAAAQAAAAAA//8BAAAAAAABAP//AQAAAAEA//8AAAEAAAAAAAAAAAAAAP////8AAAIAAAACAAAAAQAAAAAAAgD//////v8AAAAA//8BAAAAAAABAAAAAAAAAAAAAAABAAAAAAAAAAAAAAAAAAAAAAAAAAEAAAAAAAEAAAAAAAAAAgAAAAEAAAD//wAAAAABAAAAAAABAAAAAAAAAAAAAAAAAAAAAAABAAAAAAAAAAAAAgAAAAEAAQAAAAAAAQAAAAAAAQAAAAEAAQAAAAAAAAAAAAEAAAAAAAEAAAAAAAEAAAAAAAAAAAABAAAAAQD//wEAAAAAAAAAAAAAAAAAAAAAAAAAAAAAAAEAAAAAAAEAAAAAAAAAAAAAAAAAAQAAAAAAAAACAAAAAgD//wEAAAAAAAEAAAABAAEAAAAAAAEAAAA=\" type=\"audio/wav\" />\n",
       "                    Your browser does not support the audio element.\n",
       "                </audio>\n",
       "              "
      ],
      "text/plain": [
       "<IPython.lib.display.Audio object>"
      ]
     },
     "execution_count": 176,
     "metadata": {},
     "output_type": "execute_result"
    }
   ],
   "source": [
    "from IPython.display import Audio\n",
    "\n",
    "Audio(speech.numpy(), rate=16000)"
   ]
  }
 ],
 "metadata": {
  "kaggle": {
   "accelerator": "nvidiaTeslaT4",
   "dataSources": [
    {
     "datasetId": 2487958,
     "sourceId": 4220930,
     "sourceType": "datasetVersion"
    }
   ],
   "dockerImageVersionId": 30822,
   "isGpuEnabled": true,
   "isInternetEnabled": true,
   "language": "python",
   "sourceType": "notebook"
  },
  "kernelspec": {
   "display_name": "base",
   "language": "python",
   "name": "python3"
  },
  "language_info": {
   "codemirror_mode": {
    "name": "ipython",
    "version": 3
   },
   "file_extension": ".py",
   "mimetype": "text/x-python",
   "name": "python",
   "nbconvert_exporter": "python",
   "pygments_lexer": "ipython3",
   "version": "3.12.7"
  }
 },
 "nbformat": 4,
 "nbformat_minor": 4
}
