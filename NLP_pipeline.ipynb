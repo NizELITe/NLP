{
  "nbformat": 4,
  "nbformat_minor": 0,
  "metadata": {
    "colab": {
      "provenance": []
    },
    "kernelspec": {
      "name": "python3",
      "display_name": "Python 3"
    },
    "language_info": {
      "name": "python"
    }
  },
  "cells": [
    {
      "cell_type": "code",
      "execution_count": null,
      "metadata": {
        "id": "Em24asT7zrhE"
      },
      "outputs": [],
      "source": []
    },
    {
      "cell_type": "code",
      "source": [
        "import re\n",
        "def process_file(file_path):\n",
        "\n",
        "\n",
        "    with open(file_path, 'r') as f:\n",
        "        data = f.read()\n",
        "\n",
        "    # Step 1: Extract username\n",
        "    username_match = re.search(r\"([^\\n]+)\\s+(?:2nd degree|3rd degree)\", data)\n",
        "    username = username_match.group(1).strip() if username_match else \"Not available\"\n",
        "\n",
        "    # Step 2: Extract number of connections\n",
        "    connections_match = re.search(r\"(\\d+)\\s+connections\", data)\n",
        "    connections = connections_match.group(1) if connections_match else \"Not available\"\n",
        "\n",
        "    # Step 3: Extract experience and calculate total years and months\n",
        "    experience_pattern = r\"Experience(.*?)Education\"\n",
        "    experience_section = re.search(experience_pattern, data, re.DOTALL)\n",
        "    experience_section = experience_section.group(1).strip() if experience_section else \"\"\n",
        "\n",
        "    duration_pattern = r\"(\\d+)\\s+yrs(?:\\s+(\\d+)\\s+mos)?\"\n",
        "    matches = re.findall(duration_pattern, experience_section)\n",
        "\n",
        "    # Remove duplicates by converting to a set\n",
        "    unique_matches = list(set(matches))\n",
        "\n",
        "    # Calculate total years and months\n",
        "    total_years = 0\n",
        "    total_months = 0\n",
        "    for match in unique_matches:\n",
        "        years = int(match[0]) if match[0] else 0\n",
        "        months = int(match[1]) if match[1] else 0\n",
        "        total_years += years\n",
        "        total_months += months\n",
        "\n",
        "    # Convert months to years if needed\n",
        "    total_years += total_months // 12\n",
        "    total_months = total_months % 12\n",
        "\n",
        "    # Step 4: Extract education\n",
        "    education_pattern = r\"Education(.*?)(Contact info|$)\"\n",
        "    education = re.search(education_pattern, data, re.DOTALL)\n",
        "    education = education.group(1).strip() if education else \"Not available\"\n",
        "\n",
        "    # Step 5: Extract the highest-priority degree\n",
        "    priorities = [\"PhD\", \"MS\", \"BS\"]\n",
        "    def extract_highest_priority_degree(data, priorities):\n",
        "        for degree in priorities:\n",
        "            if degree in data:\n",
        "                return degree\n",
        "        return \"None\"\n",
        "    highest_degree = extract_highest_priority_degree(education, priorities)\n",
        "\n",
        "    # Step 6: Extract recent post timing\n",
        "    post_pattern = r'(\\d+)(mo|d|yr)'\n",
        "    post_match = re.findall(post_pattern, data)\n",
        "    if post_match:\n",
        "        number, unit = post_match[0]\n",
        "        if unit == 'mo':\n",
        "            recent_post = f\"{number} months\"\n",
        "        elif unit == 'yr':\n",
        "            recent_post = f\"{number} years\"\n",
        "        elif unit == 'd':\n",
        "            recent_post = f\"{number} days\"\n",
        "        else:\n",
        "            recent_post = \"Not available\"\n",
        "    else:\n",
        "        recent_post = \"Not available\"\n",
        "\n",
        "    # Step 7: Extract reactions, comments, and repost counts\n",
        "    reaction_regex = r'like\\w*\\s*(\\d+)\\s*'\n",
        "    comments_regex = r'(\\d+)\\s*comments'\n",
        "    reposts_regex = r'(\\d+)\\s*reposts'\n",
        "    reaction_match = re.search(reaction_regex, data)\n",
        "    comments_match = re.search(comments_regex, data)\n",
        "    reposts_match = re.search(reposts_regex, data)\n",
        "    reactions = reaction_match.group(1) if reaction_match else \"Not available\"\n",
        "    comments = comments_match.group(1) if comments_match else \"Not available\"\n",
        "    reposts = reposts_match.group(1) if reposts_match else \"Not available\"\n",
        "\n",
        "    # Compile all results into a dictionary\n",
        "    results = {\n",
        "        \"Username\": username,\n",
        "        \"Education\": highest_degree,\n",
        "        \"Experience (Years)\": total_years,\n",
        "        \"Experience (Months)\": total_months,\n",
        "        \"Connections\": connections,\n",
        "        \"Recent Post\": recent_post,\n",
        "        \"Reactions on Recent Post\": reactions,\n",
        "        \"Comments on Recent Post\": comments,\n",
        "        \"Repost Count on Recent Post\": reposts,\n",
        "    }\n",
        "\n",
        "    return results\n"
      ],
      "metadata": {
        "id": "CvHHe4W_idWV"
      },
      "execution_count": null,
      "outputs": []
    },
    {
      "cell_type": "code",
      "source": [
        "file_path2 = '/content/andrew ng.txt'\n",
        "output2 = process_file(file_path2)\n",
        "\n",
        "\n",
        "for key, value in output2.items():\n",
        "    print(f\"{key}: {value}\")"
      ],
      "metadata": {
        "colab": {
          "base_uri": "https://localhost:8080/"
        },
        "id": "lkL6nHO0iiYW",
        "outputId": "723d06e8-79c8-4c57-e7a4-2f17ebdacec3"
      },
      "execution_count": null,
      "outputs": [
        {
          "output_type": "stream",
          "name": "stdout",
          "text": [
            "Username: Andrew Ng\n",
            "Education: PhD\n",
            "Experience (Years): 56\n",
            "Experience (Months): 9\n",
            "Connections: 24\n",
            "Recent Post: 1 days\n",
            "Reactions on Recent Post: 2\n",
            "Comments on Recent Post: 87\n",
            "Repost Count on Recent Post: 130\n"
          ]
        }
      ]
    }
  ]
}